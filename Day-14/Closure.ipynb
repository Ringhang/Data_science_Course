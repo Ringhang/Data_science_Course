{
 "cells": [
  {
   "cell_type": "code",
   "execution_count": 13,
   "id": "398b44fb",
   "metadata": {},
   "outputs": [],
   "source": [
    " def outer_function(x):\n",
    "    def inner_function(y):\n",
    "        return x+y\n",
    "    return inner_function #return is important"
   ]
  },
  {
   "cell_type": "code",
   "execution_count": 14,
   "id": "4cb0cccc",
   "metadata": {},
   "outputs": [
    {
     "name": "stdout",
     "output_type": "stream",
     "text": [
      "11\n"
     ]
    }
   ],
   "source": [
    "closure=outer_function(5)\n",
    "result=closure(6) #inner_function y is called\n",
    "print(result)\n"
   ]
  },
  {
   "cell_type": "code",
   "execution_count": 15,
   "id": "bd0a3c14",
   "metadata": {},
   "outputs": [
    {
     "name": "stdout",
     "output_type": "stream",
     "text": [
      "8\n"
     ]
    }
   ],
   "source": [
    "closure=outer_function(5)\n",
    "#closure  does not hold a value for data type or a class type\n",
    "#but it holds an entire function inner_function\n",
    "result=closure(3)\n",
    "print(result)"
   ]
  },
  {
   "cell_type": "code",
   "execution_count": null,
   "id": "29050f81",
   "metadata": {},
   "outputs": [],
   "source": []
  },
  {
   "cell_type": "code",
   "execution_count": 16,
   "id": "29a8d94c",
   "metadata": {},
   "outputs": [],
   "source": [
    "def outer_function(x):\n",
    "    def inner_function(y):\n",
    "        return x+y\n",
    "    def inner2():\n",
    "        pass\n",
    "    return inner_function, inner2\n"
   ]
  },
  {
   "cell_type": "code",
   "execution_count": 17,
   "id": "72f238d9",
   "metadata": {},
   "outputs": [],
   "source": [
    "closure=outer_function(5)"
   ]
  },
  {
   "cell_type": "code",
   "execution_count": 20,
   "id": "5c032146",
   "metadata": {},
   "outputs": [
    {
     "data": {
      "text/plain": [
       "(<function __main__.outer_function.<locals>.inner_function(y)>,\n",
       " <function __main__.outer_function.<locals>.inner2()>)"
      ]
     },
     "execution_count": 20,
     "metadata": {},
     "output_type": "execute_result"
    }
   ],
   "source": [
    "closure"
   ]
  },
  {
   "cell_type": "code",
   "execution_count": 21,
   "id": "40e9bfd8",
   "metadata": {},
   "outputs": [
    {
     "ename": "TypeError",
     "evalue": "'tuple' object is not callable",
     "output_type": "error",
     "traceback": [
      "\u001b[1;31m---------------------------------------------------------------------------\u001b[0m",
      "\u001b[1;31mTypeError\u001b[0m                                 Traceback (most recent call last)",
      "Cell \u001b[1;32mIn[21], line 1\u001b[0m\n\u001b[1;32m----> 1\u001b[0m \u001b[43mclosure\u001b[49m\u001b[43m(\u001b[49m\u001b[43m)\u001b[49m\n",
      "\u001b[1;31mTypeError\u001b[0m: 'tuple' object is not callable"
     ]
    }
   ],
   "source": [
    "closure()"
   ]
  },
  {
   "cell_type": "code",
   "execution_count": 22,
   "id": "b43552a1",
   "metadata": {},
   "outputs": [
    {
     "data": {
      "text/plain": [
       "7"
      ]
     },
     "execution_count": 22,
     "metadata": {},
     "output_type": "execute_result"
    }
   ],
   "source": [
    "#closure=(inner_function,inner2)\n",
    "closure[0](2)"
   ]
  },
  {
   "cell_type": "code",
   "execution_count": 23,
   "id": "5989e496",
   "metadata": {},
   "outputs": [],
   "source": [
    "closure1,closure2=outer_function(5)\n",
    "#closure1=inner_function()\n",
    "#closure2=inner2()"
   ]
  },
  {
   "cell_type": "code",
   "execution_count": null,
   "id": "95ba2d0b",
   "metadata": {},
   "outputs": [],
   "source": []
  },
  {
   "cell_type": "code",
   "execution_count": 26,
   "id": "e40aa85c",
   "metadata": {},
   "outputs": [],
   "source": [
    "def counter():\n",
    "    count=0\n",
    "    def inner():\n",
    "        nonlocal count\n",
    "        count +=1\n",
    "        return count\n",
    "    return inner"
   ]
  },
  {
   "cell_type": "code",
   "execution_count": 29,
   "id": "45c4d1cf",
   "metadata": {},
   "outputs": [
    {
     "name": "stdout",
     "output_type": "stream",
     "text": [
      "1\n",
      "2\n",
      "3\n",
      "\n",
      "1\n",
      "2\n"
     ]
    }
   ],
   "source": [
    "c1=counter()\n",
    "print(c1())\n",
    "print(c1())\n",
    "print(c1())\n",
    "print()\n",
    "      \n",
    "c2=counter()\n",
    "print(c2())\n",
    "print(c2())"
   ]
  },
  {
   "cell_type": "code",
   "execution_count": null,
   "id": "bb0389e0",
   "metadata": {},
   "outputs": [],
   "source": []
  }
 ],
 "metadata": {
  "kernelspec": {
   "display_name": "Python 3 (ipykernel)",
   "language": "python",
   "name": "python3"
  },
  "language_info": {
   "codemirror_mode": {
    "name": "ipython",
    "version": 3
   },
   "file_extension": ".py",
   "mimetype": "text/x-python",
   "name": "python",
   "nbconvert_exporter": "python",
   "pygments_lexer": "ipython3",
   "version": "3.11.3"
  }
 },
 "nbformat": 4,
 "nbformat_minor": 5
}
