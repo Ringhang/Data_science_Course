{
 "cells": [
  {
   "cell_type": "code",
   "execution_count": 16,
   "id": "27391794",
   "metadata": {},
   "outputs": [],
   "source": [
    "class Point:\n",
    "    def __init__(self,x,y):\n",
    "        self.x=x\n",
    "        self.y=y\n",
    "    \n",
    "    def __add__(self,other):\n",
    "        x=self.x+self.x\n",
    "        y=self.y+self.y\n",
    "        return Point(x,y)\n",
    "    \n",
    "    def __sub__(self,other):\n",
    "        x=self.x-self.x\n",
    "        y=self.y-self.y\n",
    "        return Point(x,y)\n",
    "        \n",
    "    def __mul__(self,other):\n",
    "        x=self.x*other.x\n",
    "        y=self.y*other.y\n",
    "        return Point(x,y)\n",
    "    \n",
    "    def __truediv__(self,other):\n",
    "        x=self.x/self.x\n",
    "        y=self.y/self.y\n",
    "        return Point(x,y)\n",
    "    \n",
    "    def __eq__(self,other):\n",
    "        return self.x==other.x and self.y==other.y\n",
    "    def __it__(self,other):\n",
    "        return self.x < other.x and self.y < other.y\n",
    "    def __repr__(self):\n",
    "        return f\"({self.x},{self.y})\"\n",
    "        "
   ]
  },
  {
   "cell_type": "code",
   "execution_count": 22,
   "id": "c368a51d",
   "metadata": {},
   "outputs": [
    {
     "name": "stdout",
     "output_type": "stream",
     "text": [
      "(2,4)\n",
      "(0,0)\n",
      "(4,10)\n",
      "(1.0,1.0)\n",
      "False\n"
     ]
    },
    {
     "ename": "TypeError",
     "evalue": "'<' not supported between instances of 'Point' and 'Point'",
     "output_type": "error",
     "traceback": [
      "\u001b[1;31m---------------------------------------------------------------------------\u001b[0m",
      "\u001b[1;31mTypeError\u001b[0m                                 Traceback (most recent call last)",
      "Cell \u001b[1;32mIn[22], line 8\u001b[0m\n\u001b[0;32m      6\u001b[0m \u001b[38;5;28mprint\u001b[39m(p2 \u001b[38;5;241m/\u001b[39m p1)\n\u001b[0;32m      7\u001b[0m \u001b[38;5;28mprint\u001b[39m(p1 \u001b[38;5;241m==\u001b[39m p2)\n\u001b[1;32m----> 8\u001b[0m \u001b[38;5;28mprint\u001b[39m(\u001b[43mp1\u001b[49m\u001b[43m \u001b[49m\u001b[38;5;241;43m<\u001b[39;49m\u001b[43m \u001b[49m\u001b[43mp2\u001b[49m)\n",
      "\u001b[1;31mTypeError\u001b[0m: '<' not supported between instances of 'Point' and 'Point'"
     ]
    }
   ],
   "source": [
    "p1=Point(1,2)\n",
    "p2=Point(4,5)\n",
    "print(p1 + p2)\n",
    "print( p2-p1)\n",
    "print( p1*p2 )\n",
    "print(p2 / p1)\n",
    "print(p1 == p2)\n",
    "print(p1 < p2)"
   ]
  },
  {
   "cell_type": "code",
   "execution_count": null,
   "id": "e2b85b23",
   "metadata": {},
   "outputs": [],
   "source": []
  },
  {
   "cell_type": "code",
   "execution_count": null,
   "id": "3f84a357",
   "metadata": {},
   "outputs": [],
   "source": []
  }
 ],
 "metadata": {
  "kernelspec": {
   "display_name": "Python 3 (ipykernel)",
   "language": "python",
   "name": "python3"
  },
  "language_info": {
   "codemirror_mode": {
    "name": "ipython",
    "version": 3
   },
   "file_extension": ".py",
   "mimetype": "text/x-python",
   "name": "python",
   "nbconvert_exporter": "python",
   "pygments_lexer": "ipython3",
   "version": "3.11.3"
  }
 },
 "nbformat": 4,
 "nbformat_minor": 5
}
