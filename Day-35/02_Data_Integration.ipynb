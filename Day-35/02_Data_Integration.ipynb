{
 "cells": [
  {
   "cell_type": "code",
   "execution_count": 1,
   "id": "4c6c049e",
   "metadata": {},
   "outputs": [],
   "source": [
    "import pandas as pd"
   ]
  },
  {
   "cell_type": "markdown",
   "id": "7c1905f3",
   "metadata": {},
   "source": [
    "# Concatenation"
   ]
  },
  {
   "cell_type": "code",
   "execution_count": 2,
   "id": "6180101d",
   "metadata": {},
   "outputs": [
    {
     "name": "stdout",
     "output_type": "stream",
     "text": [
      "Concatenation by Row:\n",
      "    A  B\n",
      "0  1  4\n",
      "1  2  5\n",
      "2  3  6\n",
      "0  4  7\n",
      "1  5  8\n",
      "2  6  9\n",
      "\n",
      "Concatenation by Column:\n",
      "    A  B  A  B\n",
      "0  1  4  4  7\n",
      "1  2  5  5  8\n",
      "2  3  6  6  9\n"
     ]
    }
   ],
   "source": [
    "# create two sample dataframes\n",
    "df1 = pd.DataFrame({'A': [1, 2, 3], 'B': [4, 5, 6]})\n",
    "df2 = pd.DataFrame({'A': [4, 5, 6], 'B': [7, 8, 9]})\n",
    "\n",
    "# concatenate dataframes along rows (axis=0)\n",
    "row_concatenated = pd.concat([df1, df2], axis=0)\n",
    "\n",
    "# concatenate dataframes along columns (axis=1)\n",
    "col_concatenated = pd.concat([df1, df2], axis=1)\n",
    "\n",
    "# print the concatenated dataframes\n",
    "print(\"Concatenation by Row:\\n\", row_concatenated)\n",
    "print(\"\\nConcatenation by Column:\\n\", col_concatenated)"
   ]
  },
  {
   "cell_type": "code",
   "execution_count": 3,
   "id": "cc3adb3a",
   "metadata": {},
   "outputs": [
    {
     "name": "stdout",
     "output_type": "stream",
     "text": [
      "Concatenation by Row:\n",
      "      A    B    C    D\n",
      "0  1.0  4.0  NaN  NaN\n",
      "1  2.0  5.0  NaN  NaN\n",
      "2  3.0  6.0  NaN  NaN\n",
      "0  4.0  7.0  NaN  NaN\n",
      "1  5.0  8.0  NaN  NaN\n",
      "2  6.0  9.0  NaN  NaN\n",
      "0  NaN  NaN  5.0  8.0\n",
      "1  NaN  NaN  6.0  9.0\n",
      "\n",
      "Concatenation by Column:\n",
      "    A  B  A  B    C    D\n",
      "0  1  4  4  7  5.0  8.0\n",
      "1  2  5  5  8  6.0  9.0\n",
      "2  3  6  6  9  NaN  NaN\n"
     ]
    }
   ],
   "source": [
    "# create two sample dataframes\n",
    "df1 = pd.DataFrame({'A': [1, 2, 3], 'B': [4, 5, 6]})\n",
    "df2 = pd.DataFrame({'A': [4, 5, 6], 'B': [7, 8, 9]})\n",
    "df3 = pd.DataFrame({'C': [5, 6], 'D': [8, 9]})\n",
    "\n",
    "# concatenate dataframes along rows (axis=0)\n",
    "row_concatenated = pd.concat([df1, df2, df3], axis=0)\n",
    "\n",
    "# concatenate dataframes along columns (axis=1)\n",
    "col_concatenated = pd.concat([df1, df2, df3], axis=1)\n",
    "\n",
    "# print the concatenated dataframes\n",
    "print(\"Concatenation by Row:\\n\", row_concatenated)\n",
    "print(\"\\nConcatenation by Column:\\n\", col_concatenated)"
   ]
  },
  {
   "cell_type": "markdown",
   "id": "f222b24c",
   "metadata": {},
   "source": [
    "# Mer"
   ]
  }
 ],
 "metadata": {
  "kernelspec": {
   "display_name": "Python 3 (ipykernel)",
   "language": "python",
   "name": "python3"
  },
  "language_info": {
   "codemirror_mode": {
    "name": "ipython",
    "version": 3
   },
   "file_extension": ".py",
   "mimetype": "text/x-python",
   "name": "python",
   "nbconvert_exporter": "python",
   "pygments_lexer": "ipython3",
   "version": "3.11.3"
  }
 },
 "nbformat": 4,
 "nbformat_minor": 5
}
