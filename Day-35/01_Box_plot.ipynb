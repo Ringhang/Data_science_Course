{
 "cells": [
  {
   "cell_type": "code",
   "execution_count": 36,
   "id": "c5665676",
   "metadata": {},
   "outputs": [],
   "source": [
    "import matplotlib.pyplot as plt\n",
    "import numpy as np"
   ]
  },
  {
   "cell_type": "code",
   "execution_count": 37,
   "id": "92bdbbc2",
   "metadata": {},
   "outputs": [
    {
     "name": "stdout",
     "output_type": "stream",
     "text": [
      "[array([ 1.73415158, -0.88641748,  0.82301551, -2.10183245,  2.11528361,\n",
      "        0.57468117,  1.05920593,  0.0258207 , -1.01639618,  0.2648356 ,\n",
      "        1.02870834,  0.5524947 , -0.55576287, -0.1806933 ,  0.94521649,\n",
      "       -1.04631642,  0.49171327,  0.8356737 , -0.6223609 ,  1.57290748,\n",
      "       -0.4283206 , -1.85666281, -1.20286586,  0.15808297, -0.48532166,\n",
      "        1.18888457,  2.31654758, -0.48056779, -0.49666677, -0.43070321,\n",
      "        0.07184528, -0.34988353, -2.54447197,  0.01381062, -0.12896447,\n",
      "       -0.00330049, -1.23726247, -0.0590111 ,  1.73729832, -0.4377097 ,\n",
      "        0.66947943,  1.18418378,  2.08014498, -0.68039902,  0.88836792,\n",
      "        1.32550865, -1.41935179,  0.2550167 , -0.29839222,  1.09079015,\n",
      "       -0.28820582,  1.05816484,  0.59043816, -0.20430652, -0.00470303,\n",
      "        1.61744167, -0.09504775,  1.91593539, -0.19954121, -0.24601863,\n",
      "       -1.45806254,  1.14847094, -1.06862204, -1.22277403, -0.93422272,\n",
      "       -1.17270469,  1.07200872,  0.09217071, -0.27915066, -0.16489144,\n",
      "        0.20205854, -0.54047125, -1.32257836, -0.16812693, -1.84892083,\n",
      "        2.87202355, -2.81815085, -0.10744241, -0.1036289 , -0.19738824,\n",
      "       -0.53193165, -0.82516191,  0.36050905,  0.42335011, -0.36866333,\n",
      "        0.88284695, -1.63333692,  1.82202132,  0.74184708, -0.7766153 ,\n",
      "        0.42798189,  0.65552869,  0.76663135,  2.09273341, -0.55353916,\n",
      "       -0.73114821,  1.44303398, -0.21248315,  2.37289236, -1.01339635]), array([ 0.32111491, -1.90682296, -2.55254627,  1.15880493,  0.32611084,\n",
      "        0.74272666, -0.69273237, -0.19410062,  3.19104948, -1.37355386,\n",
      "        1.08714226,  1.16502041, -1.02822105,  3.34821854,  1.91838873,\n",
      "       -1.60978663,  1.53672008, -0.73612279,  2.33956179, -0.11632772,\n",
      "        0.07368278, -2.04784712, -0.31682347, -1.27140471,  0.19611168,\n",
      "       -2.39613477, -2.54365871, -2.38535318,  0.59798106,  0.26540212,\n",
      "       -4.24845486, -1.5511594 , -1.23118381,  2.68618209, -0.76307931,\n",
      "        1.72039549,  1.05032439, -2.55302973,  2.53565186, -0.42877931,\n",
      "        1.00982905, -1.88058294,  3.38171128, -1.27741745,  3.76113718,\n",
      "        0.91344907,  0.55146973, -1.06362025,  3.84624677,  1.09485596,\n",
      "        1.62189383,  2.15154045,  1.11671606, -2.65098286,  1.01160281,\n",
      "        1.4662659 , -3.21534833, -0.32094252, -3.61131321, -3.10630627,\n",
      "       -0.74009581,  3.29808299,  2.78213884, -0.43190187, -0.33578849,\n",
      "        3.26232377,  3.06050006, -2.4948029 ,  3.21106397,  1.13637693,\n",
      "       -0.19305112,  1.07595429,  2.22920335, -0.10338735,  0.06449559,\n",
      "        2.11982629, -0.48869055,  1.57813615, -3.19953565, -1.15274821,\n",
      "       -1.26898887, -1.52008428, -1.59756426,  3.04884204, -2.08794382,\n",
      "       -1.38952963, -0.67591781,  0.57769493,  0.51270443,  0.4633152 ,\n",
      "       -0.92625241, -0.25500319, -1.99072007,  0.93387543, -0.71304495,\n",
      "        1.48176331, -0.4569227 ,  1.6423387 ,  0.53937791, -2.38657789]), array([ 0.93751291, -0.47591672, -4.16199116,  0.05753102, -2.36480862,\n",
      "       -0.82837244, -0.4945264 , -0.32706334,  0.10731156,  2.44913884,\n",
      "        5.72887682, -4.07169253,  2.41837231, -0.60465335, -1.41758401,\n",
      "        6.84735322, -1.10681961,  1.00828088, -2.1869701 , -2.11107999,\n",
      "        0.44017771, -0.42160422, -4.54343799,  3.43820485, -3.71961744,\n",
      "       -1.48261615, -1.17391383, -2.51863033, -2.06354647,  0.28041584,\n",
      "       -3.1437839 ,  1.8954878 , -4.6906317 ,  0.36965819,  0.83082946,\n",
      "       -0.69350567, -0.40787436, -1.78401423,  7.773036  ,  2.71263968,\n",
      "       -2.64246671,  4.68552263, -0.23359799, -1.90471587, -2.71155545,\n",
      "       -1.67177111, -1.1685571 ,  0.65220568, -4.90886234,  2.33453677,\n",
      "        0.02625301,  0.08787975,  1.85481772,  0.31437797,  0.5138952 ,\n",
      "       -3.45831915, -5.57584259, -3.98692477,  3.5710278 ,  1.18101206,\n",
      "       -1.18915007, -1.14565252,  5.65322975, -0.90840205,  2.1760266 ,\n",
      "        1.954742  ,  0.69838365,  0.93455595,  5.70317762, -1.56818604,\n",
      "        1.92611101,  2.91914434, -1.27436265,  4.94603664, -0.90261116,\n",
      "        5.65468264,  6.6391565 , -1.43371321,  4.35793614, -1.5557911 ,\n",
      "        0.86847306,  3.09652365, -1.13533864,  1.39853752,  0.17529965,\n",
      "       -2.702783  ,  3.54070444,  1.14959783,  1.95931173, -2.65497106,\n",
      "       -0.20777651, -1.84873276, -2.30237648, -2.63057715, -1.24713893,\n",
      "       -3.50732647,  1.80774428,  3.53368584,  4.09993143,  5.65354249])]\n"
     ]
    }
   ],
   "source": [
    "# Define the data for the box plot\n",
    "data=[np.random.normal(0,std,100) for std  in range (1,4)]\n",
    "print(data)"
   ]
  },
  {
   "cell_type": "code",
   "execution_count": 38,
   "id": "a93023af",
   "metadata": {},
   "outputs": [
    {
     "data": {
      "text/plain": [
       "3"
      ]
     },
     "execution_count": 38,
     "metadata": {},
     "output_type": "execute_result"
    }
   ],
   "source": [
    "len(data)"
   ]
  },
  {
   "cell_type": "code",
   "execution_count": 39,
   "id": "9cd9b2cf",
   "metadata": {},
   "outputs": [
    {
     "name": "stdout",
     "output_type": "stream",
     "text": [
      "2.872023548380035\n",
      "-2.818150849933596\n",
      "-2.818150849933596\n"
     ]
    }
   ],
   "source": [
    "print(data[0].max())\n",
    "print(data[0].min())\n",
    "print(data[0].min())\n"
   ]
  },
  {
   "cell_type": "code",
   "execution_count": 40,
   "id": "408d2372",
   "metadata": {},
   "outputs": [
    {
     "name": "stdout",
     "output_type": "stream",
     "text": [
      "3.846246766920578\n",
      "-4.24845486018605\n",
      "-4.24845486018605\n"
     ]
    }
   ],
   "source": [
    "print(data[1].max())\n",
    "print(data[1].min())\n",
    "print(data[1].min())\n"
   ]
  },
  {
   "cell_type": "code",
   "execution_count": 41,
   "id": "7de98d85",
   "metadata": {},
   "outputs": [
    {
     "name": "stdout",
     "output_type": "stream",
     "text": [
      "7.77303600256244\n",
      "-5.575842593523916\n",
      "-5.575842593523916\n"
     ]
    }
   ],
   "source": [
    "print(data[2].max())\n",
    "print(data[2].min())\n",
    "print(data[2].min())\n"
   ]
  },
  {
   "cell_type": "code",
   "execution_count": 48,
   "id": "66f3671c",
   "metadata": {},
   "outputs": [
    {
     "name": "stderr",
     "output_type": "stream",
     "text": [
      "C:\\Users\\Second user\\AppData\\Local\\Temp\\ipykernel_15884\\1904763001.py:4: UserWarning: FixedFormatter should only be used together with FixedLocator\n",
      "  ax.set_xticklabels(['Data 1','Data 2','Data 3'])\n"
     ]
    },
    {
     "data": {
      "text/plain": [
       "Text(0, 0.5, 'Value')"
      ]
     },
     "execution_count": 48,
     "metadata": {},
     "output_type": "execute_result"
    },
    {
     "data": {
      "image/png": "[encoded data removed]",
      "text/plain": [
       "<Figure size 640x480 with 1 Axes>"
      ]
     },
     "metadata": {},
     "output_type": "display_data"
    }
   ],
   "source": [
    "fig, ax=plt.subplots()\n",
    "#Genereate the chart\n",
    "ax.boxplot(data)\n",
    "\n",
    "#generate \n",
    "ax.set_title('Box Plot',fontsize=16,fontweight='bold')\n",
    "ax.set_xticklabels(['Data 1','Data 2','Data 3'])\n",
    "ax.set_xlabel('Data')\n",
    "ax.set_ylabel('Value')"
   ]
  },
  {
   "cell_type": "code",
   "execution_count": null,
   "id": "ae6b4910",
   "metadata": {},
   "outputs": [],
   "source": []
  },
  {
   "cell_type": "code",
   "execution_count": null,
   "id": "4769c652",
   "metadata": {},
   "outputs": [],
   "source": []
  }
 ],
 "metadata": {
  "kernelspec": {
   "display_name": "Python 3 (ipykernel)",
   "language": "python",
   "name": "python3"
  },
  "language_info": {
   "codemirror_mode": {
    "name": "ipython",
    "version": 3
   },
   "file_extension": ".py",
   "mimetype": "text/x-python",
   "name": "python",
   "nbconvert_exporter": "python",
   "pygments_lexer": "ipython3",
   "version": "3.11.3"
  }
 },
 "nbformat": 4,
 "nbformat_minor": 5
}
