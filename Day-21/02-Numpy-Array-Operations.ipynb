{
 "cells": [
  {
   "cell_type": "code",
   "execution_count": 1,
   "id": "4349e12f",
   "metadata": {},
   "outputs": [],
   "source": [
    "import numpy as np\n"
   ]
  },
  {
   "cell_type": "markdown",
   "id": "5d95f985",
   "metadata": {},
   "source": [
    "### 1. Elementary Operations"
   ]
  },
  {
   "cell_type": "code",
   "execution_count": 3,
   "id": "f1911424",
   "metadata": {},
   "outputs": [],
   "source": [
    "a=np.array([[4,5,6],[5,7,9]])\n",
    "b=np.array([[1,2,3],[9,8,7]])"
   ]
  },
  {
   "cell_type": "code",
   "execution_count": 4,
   "id": "621f207e",
   "metadata": {},
   "outputs": [
    {
     "data": {
      "text/plain": [
       "array([[4, 5, 6],\n",
       "       [5, 7, 9]])"
      ]
     },
     "execution_count": 4,
     "metadata": {},
     "output_type": "execute_result"
    }
   ],
   "source": [
    "a"
   ]
  },
  {
   "cell_type": "code",
   "execution_count": 5,
   "id": "88dd5ad6",
   "metadata": {},
   "outputs": [
    {
     "data": {
      "text/plain": [
       "array([[1, 2, 3],\n",
       "       [9, 8, 7]])"
      ]
     },
     "execution_count": 5,
     "metadata": {},
     "output_type": "execute_result"
    }
   ],
   "source": [
    "b\n"
   ]
  },
  {
   "cell_type": "code",
   "execution_count": 8,
   "id": "36772593",
   "metadata": {},
   "outputs": [
    {
     "data": {
      "text/plain": [
       "array([[ 5,  7,  9],\n",
       "       [14, 15, 16]])"
      ]
     },
     "execution_count": 8,
     "metadata": {},
     "output_type": "execute_result"
    }
   ],
   "source": [
    "a+b \n",
    "#elementwise operation on respective postion of matrix"
   ]
  },
  {
   "cell_type": "code",
   "execution_count": null,
   "id": "a8c39263",
   "metadata": {},
   "outputs": [],
   "source": []
  },
  {
   "cell_type": "markdown",
   "id": "383ac663",
   "metadata": {},
   "source": [
    "###  Operations"
   ]
  },
  {
   "cell_type": "markdown",
   "id": "ab2e5a89",
   "metadata": {},
   "source": [
    "#### Airthmetic opertaions:"
   ]
  },
  {
   "cell_type": "markdown",
   "id": "b47d13be",
   "metadata": {},
   "source": [
    "- np.add()\n",
    "- np.subtract()\n",
    "- np.multyply()\n",
    "- np.divide()\n",
    "- np.floor_division() or // \n",
    "- np.remainder() or np.divmod()\n",
    "- np.absoulute()\n",
    "- np.sqrt()\n",
    "- np.square()\n",
    "- np.power()\n",
    "- np.sign() : Apply sign function"
   ]
  },
  {
   "cell_type": "markdown",
   "id": "88cba24a",
   "metadata": {},
   "source": [
    "#### Trigonometric functions:"
   ]
  },
  {
   "cell_type": "markdown",
   "id": "7abe699f",
   "metadata": {},
   "source": [
    "- np.sin()\n",
    "- np.cos()\n",
    "- np.tan()"
   ]
  },
  {
   "cell_type": "markdown",
   "id": "4c76d359",
   "metadata": {},
   "source": [
    "#### Hyperbolic funtions:"
   ]
  },
  {
   "cell_type": "markdown",
   "id": "8c5ed993",
   "metadata": {},
   "source": [
    " - np.sinh()\n",
    " - np.cosh()\n",
    " - np.tanh()\n",
    " "
   ]
  },
  {
   "cell_type": "markdown",
   "id": "434d7651",
   "metadata": {},
   "source": [
    "#### Rounding Functions:\n",
    "- np.around(): Round to the given number of decimal evenly \n",
    "- np.round():ROund to the given number of decimal\n",
    "- np.rint(): Round to the neares integer\n",
    "- np.fix(): Round to nearest interger towards zero\n",
    "- np.floor(): \n",
    "- np.ceil():\n"
   ]
  },
  {
   "cell_type": "markdown",
   "id": "d34baafc",
   "metadata": {},
   "source": [
    "#### Exponents and Logarithms:\n",
    "- np.exp()\n",
    "- np.exmp1(): Compute 'exp(x)-1' with greater precision for small values \n",
    "- np.exp2(): compute '2**p for all elements p in the array\n",
    "- np.log(): Compute elemetn-wise natural logarithm\n",
    "- np.log10():  compute elementwise base 10 logarithm\n",
    "- np.log2(): compute elementwise base 2 logarithm"
   ]
  },
  {
   "cell_type": "code",
   "execution_count": null,
   "id": "eef570a4",
   "metadata": {},
   "outputs": [],
   "source": []
  },
  {
   "cell_type": "markdown",
   "id": "8d7fec89",
   "metadata": {},
   "source": [
    "### 2. Matrix Operations"
   ]
  },
  {
   "cell_type": "code",
   "execution_count": 30,
   "id": "12793def",
   "metadata": {},
   "outputs": [],
   "source": [
    "a=np.array([[4,5],[3,7]])\n",
    "b=np.array([[1,2],[9,8]])"
   ]
  },
  {
   "cell_type": "code",
   "execution_count": 31,
   "id": "a9f8c6b1",
   "metadata": {},
   "outputs": [
    {
     "data": {
      "text/plain": [
       "array([[4, 5],\n",
       "       [3, 7]])"
      ]
     },
     "execution_count": 31,
     "metadata": {},
     "output_type": "execute_result"
    }
   ],
   "source": [
    "a"
   ]
  },
  {
   "cell_type": "code",
   "execution_count": 32,
   "id": "93600fb9",
   "metadata": {},
   "outputs": [
    {
     "data": {
      "text/plain": [
       "array([[1, 2],\n",
       "       [9, 8]])"
      ]
     },
     "execution_count": 32,
     "metadata": {},
     "output_type": "execute_result"
    }
   ],
   "source": [
    "b"
   ]
  },
  {
   "cell_type": "code",
   "execution_count": 33,
   "id": "2ef2978e",
   "metadata": {},
   "outputs": [
    {
     "data": {
      "text/plain": [
       "array([[49, 48],\n",
       "       [66, 62]])"
      ]
     },
     "execution_count": 33,
     "metadata": {},
     "output_type": "execute_result"
    }
   ],
   "source": [
    "np.dot(a,b)"
   ]
  },
  {
   "cell_type": "code",
   "execution_count": 34,
   "id": "c718e22b",
   "metadata": {},
   "outputs": [],
   "source": [
    "c=np.array([[4,5,6],[5,7,9]])\n",
    "d=np.array([[1,2],[8,7]])"
   ]
  },
  {
   "cell_type": "code",
   "execution_count": 35,
   "id": "694b0fa2",
   "metadata": {},
   "outputs": [
    {
     "ename": "ValueError",
     "evalue": "shapes (2,3) and (2,2) not aligned: 3 (dim 1) != 2 (dim 0)",
     "output_type": "error",
     "traceback": [
      "\u001b[1;31m----------------------------------------------------------------------\u001b[0m",
      "\u001b[1;31mValueError\u001b[0m                           Traceback (most recent call last)",
      "Cell \u001b[1;32mIn[35], line 1\u001b[0m\n\u001b[1;32m----> 1\u001b[0m \u001b[43mnp\u001b[49m\u001b[38;5;241;43m.\u001b[39;49m\u001b[43mdot\u001b[49m\u001b[43m(\u001b[49m\u001b[43mc\u001b[49m\u001b[43m,\u001b[49m\u001b[43md\u001b[49m\u001b[43m)\u001b[49m\n",
      "File \u001b[1;32m<__array_function__ internals>:200\u001b[0m, in \u001b[0;36mdot\u001b[1;34m(*args, **kwargs)\u001b[0m\n",
      "\u001b[1;31mValueError\u001b[0m: shapes (2,3) and (2,2) not aligned: 3 (dim 1) != 2 (dim 0)"
     ]
    }
   ],
   "source": [
    "np.dot(c,d)"
   ]
  },
  {
   "cell_type": "code",
   "execution_count": 36,
   "id": "0c22ce56",
   "metadata": {},
   "outputs": [
    {
     "data": {
      "text/plain": [
       "array([[ 14,  19,  24],\n",
       "       [ 67,  89, 111]])"
      ]
     },
     "execution_count": 36,
     "metadata": {},
     "output_type": "execute_result"
    }
   ],
   "source": [
    "np.dot(d,c)"
   ]
  },
  {
   "cell_type": "markdown",
   "id": "55a85d68",
   "metadata": {},
   "source": [
    "#### Transpose matrix"
   ]
  },
  {
   "cell_type": "code",
   "execution_count": 37,
   "id": "0617834f",
   "metadata": {},
   "outputs": [
    {
     "data": {
      "text/plain": [
       "array([[4, 3],\n",
       "       [5, 7]])"
      ]
     },
     "execution_count": 37,
     "metadata": {},
     "output_type": "execute_result"
    }
   ],
   "source": [
    "np.transpose(a)"
   ]
  },
  {
   "cell_type": "code",
   "execution_count": 40,
   "id": "be6fb3a4",
   "metadata": {},
   "outputs": [
    {
     "data": {
      "text/plain": [
       "11"
      ]
     },
     "execution_count": 40,
     "metadata": {},
     "output_type": "execute_result"
    }
   ],
   "source": [
    "np.trace(a)\n",
    "#sum of diagonal element"
   ]
  },
  {
   "cell_type": "code",
   "execution_count": 42,
   "id": "1567177d",
   "metadata": {},
   "outputs": [
    {
     "data": {
      "text/plain": [
       "13.0"
      ]
     },
     "execution_count": 42,
     "metadata": {},
     "output_type": "execute_result"
    }
   ],
   "source": [
    "np.linalg.det(a)\n",
    "#determinant of a"
   ]
  },
  {
   "cell_type": "code",
   "execution_count": 43,
   "id": "1568f7fd",
   "metadata": {},
   "outputs": [],
   "source": [
    "d=np.random.rand(2,3)"
   ]
  },
  {
   "cell_type": "code",
   "execution_count": 44,
   "id": "06337cd6",
   "metadata": {},
   "outputs": [
    {
     "data": {
      "text/plain": [
       "(2, 3)"
      ]
     },
     "execution_count": 44,
     "metadata": {},
     "output_type": "execute_result"
    }
   ],
   "source": [
    "d.shape"
   ]
  },
  {
   "cell_type": "code",
   "execution_count": 47,
   "id": "c50a2a7d",
   "metadata": {},
   "outputs": [
    {
     "ename": "LinAlgError",
     "evalue": "Last 2 dimensions of the array must be square",
     "output_type": "error",
     "traceback": [
      "\u001b[1;31m----------------------------------------------------------------------\u001b[0m",
      "\u001b[1;31mLinAlgError\u001b[0m                          Traceback (most recent call last)",
      "Cell \u001b[1;32mIn[47], line 1\u001b[0m\n\u001b[1;32m----> 1\u001b[0m \u001b[43mnp\u001b[49m\u001b[38;5;241;43m.\u001b[39;49m\u001b[43mlinalg\u001b[49m\u001b[38;5;241;43m.\u001b[39;49m\u001b[43mdet\u001b[49m\u001b[43m(\u001b[49m\u001b[43md\u001b[49m\u001b[43m)\u001b[49m\n",
      "File \u001b[1;32m<__array_function__ internals>:200\u001b[0m, in \u001b[0;36mdet\u001b[1;34m(*args, **kwargs)\u001b[0m\n",
      "File \u001b[1;32m~\\Desktop\\vEnv\\env\\Lib\\site-packages\\numpy\\linalg\\linalg.py:2136\u001b[0m, in \u001b[0;36mdet\u001b[1;34m(a)\u001b[0m\n\u001b[0;32m   2134\u001b[0m a \u001b[38;5;241m=\u001b[39m asarray(a)\n\u001b[0;32m   2135\u001b[0m _assert_stacked_2d(a)\n\u001b[1;32m-> 2136\u001b[0m \u001b[43m_assert_stacked_square\u001b[49m\u001b[43m(\u001b[49m\u001b[43ma\u001b[49m\u001b[43m)\u001b[49m\n\u001b[0;32m   2137\u001b[0m t, result_t \u001b[38;5;241m=\u001b[39m _commonType(a)\n\u001b[0;32m   2138\u001b[0m signature \u001b[38;5;241m=\u001b[39m \u001b[38;5;124m'\u001b[39m\u001b[38;5;124mD->D\u001b[39m\u001b[38;5;124m'\u001b[39m \u001b[38;5;28;01mif\u001b[39;00m isComplexType(t) \u001b[38;5;28;01melse\u001b[39;00m \u001b[38;5;124m'\u001b[39m\u001b[38;5;124md->d\u001b[39m\u001b[38;5;124m'\u001b[39m\n",
      "File \u001b[1;32m~\\Desktop\\vEnv\\env\\Lib\\site-packages\\numpy\\linalg\\linalg.py:190\u001b[0m, in \u001b[0;36m_assert_stacked_square\u001b[1;34m(*arrays)\u001b[0m\n\u001b[0;32m    188\u001b[0m m, n \u001b[38;5;241m=\u001b[39m a\u001b[38;5;241m.\u001b[39mshape[\u001b[38;5;241m-\u001b[39m\u001b[38;5;241m2\u001b[39m:]\n\u001b[0;32m    189\u001b[0m \u001b[38;5;28;01mif\u001b[39;00m m \u001b[38;5;241m!=\u001b[39m n:\n\u001b[1;32m--> 190\u001b[0m     \u001b[38;5;28;01mraise\u001b[39;00m LinAlgError(\u001b[38;5;124m'\u001b[39m\u001b[38;5;124mLast 2 dimensions of the array must be square\u001b[39m\u001b[38;5;124m'\u001b[39m)\n",
      "\u001b[1;31mLinAlgError\u001b[0m: Last 2 dimensions of the array must be square"
     ]
    }
   ],
   "source": [
    "np.linalg.det(d)"
   ]
  },
  {
   "cell_type": "code",
   "execution_count": 49,
   "id": "6c8c1c30",
   "metadata": {},
   "outputs": [
    {
     "data": {
      "text/plain": [
       "array([[ 0.53846154, -0.38461538],\n",
       "       [-0.23076923,  0.30769231]])"
      ]
     },
     "execution_count": 49,
     "metadata": {},
     "output_type": "execute_result"
    }
   ],
   "source": [
    "np.linalg.inv(a)\n",
    "# inverse of a"
   ]
  },
  {
   "cell_type": "code",
   "execution_count": 52,
   "id": "1e892dce",
   "metadata": {},
   "outputs": [
    {
     "data": {
      "text/plain": [
       "(array([1.34668807, 9.65331193]),\n",
       " array([[-0.88333068, -0.66249905],\n",
       "        [ 0.46875037, -0.74906275]]))"
      ]
     },
     "execution_count": 52,
     "metadata": {},
     "output_type": "execute_result"
    }
   ],
   "source": [
    "np.linalg.eig(a)\n",
    "# eigen value and vector"
   ]
  },
  {
   "cell_type": "code",
   "execution_count": 56,
   "id": "e6e56eac",
   "metadata": {},
   "outputs": [],
   "source": [
    "a=[[1,2],[2,3]]\n",
    "b=[1,2]\n",
    "# Ax=b type solve value of x"
   ]
  },
  {
   "cell_type": "code",
   "execution_count": 57,
   "id": "a7c52534",
   "metadata": {},
   "outputs": [
    {
     "data": {
      "text/plain": [
       "array([1., 0.])"
      ]
     },
     "execution_count": 57,
     "metadata": {},
     "output_type": "execute_result"
    }
   ],
   "source": [
    "np.linalg.solve(a,b)"
   ]
  },
  {
   "cell_type": "markdown",
   "id": "6143d6f0",
   "metadata": {},
   "source": [
    "#### Broadcasting"
   ]
  },
  {
   "cell_type": "code",
   "execution_count": 59,
   "id": "96ae4b4c",
   "metadata": {},
   "outputs": [],
   "source": [
    "a=np.array([[1,2],[3,4]])\n",
    "b=np.array([10,20])"
   ]
  },
  {
   "cell_type": "code",
   "execution_count": 60,
   "id": "ca48b0b3",
   "metadata": {},
   "outputs": [
    {
     "data": {
      "text/plain": [
       "array([[1, 2],\n",
       "       [3, 4]])"
      ]
     },
     "execution_count": 60,
     "metadata": {},
     "output_type": "execute_result"
    }
   ],
   "source": [
    "a"
   ]
  },
  {
   "cell_type": "code",
   "execution_count": 61,
   "id": "de5d921b",
   "metadata": {},
   "outputs": [
    {
     "data": {
      "text/plain": [
       "array([10, 20])"
      ]
     },
     "execution_count": 61,
     "metadata": {},
     "output_type": "execute_result"
    }
   ],
   "source": [
    "b"
   ]
  },
  {
   "cell_type": "code",
   "execution_count": 63,
   "id": "1fe99dc8",
   "metadata": {},
   "outputs": [
    {
     "data": {
      "text/plain": [
       "array([[11, 22],\n",
       "       [13, 24]])"
      ]
     },
     "execution_count": 63,
     "metadata": {},
     "output_type": "execute_result"
    }
   ],
   "source": [
    "a+b"
   ]
  },
  {
   "cell_type": "markdown",
   "id": "d65ffa22",
   "metadata": {},
   "source": [
    "### Why Numpy over python's for loop"
   ]
  },
  {
   "cell_type": "code",
   "execution_count": 10,
   "id": "d340153a",
   "metadata": {},
   "outputs": [
    {
     "name": "stdout",
     "output_type": "stream",
     "text": [
      "time taken by Numpy for loop: 0.003006 seconds\n",
      "time taken by python for loop: 0.058777 seconds\n",
      "NumPy is 19times faster than python\n"
     ]
    }
   ],
   "source": [
    "import numpy as np\n",
    "import time\n",
    "# using NumPy for element wise multiplications\n",
    "a=np.random.rand(100000)\n",
    "b=np.random.rand(100000)\n",
    "\n",
    "start =time.time()\n",
    "c=a*b\n",
    "end=time.time()\n",
    "numpy_execution_time=end-start\n",
    "print(\"time taken by Numpy for loop: {:.6f} seconds\".format(numpy_execution_time))\n",
    "\n",
    "#Using Pythong for loop elemen-wise multiplication\n",
    "a=list(a)\n",
    "b=list(b)\n",
    "c=[]\n",
    "\n",
    "start =time.time()\n",
    "for i in range(len(a)):\n",
    "    c.append(a[i]*b[i])\n",
    "end=time.time()\n",
    "for_loop_execution_time=end-start\n",
    "print(\"time taken by python for loop: {:.6f} seconds\".format(end-start))\n",
    "\n",
    "print(f'NumPy is {int(for_loop_execution_time/numpy_execution_time)}times faster than python')\n",
    " "
   ]
  },
  {
   "cell_type": "code",
   "execution_count": null,
   "id": "7d344839",
   "metadata": {},
   "outputs": [],
   "source": []
  },
  {
   "cell_type": "code",
   "execution_count": null,
   "id": "6782df68",
   "metadata": {},
   "outputs": [],
   "source": []
  }
 ],
 "metadata": {
  "kernelspec": {
   "display_name": "Python 3 (ipykernel)",
   "language": "python",
   "name": "python3"
  },
  "language_info": {
   "codemirror_mode": {
    "name": "ipython",
    "version": 3
   },
   "file_extension": ".py",
   "mimetype": "text/x-python",
   "name": "python",
   "nbconvert_exporter": "python",
   "pygments_lexer": "ipython3",
   "version": "3.11.3"
  }
 },
 "nbformat": 4,
 "nbformat_minor": 5
}
