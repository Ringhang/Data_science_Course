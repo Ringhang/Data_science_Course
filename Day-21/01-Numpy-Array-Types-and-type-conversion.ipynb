{
 "cells": [
  {
   "cell_type": "markdown",
   "id": "91fce32a",
   "metadata": {},
   "source": [
    "- bool: Boolean(True or False) stored as a byte.\n",
    "- int8, int16, int32, int64: Integer with a specific number of bits (8,16,32, or 64\n",
    "- uint8, uint16, uint32, uint64: Unsigned intger with a specific number  of bits (8,16,32 or 64)\n",
    "- float16, float32, float64:  Floating-point number with a specific precision(half, single, or double precision).\n",
    "\n",
    "- complex64, complex128: Complex number with a specific precision( single or double precision)."
   ]
  },
  {
   "cell_type": "code",
   "execution_count": 5,
   "id": "695234e6",
   "metadata": {},
   "outputs": [
    {
     "name": "stdout",
     "output_type": "stream",
     "text": [
      "int32\n",
      "float64\n",
      "bool\n"
     ]
    }
   ],
   "source": [
    "import numpy as np\n",
    "a=np.array([1,2,3],dtype=np.int32)\n",
    "b=np.array([1.0,2.0,3.0],dtype=np.float64)\n",
    "c=np.array([True,False,True],dtype=np.bool_)\n",
    "\n",
    "print(a.dtype)\n",
    "print(b.dtype)\n",
    "print(c.dtype)"
   ]
  },
  {
   "cell_type": "code",
   "execution_count": 6,
   "id": "af02a1e1",
   "metadata": {},
   "outputs": [
    {
     "data": {
      "text/plain": [
       "array([1., 2., 3.])"
      ]
     },
     "execution_count": 6,
     "metadata": {},
     "output_type": "execute_result"
    }
   ],
   "source": [
    "d=np.array([1,2,3],dtype=np.float64)\n",
    "d"
   ]
  },
  {
   "cell_type": "code",
   "execution_count": 7,
   "id": "761138e7",
   "metadata": {},
   "outputs": [
    {
     "data": {
      "text/plain": [
       "array([1, 2, 3])"
      ]
     },
     "execution_count": 7,
     "metadata": {},
     "output_type": "execute_result"
    }
   ],
   "source": [
    "e=np.array([1.0,2.0,3.0],dtype=np.int32)\n",
    "e"
   ]
  },
  {
   "cell_type": "code",
   "execution_count": 8,
   "id": "c5593d4f",
   "metadata": {},
   "outputs": [
    {
     "data": {
      "text/plain": [
       "array([1, 0, 1])"
      ]
     },
     "execution_count": 8,
     "metadata": {},
     "output_type": "execute_result"
    }
   ],
   "source": [
    "f=np.array([True,False,True],dtype=np.int32)\n",
    "f"
   ]
  },
  {
   "cell_type": "code",
   "execution_count": 9,
   "id": "954a21df",
   "metadata": {},
   "outputs": [],
   "source": [
    "g=a.astype(np.float32)"
   ]
  },
  {
   "cell_type": "code",
   "execution_count": 10,
   "id": "32a48b19",
   "metadata": {},
   "outputs": [
    {
     "data": {
      "text/plain": [
       "array([1., 2., 3.], dtype=float32)"
      ]
     },
     "execution_count": 10,
     "metadata": {},
     "output_type": "execute_result"
    }
   ],
   "source": [
    "g"
   ]
  },
  {
   "cell_type": "code",
   "execution_count": null,
   "id": "1db4e88e",
   "metadata": {},
   "outputs": [],
   "source": []
  }
 ],
 "metadata": {
  "kernelspec": {
   "display_name": "Python 3 (ipykernel)",
   "language": "python",
   "name": "python3"
  },
  "language_info": {
   "codemirror_mode": {
    "name": "ipython",
    "version": 3
   },
   "file_extension": ".py",
   "mimetype": "text/x-python",
   "name": "python",
   "nbconvert_exporter": "python",
   "pygments_lexer": "ipython3",
   "version": "3.11.3"
  }
 },
 "nbformat": 4,
 "nbformat_minor": 5
}
