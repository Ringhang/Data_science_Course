{
 "cells": [
  {
   "cell_type": "markdown",
   "id": "ba6ec9d9",
   "metadata": {},
   "source": [
    "# Implicit Differentiation"
   ]
  },
  {
   "cell_type": "code",
   "execution_count": 1,
   "id": "56e5fd3b",
   "metadata": {},
   "outputs": [],
   "source": [
    "import sympy as sp"
   ]
  },
  {
   "cell_type": "code",
   "execution_count": 3,
   "id": "d82602ee",
   "metadata": {},
   "outputs": [
    {
     "name": "stdout",
     "output_type": "stream",
     "text": [
      "-x/y\n"
     ]
    }
   ],
   "source": [
    "x,y=sp.symbols('x y')\n",
    "f=x**2+y**2-4\n",
    "dfdx=sp.diff(f,x)\n",
    "dfdy=sp.diff(f,y)\n",
    "dydx=-dfdx/dfdy\n",
    "print(dydx)"
   ]
  },
  {
   "cell_type": "markdown",
   "id": "3bf1552c",
   "metadata": {},
   "source": [
    "# Partial Differentiation"
   ]
  },
  {
   "cell_type": "code",
   "execution_count": 4,
   "id": "efcc6604",
   "metadata": {},
   "outputs": [],
   "source": [
    "import sympy as sp"
   ]
  },
  {
   "cell_type": "code",
   "execution_count": 6,
   "id": "b81db75e",
   "metadata": {},
   "outputs": [
    {
     "name": "stdout",
     "output_type": "stream",
     "text": [
      "Partial differentiation wrt x: 8\n",
      "Partial differentiation wrt y:  7\n"
     ]
    }
   ],
   "source": [
    "# Define the funtion \n",
    "x, y=sp.symbols('x y')\n",
    "f=x**2+3*x*y+y**2\n",
    "\n",
    "# FInd the partial derivatives\n",
    "df_dx=sp.diff(f,x)\n",
    "df_dy=sp.diff(f,y)\n",
    "\n",
    " # Evaluate the partial derivatives at a point \n",
    "point={x: 1, y:2}\n",
    "df_dx_at_point=df_dx.subs(point)\n",
    "df_dy_at_point=df_dy.subs(point)\n",
    "print(\"Partial differentiation wrt x:\", df_dx_at_point)\n",
    "print(\"Partial differentiation wrt y: \", df_dy_at_point)"
   ]
  },
  {
   "cell_type": "code",
   "execution_count": null,
   "id": "54aa6b4a",
   "metadata": {},
   "outputs": [],
   "source": []
  }
 ],
 "metadata": {
  "kernelspec": {
   "display_name": "Python 3 (ipykernel)",
   "language": "python",
   "name": "python3"
  },
  "language_info": {
   "codemirror_mode": {
    "name": "ipython",
    "version": 3
   },
   "file_extension": ".py",
   "mimetype": "text/x-python",
   "name": "python",
   "nbconvert_exporter": "python",
   "pygments_lexer": "ipython3",
   "version": "3.11.3"
  }
 },
 "nbformat": 4,
 "nbformat_minor": 5
}
