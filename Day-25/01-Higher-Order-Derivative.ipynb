{
 "cells": [
  {
   "cell_type": "code",
   "execution_count": 1,
   "id": "b580362e",
   "metadata": {},
   "outputs": [],
   "source": [
    "import sympy as sp"
   ]
  },
  {
   "cell_type": "code",
   "execution_count": 2,
   "id": "a6fe86a0",
   "metadata": {},
   "outputs": [],
   "source": [
    "x=sp.symbols('x')\n",
    "f=sp.sin(x)\n",
    "dfdx=sp.diff(f,x)"
   ]
  },
  {
   "cell_type": "code",
   "execution_count": 3,
   "id": "edfef1a9",
   "metadata": {},
   "outputs": [
    {
     "name": "stdout",
     "output_type": "stream",
     "text": [
      "cos(x)\n"
     ]
    }
   ],
   "source": [
    "print(dfdx)"
   ]
  },
  {
   "cell_type": "code",
   "execution_count": 6,
   "id": "04b8052a",
   "metadata": {},
   "outputs": [
    {
     "name": "stdout",
     "output_type": "stream",
     "text": [
      "-sin(x)\n"
     ]
    }
   ],
   "source": [
    "d2fdx2=sp.diff(f,x,2)\n",
    "print(d2fdx2)"
   ]
  },
  {
   "cell_type": "code",
   "execution_count": 12,
   "id": "0b11bcac",
   "metadata": {},
   "outputs": [],
   "source": [
    "x=sp.symbols('x')\n",
    "f=sp.sin(x)\n",
    "dfdc=sp.diff(f,x)\n",
    "d3fdx3=sp.diff(f,x,3) #3 is number of times differentiate"
   ]
  },
  {
   "cell_type": "code",
   "execution_count": 13,
   "id": "8d72b03b",
   "metadata": {},
   "outputs": [
    {
     "name": "stdout",
     "output_type": "stream",
     "text": [
      "-cos(x)\n"
     ]
    }
   ],
   "source": [
    "print(d3fdx3)"
   ]
  },
  {
   "cell_type": "code",
   "execution_count": 14,
   "id": "5b22a393",
   "metadata": {},
   "outputs": [
    {
     "name": "stdout",
     "output_type": "stream",
     "text": [
      "-sin(x)\n"
     ]
    }
   ],
   "source": [
    "x = sp.symbols('x')\n",
    "f = sp.sin(x)\n",
    "dfdx = sp.diff(f, x)\n",
    "dfdx2 = sp.diff(dfdx, x)\n",
    "\n",
    "print(dfdx2)"
   ]
  },
  {
   "cell_type": "code",
   "execution_count": null,
   "id": "f6dde7bd",
   "metadata": {},
   "outputs": [],
   "source": []
  }
 ],
 "metadata": {
  "kernelspec": {
   "display_name": "Python 3 (ipykernel)",
   "language": "python",
   "name": "python3"
  },
  "language_info": {
   "codemirror_mode": {
    "name": "ipython",
    "version": 3
   },
   "file_extension": ".py",
   "mimetype": "text/x-python",
   "name": "python",
   "nbconvert_exporter": "python",
   "pygments_lexer": "ipython3",
   "version": "3.11.3"
  }
 },
 "nbformat": 4,
 "nbformat_minor": 5
}
