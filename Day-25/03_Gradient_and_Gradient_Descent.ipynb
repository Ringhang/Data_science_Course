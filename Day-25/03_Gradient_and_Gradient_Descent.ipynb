{
 "cells": [
  {
   "cell_type": "code",
   "execution_count": 2,
   "id": "b40e795c",
   "metadata": {},
   "outputs": [],
   "source": [
    "import numpy as np"
   ]
  },
  {
   "cell_type": "code",
   "execution_count": 3,
   "id": "159ed670",
   "metadata": {},
   "outputs": [],
   "source": [
    "# Define the function\n",
    "def f(x, y):\n",
    "    return x**2 + 2*y\n",
    "\n",
    "# Compute the gradients\n",
    "def gradient(x, y):\n",
    "    df_dx = 2*x\n",
    "    df_dy = 2\n",
    "    return np.array([df_dx, df_dy])"
   ]
  },
  {
   "cell_type": "code",
   "execution_count": 4,
   "id": "a23e3902",
   "metadata": {},
   "outputs": [
    {
     "name": "stdout",
     "output_type": "stream",
     "text": [
      "[4 2]\n"
     ]
    }
   ],
   "source": [
    "# Test the gradients\n",
    "x = 2\n",
    "y = 3\n",
    "grads = gradient(x, y)\n",
    "\n",
    "print(grads)"
   ]
  },
  {
   "cell_type": "code",
   "execution_count": 5,
   "id": "9bd01317",
   "metadata": {},
   "outputs": [],
   "source": [
    "def gradient_descent(starting_point, learning_rate, num_iterations):\n",
    "    # Initialize the parameters\n",
    "    point = starting_point\n",
    "    \n",
    "    # Iterate\n",
    "    for i in range(num_iterations):\n",
    "        # Compute the gradient\n",
    "        grad = gradient(point[0], point[1])\n",
    "        \n",
    "        # Update the parameters\n",
    "        point = point - learning_rate * grad\n",
    "        \n",
    "    return point"
   ]
  },
  {
   "cell_type": "code",
   "execution_count": 7,
   "id": "919deac7",
   "metadata": {},
   "outputs": [
    {
     "name": "stdout",
     "output_type": "stream",
     "text": [
      "Optimal point:  [ 2.46046384e-97 -1.97000000e+02]\n",
      "Optimal value:  -393.9999999999947\n"
     ]
    }
   ],
   "source": [
    "# Test the gradient descent function\n",
    "starting_point = np.array([2, 3])\n",
    "learning_rate = 0.1\n",
    "num_iterations = 1000\n",
    "optimum = gradient_descent(starting_point, learning_rate, num_iterations)\n",
    "print(\"Optimal point: \", optimum)\n",
    "print(\"Optimal value: \", f(optimum[0], optimum[1]))"
   ]
  },
  {
   "cell_type": "code",
   "execution_count": null,
   "id": "4fd1026c",
   "metadata": {},
   "outputs": [],
   "source": []
  }
 ],
 "metadata": {
  "kernelspec": {
   "display_name": "Python 3 (ipykernel)",
   "language": "python",
   "name": "python3"
  },
  "language_info": {
   "codemirror_mode": {
    "name": "ipython",
    "version": 3
   },
   "file_extension": ".py",
   "mimetype": "text/x-python",
   "name": "python",
   "nbconvert_exporter": "python",
   "pygments_lexer": "ipython3",
   "version": "3.11.3"
  }
 },
 "nbformat": 4,
 "nbformat_minor": 5
}
