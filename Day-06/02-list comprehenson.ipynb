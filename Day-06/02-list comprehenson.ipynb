{
 "cells": [
  {
   "cell_type": "markdown",
   "id": "8d6e3369",
   "metadata": {},
   "source": [
    "# list Comprehnsion "
   ]
  },
  {
   "cell_type": "code",
   "execution_count": 1,
   "id": "f27a9a5e",
   "metadata": {},
   "outputs": [],
   "source": [
    "#when we define list, sequence, set then we use certain loop execute inside them is known as list comprehnsion\n"
   ]
  },
  {
   "cell_type": "code",
   "execution_count": 9,
   "id": "8b038842",
   "metadata": {},
   "outputs": [],
   "source": [
    "a=[1,2,3,4]"
   ]
  },
  {
   "cell_type": "code",
   "execution_count": 10,
   "id": "794714d1",
   "metadata": {},
   "outputs": [],
   "source": [
    "#for x in a:\n",
    "#   return x**2\n",
    "b=[x**2 for x in a]"
   ]
  },
  {
   "cell_type": "code",
   "execution_count": 11,
   "id": "aeaa3214",
   "metadata": {},
   "outputs": [
    {
     "data": {
      "text/plain": [
       "[1, 4, 9, 16]"
      ]
     },
     "execution_count": 11,
     "metadata": {},
     "output_type": "execute_result"
    }
   ],
   "source": [
    "b"
   ]
  },
  {
   "cell_type": "code",
   "execution_count": 12,
   "id": "a331a211",
   "metadata": {},
   "outputs": [],
   "source": [
    "# for x in a:\n",
    "# if x %2==0\n",
    "# return x**2\n",
    "\n",
    "b=[x**2 for x in a if x%2==0]"
   ]
  },
  {
   "cell_type": "code",
   "execution_count": 13,
   "id": "529fc53b",
   "metadata": {},
   "outputs": [
    {
     "data": {
      "text/plain": [
       "[4, 16]"
      ]
     },
     "execution_count": 13,
     "metadata": {},
     "output_type": "execute_result"
    }
   ],
   "source": [
    "b"
   ]
  },
  {
   "cell_type": "code",
   "execution_count": null,
   "id": "6fbc0d6c",
   "metadata": {},
   "outputs": [],
   "source": []
  }
 ],
 "metadata": {
  "kernelspec": {
   "display_name": "Python 3 (ipykernel)",
   "language": "python",
   "name": "python3"
  },
  "language_info": {
   "codemirror_mode": {
    "name": "ipython",
    "version": 3
   },
   "file_extension": ".py",
   "mimetype": "text/x-python",
   "name": "python",
   "nbconvert_exporter": "python",
   "pygments_lexer": "ipython3",
   "version": "3.11.3"
  }
 },
 "nbformat": 4,
 "nbformat_minor": 5
}
