{
 "cells": [
  {
   "cell_type": "markdown",
   "id": "09d43390",
   "metadata": {},
   "source": [
    "# Functions\n",
    "f(x)= x**2\n",
    "\n",
    "f(3)\n",
    "```python\n",
    "    def FUNCTION_NAME(arg1,arg2,...):\n",
    "        DO SOMETHING\n",
    "        return SOMETHING\n",
    "```"
   ]
  },
  {
   "cell_type": "code",
   "execution_count": 8,
   "id": "ed53c36d",
   "metadata": {},
   "outputs": [],
   "source": [
    "# -Function Definition\n",
    "def square(x):\n",
    "    y=x**2\n",
    "    return y\n",
    "#local variable: Variables defined inside a functin/class \n",
    "#it is called so because its value terminate as the fucntion \n",
    "#Global variable: variable defined outside the program \n",
    "# it is called so because it poersists throughout the program\n"
   ]
  },
  {
   "cell_type": "code",
   "execution_count": 9,
   "id": "5cb90224",
   "metadata": {},
   "outputs": [
    {
     "data": {
      "text/plain": [
       "9"
      ]
     },
     "execution_count": 9,
     "metadata": {},
     "output_type": "execute_result"
    }
   ],
   "source": [
    "#Function calling\n",
    "square(3)"
   ]
  },
  {
   "cell_type": "code",
   "execution_count": 10,
   "id": "ebf628f8",
   "metadata": {},
   "outputs": [],
   "source": [
    "def power_cal(x,y):\n",
    "    z=x**y\n",
    "    return x,y,z"
   ]
  },
  {
   "cell_type": "code",
   "execution_count": 11,
   "id": "fde4b5a9",
   "metadata": {},
   "outputs": [],
   "source": [
    "val=power_cal(2,3)"
   ]
  },
  {
   "cell_type": "code",
   "execution_count": 12,
   "id": "3fc3dfb8",
   "metadata": {},
   "outputs": [
    {
     "data": {
      "text/plain": [
       "(2, 3, 8)"
      ]
     },
     "execution_count": 12,
     "metadata": {},
     "output_type": "execute_result"
    }
   ],
   "source": [
    "val"
   ]
  },
  {
   "cell_type": "code",
   "execution_count": 13,
   "id": "2d4367b0",
   "metadata": {},
   "outputs": [
    {
     "data": {
      "text/plain": [
       "3"
      ]
     },
     "execution_count": 13,
     "metadata": {},
     "output_type": "execute_result"
    }
   ],
   "source": [
    "val[1]"
   ]
  },
  {
   "cell_type": "code",
   "execution_count": 14,
   "id": "601e10ba",
   "metadata": {},
   "outputs": [
    {
     "data": {
      "text/plain": [
       "(2, 3, 8)"
      ]
     },
     "execution_count": 14,
     "metadata": {},
     "output_type": "execute_result"
    }
   ],
   "source": [
    "val, power, result=power_cal(2,3)\n",
    "val, power,result"
   ]
  },
  {
   "cell_type": "code",
   "execution_count": 15,
   "id": "4879f761",
   "metadata": {},
   "outputs": [
    {
     "ename": "TypeError",
     "evalue": "power_cal() missing 1 required positional argument: 'y'",
     "output_type": "error",
     "traceback": [
      "\u001b[1;31m---------------------------------------------------------------------------\u001b[0m",
      "\u001b[1;31mTypeError\u001b[0m                                 Traceback (most recent call last)",
      "Cell \u001b[1;32mIn[15], line 1\u001b[0m\n\u001b[1;32m----> 1\u001b[0m \u001b[43mpower_cal\u001b[49m\u001b[43m(\u001b[49m\u001b[38;5;241;43m2\u001b[39;49m\u001b[43m)\u001b[49m\n",
      "\u001b[1;31mTypeError\u001b[0m: power_cal() missing 1 required positional argument: 'y'"
     ]
    }
   ],
   "source": [
    "power_cal(2)"
   ]
  },
  {
   "cell_type": "markdown",
   "id": "b44de228",
   "metadata": {},
   "source": [
    "# keyword argument"
   ]
  },
  {
   "cell_type": "code",
   "execution_count": 16,
   "id": "632d2573",
   "metadata": {},
   "outputs": [],
   "source": [
    "def power_cal(x=5,y=10):\n",
    "    z=x**y\n",
    "    return x, y, z"
   ]
  },
  {
   "cell_type": "code",
   "execution_count": 17,
   "id": "ab5fb692",
   "metadata": {},
   "outputs": [],
   "source": [
    "val, power, result=power_cal(2,3)"
   ]
  },
  {
   "cell_type": "code",
   "execution_count": 18,
   "id": "41e809d6",
   "metadata": {},
   "outputs": [
    {
     "data": {
      "text/plain": [
       "(2, 3, 8)"
      ]
     },
     "execution_count": 18,
     "metadata": {},
     "output_type": "execute_result"
    }
   ],
   "source": [
    "val, power, result"
   ]
  },
  {
   "cell_type": "code",
   "execution_count": 19,
   "id": "8829c44e",
   "metadata": {},
   "outputs": [],
   "source": [
    "val, power, result=power_cal(2)"
   ]
  },
  {
   "cell_type": "code",
   "execution_count": 20,
   "id": "2f7ca17f",
   "metadata": {},
   "outputs": [
    {
     "data": {
      "text/plain": [
       "(2, 10, 1024)"
      ]
     },
     "execution_count": 20,
     "metadata": {},
     "output_type": "execute_result"
    }
   ],
   "source": [
    "val,power,result "
   ]
  },
  {
   "cell_type": "code",
   "execution_count": 21,
   "id": "5f5e0960",
   "metadata": {},
   "outputs": [],
   "source": [
    "val, power, result=power_cal(y=2)"
   ]
  },
  {
   "cell_type": "code",
   "execution_count": 22,
   "id": "8f928a32",
   "metadata": {},
   "outputs": [
    {
     "data": {
      "text/plain": [
       "(5, 2, 25)"
      ]
     },
     "execution_count": 22,
     "metadata": {},
     "output_type": "execute_result"
    }
   ],
   "source": [
    "val, power, result"
   ]
  },
  {
   "cell_type": "code",
   "execution_count": null,
   "id": "368a4683",
   "metadata": {},
   "outputs": [],
   "source": []
  },
  {
   "cell_type": "markdown",
   "id": "01250ab6",
   "metadata": {},
   "source": [
    "# args and kwargs"
   ]
  },
  {
   "cell_type": "code",
   "execution_count": 23,
   "id": "f87b5624",
   "metadata": {},
   "outputs": [],
   "source": [
    "def func(*args, **kwargs): #*=multiple values positionall values chha,\n",
    "    # positional arguments\n",
    "    for i in args:\n",
    "        print(i)\n",
    "    #keyword argument\n",
    "    for key,val in kwargs.items():\n",
    "        print(key, val)"
   ]
  },
  {
   "cell_type": "code",
   "execution_count": 24,
   "id": "a8ff41ed",
   "metadata": {},
   "outputs": [
    {
     "name": "stdout",
     "output_type": "stream",
     "text": [
      "1\n",
      "abc\n",
      "name vrit\n",
      "address Ktm\n"
     ]
    }
   ],
   "source": [
    "func(1, 'abc', name='vrit', address='Ktm')\n",
    "    "
   ]
  },
  {
   "cell_type": "code",
   "execution_count": null,
   "id": "2cc28b55",
   "metadata": {},
   "outputs": [],
   "source": []
  },
  {
   "cell_type": "code",
   "execution_count": 25,
   "id": "26e1038e",
   "metadata": {},
   "outputs": [],
   "source": [
    "#sequence length 3,4,5.."
   ]
  },
  {
   "cell_type": "code",
   "execution_count": 26,
   "id": "11f3b066",
   "metadata": {},
   "outputs": [],
   "source": [
    "#Assignment"
   ]
  },
  {
   "cell_type": "code",
   "execution_count": 27,
   "id": "48b7ef4e",
   "metadata": {},
   "outputs": [],
   "source": [
    "def sum_calc(*args,**kwargs):\n",
    "    sum=0\n",
    "    for item in args:\n",
    "        for i in item:\n",
    "            sum +=i\n",
    "    for key,value in kwargs.items():\n",
    "        sum += value\n",
    "    print(sum)\n",
    "list_a=[1,2,3]\n",
    "list_b=[3,4,5,6]\n",
    "list_c=[7,8,9,10,11]\n",
    "   "
   ]
  },
  {
   "cell_type": "code",
   "execution_count": 28,
   "id": "be7fca3f",
   "metadata": {},
   "outputs": [
    {
     "name": "stdout",
     "output_type": "stream",
     "text": [
      "6\n"
     ]
    }
   ],
   "source": [
    "sum_calc(list_a)"
   ]
  },
  {
   "cell_type": "code",
   "execution_count": 29,
   "id": "7a7e3e08",
   "metadata": {},
   "outputs": [
    {
     "name": "stdout",
     "output_type": "stream",
     "text": [
      "18\n"
     ]
    }
   ],
   "source": [
    "sum_calc(list_b)"
   ]
  },
  {
   "cell_type": "code",
   "execution_count": 30,
   "id": "3a3bb5c1",
   "metadata": {},
   "outputs": [
    {
     "name": "stdout",
     "output_type": "stream",
     "text": [
      "45\n"
     ]
    }
   ],
   "source": [
    "sum_calc(list_c)"
   ]
  },
  {
   "cell_type": "code",
   "execution_count": 31,
   "id": "043f2ee6",
   "metadata": {},
   "outputs": [],
   "source": [
    "def sum_lists(a,b,c):\n",
    "    s1=sum(a)\n",
    "    s2=sum(b)\n",
    "    s3=sum(c)\n",
    "    return s1,s2,s3\n",
    "a=[1,2,3]\n",
    "b=[1,2,3,4]\n",
    "c=[1,2,3,4,5]"
   ]
  },
  {
   "cell_type": "code",
   "execution_count": 32,
   "id": "c86eba07",
   "metadata": {},
   "outputs": [
    {
     "name": "stdout",
     "output_type": "stream",
     "text": [
      "sum of lists are 6,10,15\n"
     ]
    }
   ],
   "source": [
    "s1,s2,s3=sum_lists(a,b,c)\n",
    "print(f\"sum of lists are {s1},{s2},{s3}\")"
   ]
  },
  {
   "cell_type": "code",
   "execution_count": 33,
   "id": "ae6169f5",
   "metadata": {},
   "outputs": [],
   "source": [
    "def sum_calc(*args):\n",
    "    sums=0\n",
    "    for i in args:\n",
    "        sums +=sum(i)\n",
    "    return sums\n",
    "list_aa=[1,2,3]\n",
    "list_bb=[3,4,5,6]\n",
    "list_cc=[7,8,9,10,11]\n",
    "   "
   ]
  },
  {
   "cell_type": "code",
   "execution_count": 39,
   "id": "93e49296",
   "metadata": {},
   "outputs": [
    {
     "name": "stdout",
     "output_type": "stream",
     "text": [
      "6\n",
      "18\n"
     ]
    },
    {
     "data": {
      "text/plain": [
       "45"
      ]
     },
     "execution_count": 39,
     "metadata": {},
     "output_type": "execute_result"
    }
   ],
   "source": [
    "print(sum_calc(list_aa))\n",
    "print(sum_calc(list_bb))\n",
    "sum_calc(list_cc)"
   ]
  },
  {
   "cell_type": "code",
   "execution_count": 40,
   "id": "8e9440f8",
   "metadata": {
    "scrolled": true
   },
   "outputs": [
    {
     "data": {
      "text/plain": [
       "['__abs__',\n",
       " '__add__',\n",
       " '__and__',\n",
       " '__bool__',\n",
       " '__ceil__',\n",
       " '__class__',\n",
       " '__delattr__',\n",
       " '__dir__',\n",
       " '__divmod__',\n",
       " '__doc__',\n",
       " '__eq__',\n",
       " '__float__',\n",
       " '__floor__',\n",
       " '__floordiv__',\n",
       " '__format__',\n",
       " '__ge__',\n",
       " '__getattribute__',\n",
       " '__getnewargs__',\n",
       " '__getstate__',\n",
       " '__gt__',\n",
       " '__hash__',\n",
       " '__index__',\n",
       " '__init__',\n",
       " '__init_subclass__',\n",
       " '__int__',\n",
       " '__invert__',\n",
       " '__le__',\n",
       " '__lshift__',\n",
       " '__lt__',\n",
       " '__mod__',\n",
       " '__mul__',\n",
       " '__ne__',\n",
       " '__neg__',\n",
       " '__new__',\n",
       " '__or__',\n",
       " '__pos__',\n",
       " '__pow__',\n",
       " '__radd__',\n",
       " '__rand__',\n",
       " '__rdivmod__',\n",
       " '__reduce__',\n",
       " '__reduce_ex__',\n",
       " '__repr__',\n",
       " '__rfloordiv__',\n",
       " '__rlshift__',\n",
       " '__rmod__',\n",
       " '__rmul__',\n",
       " '__ror__',\n",
       " '__round__',\n",
       " '__rpow__',\n",
       " '__rrshift__',\n",
       " '__rshift__',\n",
       " '__rsub__',\n",
       " '__rtruediv__',\n",
       " '__rxor__',\n",
       " '__setattr__',\n",
       " '__sizeof__',\n",
       " '__str__',\n",
       " '__sub__',\n",
       " '__subclasshook__',\n",
       " '__truediv__',\n",
       " '__trunc__',\n",
       " '__xor__',\n",
       " 'as_integer_ratio',\n",
       " 'bit_count',\n",
       " 'bit_length',\n",
       " 'conjugate',\n",
       " 'denominator',\n",
       " 'from_bytes',\n",
       " 'imag',\n",
       " 'numerator',\n",
       " 'real',\n",
       " 'to_bytes']"
      ]
     },
     "execution_count": 40,
     "metadata": {},
     "output_type": "execute_result"
    }
   ],
   "source": [
    "s=19\n",
    "dir(s)"
   ]
  },
  {
   "cell_type": "code",
   "execution_count": null,
   "id": "eb2050f2",
   "metadata": {},
   "outputs": [],
   "source": []
  }
 ],
 "metadata": {
  "kernelspec": {
   "display_name": "Python 3 (ipykernel)",
   "language": "python",
   "name": "python3"
  },
  "language_info": {
   "codemirror_mode": {
    "name": "ipython",
    "version": 3
   },
   "file_extension": ".py",
   "mimetype": "text/x-python",
   "name": "python",
   "nbconvert_exporter": "python",
   "pygments_lexer": "ipython3",
   "version": "3.11.3"
  }
 },
 "nbformat": 4,
 "nbformat_minor": 5
}
