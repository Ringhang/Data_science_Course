{
 "cells": [
  {
   "cell_type": "markdown",
   "id": "8135003b",
   "metadata": {},
   "source": [
    "# Lambda Function\n",
    "```python\n",
    "s Function\n",
    "c++: Inline Function\n",
    "```"
   ]
  },
  {
   "cell_type": "code",
   "execution_count": 56,
   "id": "493a077a",
   "metadata": {},
   "outputs": [],
   "source": [
    "# def square(x):\n",
    "  #  return x**2\n",
    "square=lambda x: x**2"
   ]
  },
  {
   "cell_type": "code",
   "execution_count": 57,
   "id": "c5eec501",
   "metadata": {},
   "outputs": [
    {
     "data": {
      "text/plain": [
       "9"
      ]
     },
     "execution_count": 57,
     "metadata": {},
     "output_type": "execute_result"
    }
   ],
   "source": [
    "num=2\n",
    "square(3)"
   ]
  },
  {
   "cell_type": "code",
   "execution_count": 58,
   "id": "804d92ae",
   "metadata": {},
   "outputs": [],
   "source": [
    "# def sums(x,y):\n",
    "#    return x+y\n",
    "sum =lambda x,y: x+y"
   ]
  },
  {
   "cell_type": "code",
   "execution_count": 59,
   "id": "3c4d88dd",
   "metadata": {},
   "outputs": [
    {
     "data": {
      "text/plain": [
       "5"
      ]
     },
     "execution_count": 59,
     "metadata": {},
     "output_type": "execute_result"
    }
   ],
   "source": [
    "sum(2,3)"
   ]
  },
  {
   "cell_type": "markdown",
   "id": "eb7087a5",
   "metadata": {},
   "source": [
    "# can you calculate the sum of al the elements of sequence given below?\n"
   ]
  },
  {
   "cell_type": "code",
   "execution_count": 73,
   "id": "b9bdb2af",
   "metadata": {},
   "outputs": [],
   "source": [
    "a=[1,2,3,4,5]"
   ]
  },
  {
   "cell_type": "code",
   "execution_count": 74,
   "id": "18dbf28f",
   "metadata": {},
   "outputs": [],
   "source": [
    "sum_calc = lambda x: sum(x)"
   ]
  },
  {
   "cell_type": "code",
   "execution_count": 75,
   "id": "ffc2bfb4",
   "metadata": {},
   "outputs": [
    {
     "ename": "TypeError",
     "evalue": "<lambda>() missing 1 required positional argument: 'y'",
     "output_type": "error",
     "traceback": [
      "\u001b[1;31m---------------------------------------------------------------------------\u001b[0m",
      "\u001b[1;31mTypeError\u001b[0m                                 Traceback (most recent call last)",
      "Cell \u001b[1;32mIn[75], line 1\u001b[0m\n\u001b[1;32m----> 1\u001b[0m \u001b[43msum_calc\u001b[49m\u001b[43m(\u001b[49m\u001b[43ma\u001b[49m\u001b[43m)\u001b[49m\n",
      "Cell \u001b[1;32mIn[74], line 1\u001b[0m, in \u001b[0;36m<lambda>\u001b[1;34m(x)\u001b[0m\n\u001b[1;32m----> 1\u001b[0m sum_calc \u001b[38;5;241m=\u001b[39m \u001b[38;5;28;01mlambda\u001b[39;00m x: \u001b[38;5;28;43msum\u001b[39;49m\u001b[43m(\u001b[49m\u001b[43mx\u001b[49m\u001b[43m)\u001b[49m\n",
      "\u001b[1;31mTypeError\u001b[0m: <lambda>() missing 1 required positional argument: 'y'"
     ]
    }
   ],
   "source": [
    "sum_calc(a)"
   ]
  },
  {
   "cell_type": "code",
   "execution_count": null,
   "id": "71954108",
   "metadata": {},
   "outputs": [],
   "source": []
  },
  {
   "cell_type": "code",
   "execution_count": 70,
   "id": "05937cb8",
   "metadata": {},
   "outputs": [],
   "source": [
    "def square(x):\n",
    "    return x**2"
   ]
  },
  {
   "cell_type": "code",
   "execution_count": 71,
   "id": "90affedc",
   "metadata": {},
   "outputs": [],
   "source": [
    "sq_calc=lambda x: square(x)"
   ]
  },
  {
   "cell_type": "code",
   "execution_count": 72,
   "id": "19ca782c",
   "metadata": {},
   "outputs": [
    {
     "data": {
      "text/plain": [
       "16"
      ]
     },
     "execution_count": 72,
     "metadata": {},
     "output_type": "execute_result"
    }
   ],
   "source": [
    "sq_calc(4)"
   ]
  },
  {
   "cell_type": "code",
   "execution_count": null,
   "id": "6c4f5674",
   "metadata": {},
   "outputs": [],
   "source": []
  }
 ],
 "metadata": {
  "kernelspec": {
   "display_name": "Python 3 (ipykernel)",
   "language": "python",
   "name": "python3"
  },
  "language_info": {
   "codemirror_mode": {
    "name": "ipython",
    "version": 3
   },
   "file_extension": ".py",
   "mimetype": "text/x-python",
   "name": "python",
   "nbconvert_exporter": "python",
   "pygments_lexer": "ipython3",
   "version": "3.11.3"
  }
 },
 "nbformat": 4,
 "nbformat_minor": 5
}
