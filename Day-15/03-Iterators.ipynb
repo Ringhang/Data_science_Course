{
 "cells": [
  {
   "cell_type": "code",
   "execution_count": null,
   "id": "e53a9556",
   "metadata": {},
   "outputs": [],
   "source": [
    "class Fibonacci:\n",
    "    def __init__(self,limit):\n",
    "        self.limit=limit\n",
    "        self.current=0\n",
    "        self.next=1\n",
    "        \n",
    "    def __iter__(self):\n",
    "        return self\n",
    "    \n",
    "    def __next__(self):\n",
    "        if self.current>=self.limit:\n",
    "            raise StopIterataion\n",
    "            \n",
    "        result=self.current\n",
    "        self.current, self.next=self.next, self.current+self.next\n",
    "        return result"
   ]
  },
  {
   "cell_type": "code",
   "execution_count": null,
   "id": "085388ec",
   "metadata": {},
   "outputs": [],
   "source": [
    "fib=Fibonacci(10)\n",
    "\n",
    "for num in fib:\n",
    "    print(num)"
   ]
  },
  {
   "cell_type": "code",
   "execution_count": null,
   "id": "2ddceb94",
   "metadata": {},
   "outputs": [],
   "source": []
  },
  {
   "cell_type": "code",
   "execution_count": 1,
   "id": "80b7f888",
   "metadata": {},
   "outputs": [],
   "source": [
    "#copied from git\n",
    "class Fibonacci:\n",
    "    def __init__(self, limit):\n",
    "        self.limit = limit\n",
    "        self.current = 0\n",
    "        self.next = 1\n",
    "\n",
    "    def __iter__(self):\n",
    "        return self\n",
    "\n",
    "    def __next__(self):\n",
    "        if self.current >= self.limit:\n",
    "            raise StopIteration\n",
    "\n",
    "        result = self.current\n",
    "        self.current, self.next = self.next, self.current + self.next\n",
    "        return result"
   ]
  },
  {
   "cell_type": "code",
   "execution_count": 2,
   "id": "0f2b1e24",
   "metadata": {},
   "outputs": [
    {
     "name": "stdout",
     "output_type": "stream",
     "text": [
      "0\n",
      "1\n",
      "1\n",
      "2\n",
      "3\n",
      "5\n",
      "8\n",
      "13\n",
      "21\n"
     ]
    }
   ],
   "source": [
    "fib = Fibonacci(30)\n",
    "\n",
    "for num in fib:\n",
    "    print(num)"
   ]
  },
  {
   "cell_type": "code",
   "execution_count": null,
   "id": "b851c22d",
   "metadata": {},
   "outputs": [],
   "source": []
  }
 ],
 "metadata": {
  "kernelspec": {
   "display_name": "Python 3 (ipykernel)",
   "language": "python",
   "name": "python3"
  },
  "language_info": {
   "codemirror_mode": {
    "name": "ipython",
    "version": 3
   },
   "file_extension": ".py",
   "mimetype": "text/x-python",
   "name": "python",
   "nbconvert_exporter": "python",
   "pygments_lexer": "ipython3",
   "version": "3.11.3"
  }
 },
 "nbformat": 4,
 "nbformat_minor": 5
}
