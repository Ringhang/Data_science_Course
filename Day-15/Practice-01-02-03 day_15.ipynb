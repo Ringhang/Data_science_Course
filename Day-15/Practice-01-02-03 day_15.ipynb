{
 "cells": [
  {
   "cell_type": "code",
   "execution_count": 21,
   "id": "008885a2",
   "metadata": {},
   "outputs": [],
   "source": [
    "def decorator_banako(jrakhdanihunchha):\n",
    "    def wrap_garx():\n",
    "        print(\"yo function sabai vanda agadi execute hunchha \")\n",
    "        jrakhdanihunchha()\n",
    "        print(\"exucute after function\")\n",
    "    return wrap_garx\n",
    "    "
   ]
  },
  {
   "cell_type": "code",
   "execution_count": 22,
   "id": "0a269b0c",
   "metadata": {},
   "outputs": [],
   "source": [
    "@decorator_banako\n",
    "def k_chha_sansar():\n",
    "    print(\"j lekhda ni hunchha yaha\")"
   ]
  },
  {
   "cell_type": "code",
   "execution_count": 23,
   "id": "1976f62c",
   "metadata": {},
   "outputs": [
    {
     "name": "stdout",
     "output_type": "stream",
     "text": [
      "yo function sabai vanda agadi execute hunchha \n",
      "j lekhda ni hunchha yaha\n",
      "exucute after function\n"
     ]
    }
   ],
   "source": [
    "k_chha_sansar()"
   ]
  },
  {
   "cell_type": "code",
   "execution_count": null,
   "id": "f2ab7358",
   "metadata": {},
   "outputs": [],
   "source": []
  },
  {
   "cell_type": "code",
   "execution_count": null,
   "id": "c56ad03c",
   "metadata": {},
   "outputs": [],
   "source": [
    "class Person:\n",
    "    def __init__(self,name):\n",
    "        self.name=name\n",
    "        "
   ]
  }
 ],
 "metadata": {
  "kernelspec": {
   "display_name": "Python 3 (ipykernel)",
   "language": "python",
   "name": "python3"
  },
  "language_info": {
   "codemirror_mode": {
    "name": "ipython",
    "version": 3
   },
   "file_extension": ".py",
   "mimetype": "text/x-python",
   "name": "python",
   "nbconvert_exporter": "python",
   "pygments_lexer": "ipython3",
   "version": "3.11.3"
  }
 },
 "nbformat": 4,
 "nbformat_minor": 5
}
