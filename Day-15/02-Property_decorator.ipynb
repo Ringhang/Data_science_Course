{
 "cells": [
  {
   "cell_type": "markdown",
   "id": "6956e8a1",
   "metadata": {},
   "source": [
    "# Getter"
   ]
  },
  {
   "cell_type": "code",
   "execution_count": 4,
   "id": "996988cb",
   "metadata": {},
   "outputs": [],
   "source": [
    "class Person:\n",
    "    def __init__(self, name):\n",
    "        self._name=name\n",
    "        \n",
    "    @property\n",
    "    def name(self):\n",
    "        print(\"Getting name...\")\n",
    "        return self._name"
   ]
  },
  {
   "cell_type": "code",
   "execution_count": 5,
   "id": "0700e6d4",
   "metadata": {},
   "outputs": [
    {
     "name": "stdout",
     "output_type": "stream",
     "text": [
      "Getting name...\n",
      "Hari\n"
     ]
    }
   ],
   "source": [
    "person=Person(\"Hari\")\n",
    "print(person.name)"
   ]
  },
  {
   "cell_type": "code",
   "execution_count": null,
   "id": "1d93dce1",
   "metadata": {},
   "outputs": [],
   "source": []
  },
  {
   "cell_type": "markdown",
   "id": "8de1cee9",
   "metadata": {},
   "source": [
    "# Getter"
   ]
  },
  {
   "cell_type": "code",
   "execution_count": 6,
   "id": "c76a007c",
   "metadata": {},
   "outputs": [
    {
     "ename": "SyntaxError",
     "evalue": "invalid syntax (476313318.py, line 1)",
     "output_type": "error",
     "traceback": [
      "\u001b[1;36m  Cell \u001b[1;32mIn[6], line 1\u001b[1;36m\u001b[0m\n\u001b[1;33m    -\u001b[0m\n\u001b[1;37m     ^\u001b[0m\n\u001b[1;31mSyntaxError\u001b[0m\u001b[1;31m:\u001b[0m invalid syntax\n"
     ]
    }
   ],
   "source": []
  },
  {
   "cell_type": "code",
   "execution_count": 7,
   "id": "56897be6",
   "metadata": {},
   "outputs": [],
   "source": [
    "class Person:\n",
    "    def __init__(self,name):\n",
    "        self._name=name\n",
    "        \n",
    "    @property\n",
    "    def name(self):\n",
    "        return self._name\n",
    "    \n",
    "    @name.setter\n",
    "    def name(self, value):\n",
    "        print(\"setting name...\")\n",
    "        self._name=value"
   ]
  },
  {
   "cell_type": "code",
   "execution_count": 8,
   "id": "39c8b2b8",
   "metadata": {},
   "outputs": [
    {
     "name": "stdout",
     "output_type": "stream",
     "text": [
      "ALice\n",
      "setting name...\n",
      "Bob\n"
     ]
    }
   ],
   "source": [
    "person=Person(\"ALice\")\n",
    "print(person.name)\n",
    "person.name=\"Bob\"\n",
    "print(person.name)"
   ]
  },
  {
   "cell_type": "code",
   "execution_count": null,
   "id": "b743c1d4",
   "metadata": {},
   "outputs": [],
   "source": [
    "class Person:\n",
    "    def __init__(self,name):\n",
    "        self._name=name\n",
    "        \n",
    "    @property\n",
    "    def name(self):\n",
    "        return self._name\n",
    "    \n",
    "    @name.setter\n",
    "    def name(self, value):\n",
    "        print(\"setting name...\")\n",
    "        self._name=value"
   ]
  }
 ],
 "metadata": {
  "kernelspec": {
   "display_name": "Python 3 (ipykernel)",
   "language": "python",
   "name": "python3"
  },
  "language_info": {
   "codemirror_mode": {
    "name": "ipython",
    "version": 3
   },
   "file_extension": ".py",
   "mimetype": "text/x-python",
   "name": "python",
   "nbconvert_exporter": "python",
   "pygments_lexer": "ipython3",
   "version": "3.11.3"
  }
 },
 "nbformat": 4,
 "nbformat_minor": 5
}
