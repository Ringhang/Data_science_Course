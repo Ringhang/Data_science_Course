{
 "cells": [
  {
   "cell_type": "code",
   "execution_count": 1,
   "id": "ed9c4d7d",
   "metadata": {},
   "outputs": [],
   "source": [
    "def my_decorator(func):\n",
    "    def wrapper():\n",
    "        print(\"Before function execution\")\n",
    "        func()\n",
    "        print(\"After function execution\")\n",
    "        return 'hello'\n",
    "    return wrapper"
   ]
  },
  {
   "cell_type": "code",
   "execution_count": 2,
   "id": "f23a4090",
   "metadata": {},
   "outputs": [],
   "source": [
    "@my_decorator\n",
    "def say_hello():\n",
    "    print(\"Hello, world!\")\n"
   ]
  },
  {
   "cell_type": "code",
   "execution_count": 11,
   "id": "3c04276e",
   "metadata": {},
   "outputs": [
    {
     "name": "stdout",
     "output_type": "stream",
     "text": [
      "Before function execution\n",
      "Hello, world!\n",
      "After function execution\n"
     ]
    },
    {
     "data": {
      "text/plain": [
       "'hello'"
      ]
     },
     "execution_count": 11,
     "metadata": {},
     "output_type": "execute_result"
    }
   ],
   "source": [
    "say_hello()"
   ]
  },
  {
   "cell_type": "code",
   "execution_count": 12,
   "id": "870e5766",
   "metadata": {},
   "outputs": [],
   "source": [
    "abc=my_decorator(say_hello)"
   ]
  },
  {
   "cell_type": "code",
   "execution_count": 13,
   "id": "785b1d07",
   "metadata": {
    "scrolled": true
   },
   "outputs": [
    {
     "name": "stdout",
     "output_type": "stream",
     "text": [
      "Before function execution\n",
      "Before function execution\n",
      "Hello, world!\n",
      "After function execution\n",
      "After function execution\n",
      "hello\n"
     ]
    }
   ],
   "source": [
    "print(abc())"
   ]
  },
  {
   "cell_type": "code",
   "execution_count": 16,
   "id": "bec2038a",
   "metadata": {},
   "outputs": [],
   "source": [
    "def repeat(n):\n",
    "    def decorator(func):\n",
    "        def wrapper(*args, **kwargs):\n",
    "            for i in range(n):\n",
    "                func(*args, **kwargs)\n",
    "        return wrapper\n",
    "    return decorator\n"
   ]
  },
  {
   "cell_type": "code",
   "execution_count": 17,
   "id": "729c79b3",
   "metadata": {},
   "outputs": [],
   "source": [
    "@repeat(3)\n",
    "def say_hello(name):\n",
    "    print(f\"Hello, {name} !\")"
   ]
  },
  {
   "cell_type": "code",
   "execution_count": 19,
   "id": "cfc7b40c",
   "metadata": {},
   "outputs": [
    {
     "name": "stdout",
     "output_type": "stream",
     "text": [
      "Hello, Alice !\n",
      "Hello, Alice !\n",
      "Hello, Alice !\n"
     ]
    }
   ],
   "source": [
    "say_hello(\"Alice\")"
   ]
  },
  {
   "cell_type": "code",
   "execution_count": 21,
   "id": "f264df38",
   "metadata": {},
   "outputs": [],
   "source": [
    "rep=repeat(3)"
   ]
  },
  {
   "cell_type": "code",
   "execution_count": 22,
   "id": "20b6c2e9",
   "metadata": {},
   "outputs": [
    {
     "name": "stdout",
     "output_type": "stream",
     "text": [
      "Hello, Vrit !\n",
      "Hello, Vrit !\n",
      "Hello, Vrit !\n"
     ]
    }
   ],
   "source": [
    "dec=rep(say_hello(\"Vrit\"))"
   ]
  },
  {
   "cell_type": "code",
   "execution_count": null,
   "id": "16733c1c",
   "metadata": {},
   "outputs": [],
   "source": []
  }
 ],
 "metadata": {
  "kernelspec": {
   "display_name": "Python 3 (ipykernel)",
   "language": "python",
   "name": "python3"
  },
  "language_info": {
   "codemirror_mode": {
    "name": "ipython",
    "version": 3
   },
   "file_extension": ".py",
   "mimetype": "text/x-python",
   "name": "python",
   "nbconvert_exporter": "python",
   "pygments_lexer": "ipython3",
   "version": "3.11.3"
  }
 },
 "nbformat": 4,
 "nbformat_minor": 5
}
