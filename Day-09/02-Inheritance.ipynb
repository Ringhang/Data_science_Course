{
 "cells": [
  {
   "cell_type": "code",
   "execution_count": 17,
   "id": "1cab6019",
   "metadata": {},
   "outputs": [],
   "source": [
    "class Animal:\n",
    "    def __init__(self,name,age):\n",
    "        self.name=name\n",
    "        self.age=age\n",
    "        \n",
    "    def intro(self):\n",
    "        print(\"i am an animal!\")\n",
    "\n",
    "class Cat(Animal):\n",
    "    def __init__(self,name,age,color):\n",
    "        super().__init__(name,age)\n",
    "        self.color=color\n",
    "        \n",
    "    def speak(slef):\n",
    "        print(\"Meow...\")\n",
    "        "
   ]
  },
  {
   "cell_type": "code",
   "execution_count": 18,
   "id": "8bc1aa54",
   "metadata": {},
   "outputs": [
    {
     "name": "stdout",
     "output_type": "stream",
     "text": [
      "fluffy\n",
      "3\n",
      "black\n",
      "Meow...\n",
      "i am an animal!\n"
     ]
    }
   ],
   "source": [
    "my_cat=Cat(\"fluffy\",3,\"black\")\n",
    "print(my_cat.name)\n",
    "print(my_cat.age)\n",
    "print(my_cat.color)\n",
    "my_cat.speak()\n",
    "my_cat.intro()"
   ]
  },
  {
   "cell_type": "code",
   "execution_count": 24,
   "id": "09ee1818",
   "metadata": {},
   "outputs": [],
   "source": [
    "animal=Animal(\"Tiger\",5)"
   ]
  },
  {
   "cell_type": "code",
   "execution_count": 25,
   "id": "ac977fe5",
   "metadata": {},
   "outputs": [
    {
     "data": {
      "text/plain": [
       "'Tiger'"
      ]
     },
     "execution_count": 25,
     "metadata": {},
     "output_type": "execute_result"
    }
   ],
   "source": [
    "animal.name"
   ]
  },
  {
   "cell_type": "code",
   "execution_count": 26,
   "id": "2045817e",
   "metadata": {},
   "outputs": [
    {
     "data": {
      "text/plain": [
       "5"
      ]
     },
     "execution_count": 26,
     "metadata": {},
     "output_type": "execute_result"
    }
   ],
   "source": [
    "animal.age"
   ]
  },
  {
   "cell_type": "code",
   "execution_count": 27,
   "id": "f6bfe538",
   "metadata": {},
   "outputs": [
    {
     "ename": "AttributeError",
     "evalue": "'Animal' object has no attribute 'color'",
     "output_type": "error",
     "traceback": [
      "\u001b[1;31m---------------------------------------------------------------------------\u001b[0m",
      "\u001b[1;31mAttributeError\u001b[0m                            Traceback (most recent call last)",
      "Cell \u001b[1;32mIn[27], line 1\u001b[0m\n\u001b[1;32m----> 1\u001b[0m \u001b[43manimal\u001b[49m\u001b[38;5;241;43m.\u001b[39;49m\u001b[43mcolor\u001b[49m\n",
      "\u001b[1;31mAttributeError\u001b[0m: 'Animal' object has no attribute 'color'"
     ]
    }
   ],
   "source": [
    "animal.color"
   ]
  },
  {
   "cell_type": "code",
   "execution_count": null,
   "id": "36da8398",
   "metadata": {},
   "outputs": [],
   "source": []
  }
 ],
 "metadata": {
  "kernelspec": {
   "display_name": "Python 3 (ipykernel)",
   "language": "python",
   "name": "python3"
  },
  "language_info": {
   "codemirror_mode": {
    "name": "ipython",
    "version": 3
   },
   "file_extension": ".py",
   "mimetype": "text/x-python",
   "name": "python",
   "nbconvert_exporter": "python",
   "pygments_lexer": "ipython3",
   "version": "3.11.3"
  }
 },
 "nbformat": 4,
 "nbformat_minor": 5
}
