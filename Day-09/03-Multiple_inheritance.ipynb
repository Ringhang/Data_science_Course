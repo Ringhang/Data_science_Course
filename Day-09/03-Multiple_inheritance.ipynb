{
 "cells": [
  {
   "cell_type": "code",
   "execution_count": 1,
   "id": "0d37cb8c",
   "metadata": {},
   "outputs": [
    {
     "name": "stdout",
     "output_type": "stream",
     "text": [
      "this is Parent 1 function\n",
      "This is Parent 2 function\n",
      "This is child function\n"
     ]
    }
   ],
   "source": [
    "class Parent1:\n",
    "    def func1(self):\n",
    "        print(\"this is Parent 1 function\")\n",
    "        \n",
    "class Parent2:\n",
    "    def func2(self):\n",
    "        print(\"This is Parent 2 function\")\n",
    "        \n",
    "class Child(Parent1,Parent2):\n",
    "    def func3(self):\n",
    "        print(\"This is child function\")\n",
    "        \n",
    "#create an object of child class \n",
    "obj=Child()\n",
    "\n",
    "#access functions using the objects\n",
    "obj.func1()\n",
    "obj.func2()\n",
    "obj.func3()"
   ]
  },
  {
   "cell_type": "code",
   "execution_count": 2,
   "id": "da9050e4",
   "metadata": {},
   "outputs": [
    {
     "name": "stdout",
     "output_type": "stream",
     "text": [
      "this is Parent 1 function\n"
     ]
    }
   ],
   "source": [
    "Child().func1()"
   ]
  },
  {
   "cell_type": "code",
   "execution_count": null,
   "id": "158afb22",
   "metadata": {},
   "outputs": [],
   "source": []
  },
  {
   "cell_type": "code",
   "execution_count": null,
   "id": "b9603109",
   "metadata": {},
   "outputs": [],
   "source": []
  },
  {
   "cell_type": "code",
   "execution_count": null,
   "id": "01c7946e",
   "metadata": {},
   "outputs": [],
   "source": []
  },
  {
   "cell_type": "code",
   "execution_count": null,
   "id": "33e8803e",
   "metadata": {},
   "outputs": [],
   "source": []
  },
  {
   "cell_type": "code",
   "execution_count": null,
   "id": "2c61fb67",
   "metadata": {},
   "outputs": [],
   "source": []
  }
 ],
 "metadata": {
  "kernelspec": {
   "display_name": "Python 3 (ipykernel)",
   "language": "python",
   "name": "python3"
  },
  "language_info": {
   "codemirror_mode": {
    "name": "ipython",
    "version": 3
   },
   "file_extension": ".py",
   "mimetype": "text/x-python",
   "name": "python",
   "nbconvert_exporter": "python",
   "pygments_lexer": "ipython3",
   "version": "3.11.3"
  }
 },
 "nbformat": 4,
 "nbformat_minor": 5
}
