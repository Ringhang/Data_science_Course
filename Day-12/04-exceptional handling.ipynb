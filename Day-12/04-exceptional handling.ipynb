{
 "cells": [
  {
   "cell_type": "raw",
   "id": "edc9108d",
   "metadata": {},
   "source": [
    "\n",
    "try:\n",
    "    #code that may rise exception\n",
    "except ExceptionType:\n",
    "    #code handle the exception \n",
    "\n"
   ]
  },
  {
   "cell_type": "code",
   "execution_count": null,
   "id": "6995cfd1",
   "metadata": {},
   "outputs": [],
   "source": []
  },
  {
   "cell_type": "code",
   "execution_count": 1,
   "id": "7298f4ef",
   "metadata": {},
   "outputs": [
    {
     "name": "stdout",
     "output_type": "stream",
     "text": [
      "Enter any number: abc\n"
     ]
    },
    {
     "ename": "ValueError",
     "evalue": "invalid literal for int() with base 10: 'abc'",
     "output_type": "error",
     "traceback": [
      "\u001b[1;31m---------------------------------------------------------------------------\u001b[0m",
      "\u001b[1;31mValueError\u001b[0m                                Traceback (most recent call last)",
      "Cell \u001b[1;32mIn[1], line 1\u001b[0m\n\u001b[1;32m----> 1\u001b[0m num\u001b[38;5;241m=\u001b[39m\u001b[38;5;28;43mint\u001b[39;49m\u001b[43m(\u001b[49m\u001b[38;5;28;43minput\u001b[39;49m\u001b[43m(\u001b[49m\u001b[38;5;124;43m\"\u001b[39;49m\u001b[38;5;124;43mEnter any number: \u001b[39;49m\u001b[38;5;124;43m\"\u001b[39;49m\u001b[43m)\u001b[49m\u001b[43m)\u001b[49m\n\u001b[0;32m      2\u001b[0m \u001b[38;5;28mprint\u001b[39m(num)\n",
      "\u001b[1;31mValueError\u001b[0m: invalid literal for int() with base 10: 'abc'"
     ]
    }
   ],
   "source": [
    "num=int(input(\"Enter any number: \"))\n",
    "print(num)"
   ]
  },
  {
   "cell_type": "code",
   "execution_count": 2,
   "id": "2dc005bd",
   "metadata": {},
   "outputs": [
    {
     "name": "stdout",
     "output_type": "stream",
     "text": [
      "Enter any number: abcdef\n",
      "invalid input enrror integer or float number:\n"
     ]
    }
   ],
   "source": [
    "# Handling above ValueError\n",
    "try: \n",
    "    num=float(input(\"Enter any number: \"))\n",
    "    print(num)\n",
    "except ValueError:\n",
    "    print(\"invalid input enrror integer or float number:\")"
   ]
  },
  {
   "cell_type": "code",
   "execution_count": null,
   "id": "30fa6629",
   "metadata": {},
   "outputs": [],
   "source": []
  },
  {
   "cell_type": "code",
   "execution_count": 3,
   "id": "a262041a",
   "metadata": {},
   "outputs": [
    {
     "name": "stdout",
     "output_type": "stream",
     "text": [
      "enter first number10\n",
      "enter another number: 0\n"
     ]
    },
    {
     "ename": "ZeroDivisionError",
     "evalue": "division by zero",
     "output_type": "error",
     "traceback": [
      "\u001b[1;31m---------------------------------------------------------------------------\u001b[0m",
      "\u001b[1;31mZeroDivisionError\u001b[0m                         Traceback (most recent call last)",
      "Cell \u001b[1;32mIn[3], line 3\u001b[0m\n\u001b[0;32m      1\u001b[0m n1\u001b[38;5;241m=\u001b[39m\u001b[38;5;28mint\u001b[39m(\u001b[38;5;28minput\u001b[39m(\u001b[38;5;124m\"\u001b[39m\u001b[38;5;124menter first number\u001b[39m\u001b[38;5;124m\"\u001b[39m))\n\u001b[0;32m      2\u001b[0m n2\u001b[38;5;241m=\u001b[39m\u001b[38;5;28mint\u001b[39m(\u001b[38;5;28minput\u001b[39m(\u001b[38;5;124m\"\u001b[39m\u001b[38;5;124menter another number: \u001b[39m\u001b[38;5;124m\"\u001b[39m))\n\u001b[1;32m----> 3\u001b[0m result\u001b[38;5;241m=\u001b[39m\u001b[43mn1\u001b[49m\u001b[38;5;241;43m/\u001b[39;49m\u001b[43mn2\u001b[49m\n\u001b[0;32m      4\u001b[0m \u001b[38;5;28mprint\u001b[39m(result)\n",
      "\u001b[1;31mZeroDivisionError\u001b[0m: division by zero"
     ]
    }
   ],
   "source": [
    "n1=int(input(\"enter first number\"))\n",
    "n2=int(input(\"enter another number: \"))\n",
    "result=n1/n2\n",
    "print(result)"
   ]
  },
  {
   "cell_type": "code",
   "execution_count": 4,
   "id": "f3def019",
   "metadata": {},
   "outputs": [
    {
     "name": "stdout",
     "output_type": "stream",
     "text": [
      "enter first number10\n",
      "enter another number: 0\n",
      "can not divide by zero\n"
     ]
    }
   ],
   "source": [
    "try:\n",
    "    n1=int(input(\"enter first number\"))\n",
    "    n2=int(input(\"enter another number: \"))\n",
    "    result=n1/n2\n",
    "    print(result)\n",
    "except ZeroDivisionError:\n",
    "    print(\"can not divide by zero\")"
   ]
  },
  {
   "cell_type": "code",
   "execution_count": null,
   "id": "b3505d51",
   "metadata": {},
   "outputs": [],
   "source": []
  },
  {
   "cell_type": "code",
   "execution_count": 6,
   "id": "1eb5daf3",
   "metadata": {},
   "outputs": [
    {
     "name": "stdout",
     "output_type": "stream",
     "text": [
      "enter first number10\n",
      "enter another number: agbs\n",
      "invalid input enrror integer or float number:\n"
     ]
    }
   ],
   "source": [
    "#Both handling in a single code by exceptional\n",
    "\n",
    "try:\n",
    "    n1=int(input(\"enter first number\"))\n",
    "    n2=int(input(\"enter another number: \"))\n",
    "    result=n1/n2\n",
    "    print(result)\n",
    "except ValueError:\n",
    "    print(\"invalid input enrror integer or float number:\")\n",
    "except ZeroDivisionError:\n",
    "    print(\"can not divide by zero\")"
   ]
  },
  {
   "cell_type": "code",
   "execution_count": null,
   "id": "47e740ba",
   "metadata": {},
   "outputs": [],
   "source": []
  },
  {
   "cell_type": "code",
   "execution_count": 7,
   "id": "14d878ae",
   "metadata": {},
   "outputs": [
    {
     "name": "stdout",
     "output_type": "stream",
     "text": [
      "Please enter one number:\n",
      "10\n",
      "enteranother number:\n",
      "hsbrt\n",
      "enter valid value\n"
     ]
    }
   ],
   "source": [
    "# give message in a single message for possible error \n",
    "\n",
    "try:\n",
    "    n1=int(input(\"Please enter one number:\\n\"))\n",
    "    n2=int(input(\"enteranother number:\\n\"))\n",
    "    result=n1/n2\n",
    "    print(result)\n",
    "except(ValueError,TypeError,ZeroDivisionError):\n",
    "    print(\"enter valid value\")"
   ]
  },
  {
   "cell_type": "code",
   "execution_count": null,
   "id": "c466cc40",
   "metadata": {},
   "outputs": [],
   "source": []
  },
  {
   "cell_type": "code",
   "execution_count": 12,
   "id": "f83635b0",
   "metadata": {},
   "outputs": [
    {
     "name": "stdout",
     "output_type": "stream",
     "text": [
      "Could not convert input to integer\n"
     ]
    }
   ],
   "source": [
    "num_str=\"abcd\"\n",
    "try: \n",
    "    num=int(num_str)\n",
    "    print(num)\n",
    "except (ValueError,TypeError):\n",
    "    print(\"Could not convert input to integer\")"
   ]
  },
  {
   "cell_type": "code",
   "execution_count": null,
   "id": "eb9ac928",
   "metadata": {},
   "outputs": [],
   "source": []
  },
  {
   "cell_type": "code",
   "execution_count": 13,
   "id": "1f04ff9a",
   "metadata": {},
   "outputs": [
    {
     "name": "stdout",
     "output_type": "stream",
     "text": [
      "An exception occured\n"
     ]
    }
   ],
   "source": [
    "#all erro can handle\n",
    "\n",
    "num_str=\"abcd\"\n",
    "try: \n",
    "    num=int(num_str)\n",
    "    print(num)\n",
    "except Exception:\n",
    "    print(\"An exception occured\")"
   ]
  },
  {
   "cell_type": "code",
   "execution_count": null,
   "id": "18537864",
   "metadata": {},
   "outputs": [],
   "source": []
  },
  {
   "cell_type": "code",
   "execution_count": 14,
   "id": "c389baa4",
   "metadata": {},
   "outputs": [
    {
     "name": "stdout",
     "output_type": "stream",
     "text": [
      "invalid literal for int() with base 10: 'abcd'\n"
     ]
    }
   ],
   "source": [
    "\n",
    "num_str=\"abcd\"\n",
    "try: \n",
    "    num=int(num_str)\n",
    "    print(num)\n",
    "except Exception as e:\n",
    "    print(e)"
   ]
  },
  {
   "cell_type": "code",
   "execution_count": null,
   "id": "35143a38",
   "metadata": {},
   "outputs": [],
   "source": []
  },
  {
   "cell_type": "code",
   "execution_count": 17,
   "id": "f869260f",
   "metadata": {},
   "outputs": [
    {
     "name": "stdout",
     "output_type": "stream",
     "text": [
      "enter first number19\n",
      "enter another number: 10\n",
      "1.9\n",
      "reult is 1.9\n"
     ]
    }
   ],
   "source": [
    "try:\n",
    "    n1=int(input(\"enter first number\"))\n",
    "    n2=int(input(\"enter another number: \"))\n",
    "    result=n1/n2\n",
    "    print(result)\n",
    "except ZeroDivisionError:\n",
    "    print(\"can not divide by zero\")\n",
    "else:\n",
    "    print(\"reult is\",result)"
   ]
  },
  {
   "cell_type": "code",
   "execution_count": null,
   "id": "7238aa8d",
   "metadata": {},
   "outputs": [],
   "source": []
  },
  {
   "cell_type": "code",
   "execution_count": 18,
   "id": "75bca28b",
   "metadata": {},
   "outputs": [
    {
     "name": "stdout",
     "output_type": "stream",
     "text": [
      "enter first number1\n",
      "enter another number: 2\n",
      "0.5\n",
      "reult is 0.5\n",
      "This block is always executed.\n"
     ]
    }
   ],
   "source": [
    "try:\n",
    "    a1=int(input(\"enter first number\"))\n",
    "    a2=int(input(\"enter another number: \"))\n",
    "    result=a1/a2\n",
    "    print(result)\n",
    "except ZeroDivisionError:\n",
    "    print(\"can not divide by zero\")\n",
    "else:\n",
    "    print(\"reult is\",result)\n",
    "finally:\n",
    "    print(\"This block is always executed.\")"
   ]
  },
  {
   "cell_type": "code",
   "execution_count": null,
   "id": "39932034",
   "metadata": {},
   "outputs": [],
   "source": []
  }
 ],
 "metadata": {
  "kernelspec": {
   "display_name": "Python 3 (ipykernel)",
   "language": "python",
   "name": "python3"
  },
  "language_info": {
   "codemirror_mode": {
    "name": "ipython",
    "version": 3
   },
   "file_extension": ".py",
   "mimetype": "text/x-python",
   "name": "python",
   "nbconvert_exporter": "python",
   "pygments_lexer": "ipython3",
   "version": "3.11.3"
  }
 },
 "nbformat": 4,
 "nbformat_minor": 5
}
