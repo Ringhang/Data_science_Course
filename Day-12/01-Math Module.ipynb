{
 "cells": [
  {
   "cell_type": "markdown",
   "id": "2f0e5fe5",
   "metadata": {},
   "source": [
    "# Arithmetic Functions\n",
    "- math.pow(x,y): Returns the y^th power of x\n",
    "- math.sqrt(x): Returns the square root of x\n",
    "- math.ceil(x): Returns the smallest integer than or equal to x\n",
    "- math.floor(x): Returns the integer after rounding it town towards negative infinity\n",
    "- math.trucn(x) : Returns the integer part of x rounding it down towards zero\n",
    "- math.fabs(x) : Returns to the absolute value of x"
   ]
  },
  {
   "cell_type": "code",
   "execution_count": 7,
   "id": "bb3167c8",
   "metadata": {},
   "outputs": [
    {
     "name": "stdout",
     "output_type": "stream",
     "text": [
      "8.0\n",
      "5.0\n",
      "3\n",
      "2\n",
      "-2\n",
      "2.9\n"
     ]
    }
   ],
   "source": [
    "import math\n",
    "print(math.pow(2,3))\n",
    "print(math.sqrt(25))\n",
    "print(math.ceil(2.5))\n",
    "print(math.floor(2.5))\n",
    "print(math.trunc(-2.9))\n",
    "print(math.fabs(2.9))"
   ]
  },
  {
   "cell_type": "markdown",
   "id": "fc7fc2f8",
   "metadata": {},
   "source": [
    "# Trigonometric Functions:\n",
    " These are funcitons that deal with angles and their relationshiopss to other.\n",
    " - math.sin(x) : Return the sine of x (in radians)\n",
    " - math.cos(x) :Return the cosine of x (in radians)\n",
    " - math.tan(x) :Return the tan of x (in radians)\n",
    " - math.radians(x): converts x from degree to radians \n",
    " - math.degrees(x) : converts x from radians to degree\n",
    " - math.hypot(x,y) : Returns the lengthof the hypotenuse of a right trangle with sides x and y\n",
    " "
   ]
  },
  {
   "cell_type": "code",
   "execution_count": 14,
   "id": "89ffa6aa",
   "metadata": {},
   "outputs": [
    {
     "name": "stdout",
     "output_type": "stream",
     "text": [
      "1.0\n",
      "6.123233995736766e-17\n",
      "1.633123935319537e+16\n",
      "3.141592653589793\n",
      "90.0\n",
      "10.0\n"
     ]
    }
   ],
   "source": [
    "print(math.sin(math.pi/2))\n",
    "print(math.cos(math.pi/2))\n",
    "print(math.tan(math.pi/2))\n",
    "print(math.radians(180))\n",
    "print(math.degrees(math.pi/2))\n",
    "print(math.hypot(6,8))\n"
   ]
  },
  {
   "cell_type": "code",
   "execution_count": null,
   "id": "9387a1ae",
   "metadata": {},
   "outputs": [],
   "source": []
  },
  {
   "cell_type": "markdown",
   "id": "8c68157b",
   "metadata": {},
   "source": [
    "# Exponential and Logarithmic Functions:\n",
    "These are function that deal with teh exponential growth and decay of values over time. \n",
    "- math.exp(x) : Returns to exponential of x\n",
    "- math.log(x) : Returns the natural logarithm of x\n",
    "- math.log10(x) : Returns the base 10 logarithm of x"
   ]
  },
  {
   "cell_type": "code",
   "execution_count": 15,
   "id": "70a17bab",
   "metadata": {},
   "outputs": [
    {
     "name": "stdout",
     "output_type": "stream",
     "text": [
      "7.38905609893065\n",
      "2.302585092994046\n",
      "1.0\n"
     ]
    }
   ],
   "source": [
    "import math \n",
    "print(math.exp(2))\n",
    "print(math.log(10))\n",
    "print(math.log10(10))"
   ]
  },
  {
   "cell_type": "markdown",
   "id": "76a03d69",
   "metadata": {},
   "source": [
    "# Constants:\n",
    "The math module aslo includes several mathematical constants that\n",
    "are popular among the mathematicians you may be familiar with most of them.\n",
    "- math.pi : Returns the mathmatica constants pi(3.1415...)\n",
    "- math.e: returns the mathematical constans e(2.7182..)\n",
    "- math.inf: Returns a floating-point positve infinity value\n",
    "- math.tau : Returns the mathematical constant tau(2*pi)\n",
    "- math.nan : Returns a floating point not a number (NaN) value"
   ]
  },
  {
   "cell_type": "code",
   "execution_count": null,
   "id": "7c58b9f1",
   "metadata": {},
   "outputs": [],
   "source": []
  },
  {
   "cell_type": "code",
   "execution_count": 16,
   "id": "41eef6ca",
   "metadata": {},
   "outputs": [
    {
     "name": "stdout",
     "output_type": "stream",
     "text": [
      "3.141592653589793\n",
      "2.718281828459045\n",
      "inf\n",
      "6.283185307179586\n",
      "nan\n"
     ]
    }
   ],
   "source": [
    "import math \n",
    "print(math.pi)\n",
    "print(math.e)\n",
    "print(math.inf)\n",
    "print(math.tau)\n",
    "print(math.nan)"
   ]
  },
  {
   "cell_type": "markdown",
   "id": "6d9737b2",
   "metadata": {},
   "source": [
    "# Special Functions:\n",
    "These functions that deal with special and more complex mathematical concepts.\n",
    "- math.factorial(x): Return  the factorial x (x!)\n",
    "- math.comb(n,k) : Retruns the number of ways to choose k items form a set of n times\n",
    "- math.isclose (a,b, rel_tol=le-9, abs_tol=0.0): Returns True if  the absolute difference between a and b less than eequal to either the realtive tolerance rel_tol or the absoulte tolerance abs_tol\n",
    "\n",
    "- math.isqrt(n): Returns the integer square root of n\n",
    "- math.dist(a,b): Returns the Euclidean distance between two points a nd b\n",
    "- math.gamma(x): Returns the gamma function of x\n",
    "- math.erf(x): Returns the error function of x\n",
    "- math.perm(n,k) : Returns the number of possible permutations of selecting k items from a group of n items replacement with  and where the oreder of selection matters"
   ]
  },
  {
   "cell_type": "code",
   "execution_count": 33,
   "id": "336d848c",
   "metadata": {},
   "outputs": [
    {
     "name": "stdout",
     "output_type": "stream",
     "text": [
      "120\n",
      "10\n",
      "True\n",
      "5\n",
      "2.449489742783178\n",
      "0.5204998778130465\n",
      "24.0\n",
      "20\n"
     ]
    }
   ],
   "source": [
    "import math\n",
    "print(math.factorial(5))\n",
    "print(math.comb(5,2))\n",
    "print(math.isclose(0.1+0.4,0.5))\n",
    "print(math.isqrt(25))\n",
    "a=(2,3,5)\n",
    "b=(3,5,6)\n",
    "print(math.dist(a,b))\n",
    "print(math.erf(0.5))\n",
    "print(math.gamma(5))\n",
    "print(math.perm(5,2))"
   ]
  },
  {
   "cell_type": "code",
   "execution_count": null,
   "id": "dbcec88b",
   "metadata": {},
   "outputs": [],
   "source": []
  }
 ],
 "metadata": {
  "kernelspec": {
   "display_name": "Python 3 (ipykernel)",
   "language": "python",
   "name": "python3"
  },
  "language_info": {
   "codemirror_mode": {
    "name": "ipython",
    "version": 3
   },
   "file_extension": ".py",
   "mimetype": "text/x-python",
   "name": "python",
   "nbconvert_exporter": "python",
   "pygments_lexer": "ipython3",
   "version": "3.11.3"
  }
 },
 "nbformat": 4,
 "nbformat_minor": 5
}
