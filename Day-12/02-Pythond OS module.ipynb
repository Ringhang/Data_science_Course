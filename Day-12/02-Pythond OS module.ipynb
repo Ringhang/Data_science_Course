{
 "cells": [
  {
   "cell_type": "markdown",
   "id": "82a159fc",
   "metadata": {},
   "source": [
    "# Python OS Module\n",
    "The os module in Python provides a way of interactin with the operating syste. It provides a way to access and manipulat files and directories, start and stop process, get information about the system and more..\n",
    " \n",
    "  Working with Files and Directories\n",
    "  \n",
    "  - os.getcwd(): get the current working directory\n",
    "  - os.makdir('path'): create a new directory\n",
    "  - os.chdir('path') : change the current working directory\n",
    "  - os.listdir('path): list the contents of directory\n",
    "  - os.rename('old_name','new_name'): Rename file directory\n",
    "  - os.remove('file_to_delete'): Remove a file \n",
    "  - os.rmdir('directory_to_delete'): remove directory\n",
    "  - os.path.dirname('name'): Return the name of the directory containing pathname path\n",
    "  - os.path.exists('path'): checks if the path already exist., if soreturns True\n",
    "  \n",
    "  "
   ]
  },
  {
   "cell_type": "code",
   "execution_count": null,
   "id": "fdd14a52",
   "metadata": {},
   "outputs": [],
   "source": []
  }
 ],
 "metadata": {
  "kernelspec": {
   "display_name": "Python 3 (ipykernel)",
   "language": "python",
   "name": "python3"
  },
  "language_info": {
   "codemirror_mode": {
    "name": "ipython",
    "version": 3
   },
   "file_extension": ".py",
   "mimetype": "text/x-python",
   "name": "python",
   "nbconvert_exporter": "python",
   "pygments_lexer": "ipython3",
   "version": "3.11.3"
  }
 },
 "nbformat": 4,
 "nbformat_minor": 5
}
