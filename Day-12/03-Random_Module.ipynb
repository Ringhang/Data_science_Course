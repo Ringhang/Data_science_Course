{
 "cells": [
  {
   "cell_type": "markdown",
   "id": "dbf4a463",
   "metadata": {},
   "source": [
    "# Random  Module\n",
    "The Python random module provides several typesof functions for generating pseudo-random numbers...\n"
   ]
  },
  {
   "cell_type": "markdown",
   "id": "c8e660db",
   "metadata": {},
   "source": [
    "# Uniform distribution functions\n",
    "These functions generate numbers that are uniformly distributed between two values.\n",
    "- random(random(): Returns a random a random float between 0 (inclusive) and 1 (exclusive)\n",
    "- random.uniform(a,b):Return a random float between  a and b (both inclusive)\n",
    "- random.randint(a,b): Returns a random integer integer between a and b(both inclusive)\n",
    "- random.randrange(start,stop,step): Returns a randomly selected element from the range...."
   ]
  },
  {
   "cell_type": "code",
   "execution_count": 3,
   "id": "9b1b399b",
   "metadata": {},
   "outputs": [
    {
     "name": "stdout",
     "output_type": "stream",
     "text": [
      "0.22493591039196015\n",
      "0.19581546663793925\n",
      "0\n",
      "1\n",
      "-1\n",
      "5\n"
     ]
    }
   ],
   "source": [
    "import random\n",
    "print(random.random())\n",
    "print(random.uniform(-1,2))\n",
    "print(random.randint(-1,5))\n",
    "print(random.randrange(5))\n",
    "print(random.randrange(-1,5))\n",
    "print(random.randrange(1,10,2))"
   ]
  },
  {
   "cell_type": "code",
   "execution_count": null,
   "id": "4f1f6a35",
   "metadata": {},
   "outputs": [],
   "source": []
  }
 ],
 "metadata": {
  "kernelspec": {
   "display_name": "Python 3 (ipykernel)",
   "language": "python",
   "name": "python3"
  },
  "language_info": {
   "codemirror_mode": {
    "name": "ipython",
    "version": 3
   },
   "file_extension": ".py",
   "mimetype": "text/x-python",
   "name": "python",
   "nbconvert_exporter": "python",
   "pygments_lexer": "ipython3",
   "version": "3.11.3"
  }
 },
 "nbformat": 4,
 "nbformat_minor": 5
}
