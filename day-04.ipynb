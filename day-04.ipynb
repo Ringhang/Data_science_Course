{
 "cells": [
  {
   "attachments": {},
   "cell_type": "markdown",
   "id": "9bb8c05d",
   "metadata": {},
   "source": [
    "#Type integer\n"
   ]
  },
  {
   "cell_type": "code",
   "execution_count": 2,
   "id": "f773f42c",
   "metadata": {},
   "outputs": [],
   "source": [
    "a=123.43"
   ]
  },
  {
   "cell_type": "code",
   "execution_count": 3,
   "id": "c8f2c014",
   "metadata": {},
   "outputs": [
    {
     "data": {
      "text/plain": [
       "float"
      ]
     },
     "execution_count": 3,
     "metadata": {},
     "output_type": "execute_result"
    }
   ],
   "source": [
    "type(a)"
   ]
  },
  {
   "attachments": {},
   "cell_type": "markdown",
   "id": "f519acc4",
   "metadata": {},
   "source": []
  },
  {
   "cell_type": "code",
   "execution_count": 4,
   "id": "42e673af",
   "metadata": {},
   "outputs": [],
   "source": [
    "b=complex(1,2)"
   ]
  },
  {
   "cell_type": "code",
   "execution_count": 5,
   "id": "0afd007c",
   "metadata": {},
   "outputs": [
    {
     "data": {
      "text/plain": [
       "complex"
      ]
     },
     "execution_count": 5,
     "metadata": {},
     "output_type": "execute_result"
    }
   ],
   "source": [
    "type(b)"
   ]
  },
  {
   "cell_type": "code",
   "execution_count": 9,
   "id": "296d775d",
   "metadata": {},
   "outputs": [
    {
     "data": {
      "text/plain": [
       "complex"
      ]
     },
     "execution_count": 9,
     "metadata": {},
     "output_type": "execute_result"
    }
   ],
   "source": [
    "c=1+5j\n",
    "type(c)\n"
   ]
  },
  {
   "cell_type": "code",
   "execution_count": 10,
   "id": "884b5bf0",
   "metadata": {},
   "outputs": [
    {
     "data": {
      "text/plain": [
       "complex"
      ]
     },
     "execution_count": 10,
     "metadata": {},
     "output_type": "execute_result"
    }
   ],
   "source": [
    "type(c)"
   ]
  },
  {
   "cell_type": "code",
   "execution_count": null,
   "id": "36e494da",
   "metadata": {},
   "outputs": [],
   "source": []
  }
 ],
 "metadata": {
  "kernelspec": {
   "display_name": "Python 3 (ipykernel)",
   "language": "python",
   "name": "python3"
  },
  "language_info": {
   "codemirror_mode": {
    "name": "ipython",
    "version": 3
   },
   "file_extension": ".py",
   "mimetype": "text/x-python",
   "name": "python",
   "nbconvert_exporter": "python",
   "pygments_lexer": "ipython3",
   "version": "3.11.3"
  }
 },
 "nbformat": 4,
 "nbformat_minor": 5
}
