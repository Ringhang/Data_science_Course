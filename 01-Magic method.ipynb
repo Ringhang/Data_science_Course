{
 "cells": [
  {
   "cell_type": "code",
   "execution_count": 1,
   "id": "ccd19930",
   "metadata": {},
   "outputs": [],
   "source": [
    "class Person:\n",
    "    def __init__(self,name,age):\n",
    "        self.name=name\n",
    "        self.age=age\n",
    "        \n",
    "    def __str__(self):\n",
    "            return f\"{self.name} is {self.age} years old\"\n",
    "            \n",
    "    def __repr__(self):\n",
    "            return f\"Person ({self.name},{self.age})\"\n",
    "            \n",
    "    def __len__(self):\n",
    "            return self.age\n",
    "        \n",
    "    def __call__(self):\n",
    "            return f\"{self.name} is being called\"\n",
    "            "
   ]
  },
  {
   "cell_type": "code",
   "execution_count": 2,
   "id": "80b86fda",
   "metadata": {},
   "outputs": [
    {
     "name": "stdout",
     "output_type": "stream",
     "text": [
      "Alice is 30 years old\n",
      "Alice is 30 years old\n",
      "Person (Alice,30)\n",
      "30\n",
      "Alice is 30 years old\n"
     ]
    }
   ],
   "source": [
    "person= Person(\"Alice\",30)\n",
    "print(person) # print \"Alice is 30 years old\"\n",
    "print(str(person)) #also prints \"Alice is 30 years old\"\n",
    "print(repr(person))#print \"Perosn('Alice',30)\"\n",
    "print(len(person)) #print 30\n",
    "print(person) #prints \"Alice is being called\""
   ]
  },
  {
   "cell_type": "code",
   "execution_count": null,
   "id": "31c63098",
   "metadata": {},
   "outputs": [],
   "source": []
  },
  {
   "cell_type": "code",
   "execution_count": 24,
   "id": "2694c345",
   "metadata": {},
   "outputs": [],
   "source": [
    "class Person:\n",
    "    def __init__(self, name, age):\n",
    "        self.name=name\n",
    "        self.age=age\n",
    "        \n",
    "    def __str__(self):\n",
    "        return f\"{self.name} is {self.age} years old\"\n",
    "    \n",
    "    def __repr__(self):\n",
    "        return f\"Person tyska baje ({self.name},{self.age})\"\n",
    "    \n",
    "    def __len__(self):\n",
    "        return self.age\n",
    "    \n",
    "    def __call__(self):\n",
    "        return f\"{self.name} is being called\"\n",
    "    \n",
    "    \n",
    "    \n",
    "    "
   ]
  },
  {
   "cell_type": "code",
   "execution_count": 25,
   "id": "5de55401",
   "metadata": {
    "scrolled": true
   },
   "outputs": [
    {
     "name": "stdout",
     "output_type": "stream",
     "text": [
      "Hari is 30 years old\n",
      "Hari is 30 years old\n",
      "Person tyska baje (Hari,30)\n",
      "30\n",
      "Hari is being called\n"
     ]
    }
   ],
   "source": [
    "person=Person(\"Hari\",30)\n",
    "\n",
    "print(person)\n",
    "print(str(person))\n",
    "print(repr(person))\n",
    "print(len(person))\n",
    "print(person())"
   ]
  },
  {
   "cell_type": "code",
   "execution_count": null,
   "id": "8ad245a6",
   "metadata": {},
   "outputs": [],
   "source": []
  },
  {
   "cell_type": "code",
   "execution_count": 24,
   "id": "5b2fe8be",
   "metadata": {},
   "outputs": [],
   "source": [
    "class Person:\n",
    "    def __init__(self,name,age):\n",
    "        self.name=name\n",
    "        self.age=age\n",
    "        \n",
    "    def __str__(self):\n",
    "        return f\"{self.name} is {self.age} years old\"\n",
    "    \n",
    "    #def __repr__(self):\n",
    "        #return f\"person ({self.name},{self.age})\"\n",
    "    \n",
    "    def __len__(self):\n",
    "        return self.age\n",
    "    \n",
    "    def __call__(self):\n",
    "        return f\"{self.name} is being called\"\n",
    "    "
   ]
  },
  {
   "cell_type": "code",
   "execution_count": 25,
   "id": "2e267192",
   "metadata": {},
   "outputs": [
    {
     "name": "stdout",
     "output_type": "stream",
     "text": [
      "Ram is 30 years old\n",
      "Ram is 30 years old\n",
      "<__main__.Person object at 0x0000020E6ADF3910>\n",
      "30\n",
      "Ram is being called\n"
     ]
    }
   ],
   "source": [
    "psn=Person(\"Ram\",30)\n",
    "print(psn)\n",
    "print(str(psn))\n",
    "print(repr(psn))\n",
    "print(len(psn))\n",
    "print(psn())"
   ]
  },
  {
   "cell_type": "code",
   "execution_count": null,
   "id": "bbe16e51",
   "metadata": {},
   "outputs": [],
   "source": []
  }
 ],
 "metadata": {
  "kernelspec": {
   "display_name": "Python 3 (ipykernel)",
   "language": "python",
   "name": "python3"
  },
  "language_info": {
   "codemirror_mode": {
    "name": "ipython",
    "version": 3
   },
   "file_extension": ".py",
   "mimetype": "text/x-python",
   "name": "python",
   "nbconvert_exporter": "python",
   "pygments_lexer": "ipython3",
   "version": "3.11.3"
  }
 },
 "nbformat": 4,
 "nbformat_minor": 5
}
