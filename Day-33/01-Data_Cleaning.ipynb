{
 "cells": [
  {
   "cell_type": "code",
   "execution_count": 16,
   "id": "c74cd505",
   "metadata": {},
   "outputs": [],
   "source": [
    "import pandas as pd"
   ]
  },
  {
   "cell_type": "code",
   "execution_count": 19,
   "id": "bf4e740e",
   "metadata": {},
   "outputs": [
    {
     "name": "stdout",
     "output_type": "stream",
     "text": [
      "Original data fram:\n",
      "      A  B   C\n",
      "0   foo  1  10\n",
      "1   bar  2  20\n",
      "2   foo  3  30\n",
      "3  quax  4  40\n",
      "4   baz  5  50\n",
      "5   bar  6  60\n",
      "6   foo  7  70\n"
     ]
    }
   ],
   "source": [
    "# create a sample dataset  with duplicate values\n",
    "data= {\"A\": ['foo','bar','foo','quax','baz','bar','foo'],\n",
    "      'B':[1,2,3,4,5,6,7],\n",
    "      'C':[10,20,30,40,50,60,70]}\n",
    "df=pd.DataFrame(data)\n",
    "#print the orignal dataframe\n",
    "print('Original data fram:')\n",
    "print(df)"
   ]
  },
  {
   "cell_type": "code",
   "execution_count": null,
   "id": "aa492308",
   "metadata": {},
   "outputs": [],
   "source": []
  }
 ],
 "metadata": {
  "kernelspec": {
   "display_name": "Python 3 (ipykernel)",
   "language": "python",
   "name": "python3"
  },
  "language_info": {
   "codemirror_mode": {
    "name": "ipython",
    "version": 3
   },
   "file_extension": ".py",
   "mimetype": "text/x-python",
   "name": "python",
   "nbconvert_exporter": "python",
   "pygments_lexer": "ipython3",
   "version": "3.11.3"
  }
 },
 "nbformat": 4,
 "nbformat_minor": 5
}
