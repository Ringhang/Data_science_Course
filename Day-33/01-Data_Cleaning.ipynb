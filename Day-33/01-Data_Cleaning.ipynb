{
 "cells": [
  {
   "cell_type": "code",
   "execution_count": 33,
   "id": "9e89cc70",
   "metadata": {},
   "outputs": [],
   "source": [
    "import pandas as pd\n",
    "import numpy as np"
   ]
  },
  {
   "cell_type": "markdown",
   "id": "336246e4",
   "metadata": {},
   "source": [
    "# Handlong Duplicates"
   ]
  },
  {
   "cell_type": "code",
   "execution_count": 34,
   "id": "5077f627",
   "metadata": {},
   "outputs": [
    {
     "name": "stdout",
     "output_type": "stream",
     "text": [
      "Original dataframe:\n",
      "     A  B   C\n",
      "0  foo  1  10\n",
      "1  bar  2  20\n",
      "2  foo  3  30\n",
      "3  baz  4  40\n",
      "4  qux  5  50\n",
      "5  bar  6  60\n",
      "6  foo  7  70\n"
     ]
    }
   ],
   "source": [
    "# Create a sample dataset with duplicate values\n",
    "data = {'A': ['foo', 'bar', 'foo', 'baz', 'qux', 'bar', 'foo'],\n",
    "        'B': [1, 2, 3, 4, 5, 6, 7],\n",
    "        'C': [10, 20, 30, 40, 50, 60, 70]}\n",
    "df = pd.DataFrame(data)\n",
    "\n",
    "# Print the original dataframe\n",
    "print('Original dataframe:')\n",
    "print(df)"
   ]
  },
  {
   "cell_type": "code",
   "execution_count": 35,
   "id": "08b209d2",
   "metadata": {},
   "outputs": [
    {
     "name": "stdout",
     "output_type": "stream",
     "text": [
      "\n",
      "Dataframe after dropping duplicates:\n",
      "     A  B   C\n",
      "0  foo  1  10\n",
      "1  bar  2  20\n",
      "3  baz  4  40\n",
      "4  qux  5  50\n"
     ]
    }
   ],
   "source": [
    "# Drop duplicates\n",
    "df.drop_duplicates(subset=['A'], inplace=True)\n",
    "print('\\nDataframe after dropping duplicates:')\n",
    "print(df)"
   ]
  },
  {
   "cell_type": "code",
   "execution_count": 36,
   "id": "918ff3ec",
   "metadata": {},
   "outputs": [
    {
     "name": "stdout",
     "output_type": "stream",
     "text": [
      "\n",
      "Dataframe after aggregating duplicates:\n",
      "       B     C\n",
      "A             \n",
      "bar  2.0  20.0\n",
      "baz  4.0  40.0\n",
      "foo  1.0  10.0\n",
      "qux  5.0  50.0\n"
     ]
    }
   ],
   "source": [
    "# Aggregate duplicates\n",
    "agg_df = df.groupby(['A']).mean()\n",
    "print('\\nDataframe after aggregating duplicates:')\n",
    "print(agg_df)"
   ]
  },
  {
   "cell_type": "code",
   "execution_count": 37,
   "id": "097286bd",
   "metadata": {},
   "outputs": [
    {
     "name": "stdout",
     "output_type": "stream",
     "text": [
      "\n",
      "Dataframe after keeping the first occurrence:\n",
      "     A  B   C\n",
      "0  foo  1  10\n",
      "1  bar  2  20\n",
      "3  baz  4  40\n",
      "4  qux  5  50\n"
     ]
    }
   ],
   "source": [
    "# Keep the first occurrence\n",
    "first_df = df.drop_duplicates(subset=['A'], keep='first')\n",
    "print('\\nDataframe after keeping the first occurrence:')\n",
    "print(first_df)"
   ]
  },
  {
   "cell_type": "code",
   "execution_count": 38,
   "id": "19f1678f",
   "metadata": {},
   "outputs": [
    {
     "name": "stdout",
     "output_type": "stream",
     "text": [
      "\n",
      "Dataframe after keeping the last occurrence:\n",
      "     A  B   C\n",
      "0  foo  1  10\n",
      "1  bar  2  20\n",
      "3  baz  4  40\n",
      "4  qux  5  50\n"
     ]
    }
   ],
   "source": [
    "# Keep the last occurrence\n",
    "last_df = df.drop_duplicates(subset=['A'], keep='last')\n",
    "print('\\nDataframe after keeping the last occurrence:')\n",
    "print(last_df)"
   ]
  },
  {
   "cell_type": "code",
   "execution_count": 39,
   "id": "1014da06",
   "metadata": {},
   "outputs": [
    {
     "name": "stdout",
     "output_type": "stream",
     "text": [
      "\n",
      "Dataframe after marking duplicates:\n",
      "     A  B   C  duplicate\n",
      "0  foo  1  10      False\n",
      "1  bar  2  20      False\n",
      "3  baz  4  40      False\n",
      "4  qux  5  50      False\n"
     ]
    }
   ],
   "source": [
    "# Mark duplicates\n",
    "df['duplicate'] = df.duplicated(subset=['A'])\n",
    "print('\\nDataframe after marking duplicates:')\n",
    "print(df)"
   ]
  },
  {
   "cell_type": "markdown",
   "id": "ddeea807",
   "metadata": {},
   "source": [
    "# Handling Incorrect Data"
   ]
  },
  {
   "cell_type": "code",
   "execution_count": 40,
   "id": "97fb23c7",
   "metadata": {},
   "outputs": [
    {
     "name": "stdout",
     "output_type": "stream",
     "text": [
      "Dataset before Handling Incorrect Values\n",
      "   id   name  age gender income\n",
      "0   1   John   25      M  50000\n",
      "1   2   Jane  -31      F  70000\n",
      "2   3    Bob   42      M    NaN\n",
      "3   4  Alice   19      F  30000\n",
      "4   5  David   37      Z  60000\n"
     ]
    }
   ],
   "source": [
    "# Create a dummy dataset\n",
    "data = pd.DataFrame({\n",
    "    'id': [1, 2, 3, 4, 5],\n",
    "    'name': ['John', 'Jane', 'Bob', 'Alice', 'David'],\n",
    "    'age': [25, -31, 42, 19, 37],\n",
    "    'gender': ['M', 'F', 'M', 'F', 'Z'],\n",
    "    'income': [50000, 70000, np.nan, '30000', 60000]\n",
    "})\n",
    "print(\"Dataset before Handling Incorrect Values\")\n",
    "print(data)"
   ]
  },
  {
   "cell_type": "code",
   "execution_count": 41,
   "id": "0d2aaec9",
   "metadata": {},
   "outputs": [
    {
     "name": "stdout",
     "output_type": "stream",
     "text": [
      "\n",
      "Dataset after Handling Incorrect Values\n",
      "   id  name  age gender income\n",
      "0   1  John   25      M  50000\n",
      "2   3   Bob   42      M    NaN\n"
     ]
    }
   ],
   "source": [
    "# Identify incorrect data\n",
    "incorrect_age = data[(data['age'] <= 0) | (data['age'] > 100)]\n",
    "incorrect_gender = data[~data['gender'].isin(['M', 'F'])]\n",
    "incorrect_income = data[~data['income'].apply(lambda x: isinstance(x, (int, float)))]\n",
    "\n",
    "# Delete incorrect data\n",
    "data = data.drop(incorrect_age.index)\n",
    "data = data.drop(incorrect_gender.index)\n",
    "data = data.drop(incorrect_income.index)\n",
    "\n",
    "# Display the cleaned dataset\n",
    "print(\"\\nDataset after Handling Incorrect Values\")\n",
    "print(data)"
   ]
  },
  {
   "cell_type": "code",
   "execution_count": 42,
   "id": "a5d23cd4",
   "metadata": {},
   "outputs": [
    {
     "name": "stdout",
     "output_type": "stream",
     "text": [
      "   id  name  age gender income\n",
      "0   1  John   25      M  50000\n",
      "2   3   Bob   42      M    NaN\n",
      "After Dropping with age condition:    id  name  age gender income\n",
      "0   1  John   25      M  50000\n",
      "2   3   Bob   42      M    NaN\n",
      "After Dropping with gender condition: Empty DataFrame\n",
      "Columns: [id, name, age, gender, income]\n",
      "Index: []\n",
      "\n",
      "Dataset after Handling Incorrect Values\n",
      "Empty DataFrame\n",
      "Columns: [id, name, age, gender, income]\n",
      "Index: []\n"
     ]
    }
   ],
   "source": [
    "# Identify incorrect data\n",
    "incorrect_age = data[(data['age'] <= 0) | (data['age'] > 100)]\n",
    "incorrect_gender = data[data['gender'].isin(['M', 'F'])]\n",
    "incorrect_income = data[~data['income'].apply(lambda x: isinstance(x, (int, float)))]\n",
    "\n",
    "# Delete incorrect data\n",
    "print(data)\n",
    "data = data.drop(incorrect_age.index)\n",
    "print(\"After Dropping with age condition:\", data)\n",
    "data = data.drop(incorrect_gender.index)\n",
    "print(\"After Dropping with gender condition:\", data)\n",
    "data = data.drop(incorrect_income.index)\n",
    "\n",
    "# Display the cleaned dataset\n",
    "print(\"\\nDataset after Handling Incorrect Values\")\n",
    "print(data)"
   ]
  },
  {
   "cell_type": "markdown",
   "id": "174c6b9d",
   "metadata": {},
   "source": [
    "# Handling Inconsistent Data"
   ]
  },
  {
   "cell_type": "code",
   "execution_count": 43,
   "id": "cce5a931",
   "metadata": {},
   "outputs": [
    {
     "name": "stdout",
     "output_type": "stream",
     "text": [
      "Inconsistent Data\n",
      "   id        country        date\n",
      "0   1            USA  2021-01-01\n",
      "1   2         U.S.A.  01/01/2021\n",
      "2   3  United States  2021-01-01\n",
      "3   4         Canada  2021-01-01\n",
      "4   5         Mexico  01-01-2021\n",
      "\n",
      "Consistent Data\n",
      "   id country        date\n",
      "0   1      US  2021-01-01\n",
      "1   2      US  2021-01-01\n",
      "2   3      US  2021-01-01\n",
      "3   4      CA  2021-01-01\n",
      "4   5      MX  01-01-2021\n"
     ]
    }
   ],
   "source": [
    "# Create a dummy dataset\n",
    "data = pd.DataFrame({\n",
    "    'id': [1, 2, 3, 4, 5],\n",
    "    'country': ['USA', 'U.S.A.', 'United States', 'Canada', 'Mexico'],\n",
    "    'date': ['2021-01-01', '01/01/2021', '2021-01-01', '2021-01-01', '01-01-2021']\n",
    "})\n",
    "\n",
    "# Define rules for resolving inconsistencies\n",
    "country_codes = {\n",
    "    'USA': 'US',\n",
    "    'U.S.A.': 'US',\n",
    "    'United States': 'US',\n",
    "    'Canada': 'CA',\n",
    "    'Mexico': 'MX'\n",
    "}\n",
    "print(\"Inconsistent Data\")\n",
    "print(data)\n",
    "\n",
    "def parse_date(date_str):\n",
    "    if '-' in date_str:\n",
    "        return date_str\n",
    "    elif '/' in date_str:\n",
    "        parts = date_str.split('/')\n",
    "        return f'{parts[2]}-{parts[0]}-{parts[1]}'\n",
    "    else:\n",
    "        parts = date_str.split('-')\n",
    "        return f'{parts[2]}-{parts[1]}-{parts[0]}'\n",
    "\n",
    "# Apply rules to the data\n",
    "data['country'] = data['country'].apply(lambda x: country_codes.get(x, x))\n",
    "data['date'] = data['date'].apply(parse_date)\n",
    "\n",
    "# Verify the results\n",
    "print(\"\\nConsistent Data\")\n",
    "print(data)"
   ]
  },
  {
   "cell_type": "markdown",
   "id": "b9dcfaf4",
   "metadata": {},
   "source": [
    "# Assignment"
   ]
  },
  {
   "cell_type": "code",
   "execution_count": 45,
   "id": "e17f360c",
   "metadata": {},
   "outputs": [],
   "source": [
    "# Create a dummy dataset\n",
    "data = pd.DataFrame({\n",
    "    'id': [1, 2, 3, 4, 5],\n",
    "    'country': ['USA', 'U.S.A.', 'United States', 'Canada', 'Mexico'],\n",
    "    'date': ['2021-01-01', '01/01/2021', '2021-01-01', '2021-01-01', '01-01-2021']\n",
    "})"
   ]
  },
  {
   "cell_type": "code",
   "execution_count": null,
   "id": "26793f1c",
   "metadata": {},
   "outputs": [],
   "source": []
  }
 ],
 "metadata": {
  "kernelspec": {
   "display_name": "Python 3 (ipykernel)",
   "language": "python",
   "name": "python3"
  },
  "language_info": {
   "codemirror_mode": {
    "name": "ipython",
    "version": 3
   },
   "file_extension": ".py",
   "mimetype": "text/x-python",
   "name": "python",
   "nbconvert_exporter": "python",
   "pygments_lexer": "ipython3",
   "version": "3.11.3"
  }
 },
 "nbformat": 4,
 "nbformat_minor": 5
}
