{
 "cells": [
  {
   "cell_type": "code",
   "execution_count": 1,
   "id": "368d3067",
   "metadata": {},
   "outputs": [],
   "source": [
    "import pandas as pd\n",
    "import numpy as np"
   ]
  },
  {
   "cell_type": "code",
   "execution_count": 2,
   "id": "efb2bd13",
   "metadata": {},
   "outputs": [
    {
     "name": "stdout",
     "output_type": "stream",
     "text": [
      "Inconsistent Data\n",
      "   id        country        date\n",
      "0   1            USA  2021-01-01\n",
      "1   2         U.S.A.  01/01/2021\n",
      "2   3  United States  2021-01-01\n",
      "3   4         Canada  2021-01-01\n",
      "4   5         Mexico  01-01-2021\n",
      "\n",
      "Consistent Data\n",
      "   id country        date\n",
      "0   1      US  2021-01-01\n",
      "1   2      US  2021-01-01\n",
      "2   3      US  2021-01-01\n",
      "3   4      CA  2021-01-01\n",
      "4   5      MX  01-01-2021\n"
     ]
    }
   ],
   "source": [
    "# Create a dummy dataset\n",
    "data = pd.DataFrame({\n",
    "    'id': [1, 2, 3, 4, 5],\n",
    "    'country': ['USA', 'U.S.A.', 'United States', 'Canada', 'Mexico'],\n",
    "    'date': ['2021-01-01', '01/01/2021', '2021-01-01', '2021-01-01', '01-01-2021']\n",
    "})\n",
    "\n",
    "# Define rules for resolving inconsistencies\n",
    "country_codes = {\n",
    "    'USA': 'US',\n",
    "    'U.S.A.': 'US',\n",
    "    'United States': 'US',\n",
    "    'Canada': 'CA',\n",
    "    'Mexico': 'MX'\n",
    "}\n",
    "print(\"Inconsistent Data\")\n",
    "print(data)\n",
    "\n",
    "def parse_date(date_str):\n",
    "    if '-' in date_str:\n",
    "        return date_str\n",
    "    elif '/' in date_str:\n",
    "        parts = date_str.split('/')\n",
    "        return f'{parts[2]}-{parts[0]}-{parts[1]}'\n",
    "    else:\n",
    "        parts = date_str.split('-')\n",
    "        return f'{parts[2]}-{parts[1]}-{parts[0]}'\n",
    "\n",
    "# Apply rules to the data\n",
    "data['country'] = data['country'].apply(lambda x: country_codes.get(x, x))\n",
    "data['date'] = data['date'].apply(parse_date)\n",
    "\n",
    "# Verify the results\n",
    "print(\"\\nConsistent Data\")\n",
    "print(data)"
   ]
  },
  {
   "cell_type": "code",
   "execution_count": null,
   "id": "83511958",
   "metadata": {},
   "outputs": [],
   "source": []
  }
 ],
 "metadata": {
  "kernelspec": {
   "display_name": "Python 3 (ipykernel)",
   "language": "python",
   "name": "python3"
  },
  "language_info": {
   "codemirror_mode": {
    "name": "ipython",
    "version": 3
   },
   "file_extension": ".py",
   "mimetype": "text/x-python",
   "name": "python",
   "nbconvert_exporter": "python",
   "pygments_lexer": "ipython3",
   "version": "3.11.3"
  }
 },
 "nbformat": 4,
 "nbformat_minor": 5
}
