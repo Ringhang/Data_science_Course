{
 "cells": [
  {
   "cell_type": "markdown",
   "id": "f33e43f0",
   "metadata": {},
   "source": [
    " # Design a program to controll speed of a car and bike indepently  . Also consider the phenomenon of each stering if its a car and hanlde if its a bike.\n",
    " - Parent Class : vehichle\n",
    " - Child1- Bike\n",
    " - Child2: Car\n",
    "\n",
    "Methods turning speed"
   ]
  },
  {
   "cell_type": "code",
   "execution_count": null,
   "id": "486506ef",
   "metadata": {},
   "outputs": [],
   "source": [
    "class Vehichle:\n",
    "    "
   ]
  },
  {
   "cell_type": "code",
   "execution_count": null,
   "id": "cadf3065",
   "metadata": {},
   "outputs": [],
   "source": []
  },
  {
   "cell_type": "code",
   "execution_count": null,
   "id": "50a0308a",
   "metadata": {},
   "outputs": [],
   "source": []
  }
 ],
 "metadata": {
  "kernelspec": {
   "display_name": "Python 3 (ipykernel)",
   "language": "python",
   "name": "python3"
  },
  "language_info": {
   "codemirror_mode": {
    "name": "ipython",
    "version": 3
   },
   "file_extension": ".py",
   "mimetype": "text/x-python",
   "name": "python",
   "nbconvert_exporter": "python",
   "pygments_lexer": "ipython3",
   "version": "3.11.3"
  }
 },
 "nbformat": 4,
 "nbformat_minor": 5
}
