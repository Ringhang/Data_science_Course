{
 "cells": [
  {
   "cell_type": "code",
   "execution_count": 20,
   "id": "e3b938ff",
   "metadata": {},
   "outputs": [],
   "source": [
    "class Animal:\n",
    "    def sound(self):\n",
    "        print(\"make some sound....\")\n",
    "        \n",
    "class Dog(Animal):\n",
    "    def sound(self):\n",
    "        print(\"Barking....\")\n",
    "        \n",
    "class Cat(Animal):\n",
    "    def sound(self):\n",
    "        print(\"Meowing...\")"
   ]
  },
  {
   "cell_type": "code",
   "execution_count": 21,
   "id": "bfadc198",
   "metadata": {
    "scrolled": true
   },
   "outputs": [
    {
     "name": "stdout",
     "output_type": "stream",
     "text": [
      "make some sound....\n",
      "Barking....\n",
      "Meowing...\n"
     ]
    }
   ],
   "source": [
    "animal=Animal()\n",
    "dog=Dog()\n",
    "cat=Cat()\n",
    "\n",
    "animal.sound()\n",
    "dog.sound()\n",
    "cat.sound()"
   ]
  },
  {
   "cell_type": "code",
   "execution_count": null,
   "id": "f674f022",
   "metadata": {},
   "outputs": [],
   "source": []
  },
  {
   "cell_type": "code",
   "execution_count": 22,
   "id": "f4eb27b6",
   "metadata": {},
   "outputs": [],
   "source": [
    "class Animal:\n",
    "    def sound(self):\n",
    "        print(\"make some sound....\")\n",
    "        \n",
    "class Base2:\n",
    "    def sound(self):\n",
    "        print(\"Base 2 sound....\")\n",
    "        \n",
    "class Dog(Animal):\n",
    "    def speak(self):\n",
    "        print(\"Barking...\")"
   ]
  },
  {
   "cell_type": "code",
   "execution_count": 23,
   "id": "896bf652",
   "metadata": {},
   "outputs": [
    {
     "name": "stdout",
     "output_type": "stream",
     "text": [
      "make some sound....\n"
     ]
    }
   ],
   "source": [
    "animal=Animal()\n",
    "\n",
    "animal.sound()\n"
   ]
  },
  {
   "cell_type": "code",
   "execution_count": 24,
   "id": "51847729",
   "metadata": {},
   "outputs": [
    {
     "name": "stdout",
     "output_type": "stream",
     "text": [
      "Base 2 sound....\n"
     ]
    }
   ],
   "source": [
    "base=Base2()\n",
    "base.sound()"
   ]
  },
  {
   "cell_type": "code",
   "execution_count": 25,
   "id": "4f99ca4e",
   "metadata": {},
   "outputs": [
    {
     "name": "stdout",
     "output_type": "stream",
     "text": [
      "Barking...\n",
      "make some sound....\n"
     ]
    }
   ],
   "source": [
    "dog=Dog()\n",
    "dog.speak()\n",
    "dog.sound()"
   ]
  },
  {
   "cell_type": "code",
   "execution_count": null,
   "id": "79c33dcd",
   "metadata": {},
   "outputs": [],
   "source": []
  },
  {
   "cell_type": "code",
   "execution_count": 27,
   "id": "c35c5768",
   "metadata": {},
   "outputs": [],
   "source": [
    "class Parent:\n",
    "    def say_hello(self):\n",
    "        print(\"hello from parent\")\n",
    "        \n",
    "class Child(Parent):\n",
    "    def say_hello(self):\n",
    "        print(\"Hello from child\")\n",
    "        super().say_hello() #calls the overridden method in the parent class"
   ]
  },
  {
   "cell_type": "code",
   "execution_count": 28,
   "id": "dc609bb0",
   "metadata": {},
   "outputs": [
    {
     "name": "stdout",
     "output_type": "stream",
     "text": [
      "Hello from child\n",
      "hello from parent\n"
     ]
    }
   ],
   "source": [
    "obj=Child()\n",
    "obj.say_hello()"
   ]
  },
  {
   "cell_type": "code",
   "execution_count": null,
   "id": "588adc50",
   "metadata": {},
   "outputs": [],
   "source": []
  },
  {
   "cell_type": "code",
   "execution_count": null,
   "id": "dfffaf36",
   "metadata": {},
   "outputs": [],
   "source": []
  }
 ],
 "metadata": {
  "kernelspec": {
   "display_name": "Python 3 (ipykernel)",
   "language": "python",
   "name": "python3"
  },
  "language_info": {
   "codemirror_mode": {
    "name": "ipython",
    "version": 3
   },
   "file_extension": ".py",
   "mimetype": "text/x-python",
   "name": "python",
   "nbconvert_exporter": "python",
   "pygments_lexer": "ipython3",
   "version": "3.11.3"
  }
 },
 "nbformat": 4,
 "nbformat_minor": 5
}
