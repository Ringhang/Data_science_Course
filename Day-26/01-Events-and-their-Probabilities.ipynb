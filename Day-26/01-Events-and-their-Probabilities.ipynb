{
 "cells": [
  {
   "cell_type": "code",
   "execution_count": 2,
   "id": "a17455d1",
   "metadata": {},
   "outputs": [],
   "source": [
    "import random"
   ]
  },
  {
   "cell_type": "code",
   "execution_count": 3,
   "id": "b29bd947",
   "metadata": {},
   "outputs": [
    {
     "name": "stdout",
     "output_type": "stream",
     "text": [
      "coin flip result: Tails\n",
      "Dice roll result: 4\n"
     ]
    }
   ],
   "source": [
    "#elementary events\n",
    "coin_flip=random.choice(['Heads','Tails'])\n",
    "print(\"coin flip result:\",coin_flip)\n",
    "\n",
    "dice_roll=random.randint(1,6)\n",
    "#1,2,3,4,5,6\n",
    "print(\"Dice roll result:\",dice_roll)"
   ]
  },
  {
   "cell_type": "code",
   "execution_count": 4,
   "id": "84c18387",
   "metadata": {},
   "outputs": [
    {
     "name": "stdout",
     "output_type": "stream",
     "text": [
      "Dice sum result: 4\n",
      "cards drawn: ['9 of hearts', '4 of hearts']\n"
     ]
    }
   ],
   "source": [
    "#compound events\n",
    "dice_sum=random.randint(1,6)+random.randint(1,6)\n",
    "print(\"Dice sum result:\",dice_sum)\n",
    "cards=['2 of hearts','3 of hearts','4 of hearts','5 of hearts','6 of hearts','7 of hearts',\n",
    "       '8 of hearts','9 of hearts','10 of hearts','jack of hearts','Queen of hearts',\n",
    "       'king of hearts','Ace of hearts']\n",
    "cards_drawn=random.sample(cards,2)\n",
    "print(\"cards drawn:\",cards_drawn)"
   ]
  },
  {
   "cell_type": "code",
   "execution_count": 5,
   "id": "823e07c7",
   "metadata": {},
   "outputs": [
    {
     "name": "stdout",
     "output_type": "stream",
     "text": [
      "Even number is rolled\n"
     ]
    }
   ],
   "source": [
    "#mutually exclusive events\n",
    "dice_number=random.randint(1,6)\n",
    "if dice_number %2==0:\n",
    "    print(\"Even number is rolled\")\n",
    "else:\n",
    "    print(\"odd number rolled\")"
   ]
  },
  {
   "cell_type": "code",
   "execution_count": 6,
   "id": "c31a40dc",
   "metadata": {},
   "outputs": [
    {
     "name": "stdout",
     "output_type": "stream",
     "text": [
      "coin flip 1 result: Tails\n",
      "coin flip 2 result: Tails\n"
     ]
    }
   ],
   "source": [
    "#Independent events\n",
    "coin_flip_1=random.choice(['Heads','Tails'])\n",
    "coin_flip_2=random.choice(['Heads','Tails'])\n",
    "print(\"coin flip 1 result:\",coin_flip_1)\n",
    "print(\"coin flip 2 result:\",coin_flip_2)"
   ]
  },
  {
   "cell_type": "markdown",
   "id": "0035f089",
   "metadata": {},
   "source": [
    " ### Conditional Probability\n",
    " P(A/B)=P(A and B)/(P(B))"
   ]
  },
  {
   "cell_type": "code",
   "execution_count": 7,
   "id": "96dc6e6f",
   "metadata": {},
   "outputs": [
    {
     "name": "stdout",
     "output_type": "stream",
     "text": [
      "The selected ball is red and urn A was selected\n",
      "Conditional probability: 0.6\n"
     ]
    }
   ],
   "source": [
    "# Define the urns\n",
    "urn_a=['red','red','red','blue','blue']\n",
    "urn_b=['red','blue','blue','blue','blue']\n",
    "\n",
    "#Randomly select an urn\n",
    "selected_urn=random.choice([urn_a,urn_b])\n",
    "\n",
    "#\n",
    "selected_ball=random.choice(selected_urn)\n",
    "#check if the selected ballis red and the selected urn is urn A\n",
    "\n",
    "if selected_ball=='red' and selected_urn==urn_a:\n",
    "    print(\"The selected ball is red and urn A was selected\")\n",
    "    conditional_prob=urn_a.count('red')/len(urn_a)\n",
    "    print(\"Conditional probability:\",conditional_prob)\n",
    "else:\n",
    "    print(\"The selected ball is not red or urn A was not selected\")"
   ]
  },
  {
   "cell_type": "code",
   "execution_count": null,
   "id": "a72abb1e",
   "metadata": {},
   "outputs": [],
   "source": []
  },
  {
   "cell_type": "code",
   "execution_count": null,
   "id": "a85df3e9",
   "metadata": {},
   "outputs": [],
   "source": []
  }
 ],
 "metadata": {
  "kernelspec": {
   "display_name": "Python 3 (ipykernel)",
   "language": "python",
   "name": "python3"
  },
  "language_info": {
   "codemirror_mode": {
    "name": "ipython",
    "version": 3
   },
   "file_extension": ".py",
   "mimetype": "text/x-python",
   "name": "python",
   "nbconvert_exporter": "python",
   "pygments_lexer": "ipython3",
   "version": "3.11.3"
  }
 },
 "nbformat": 4,
 "nbformat_minor": 5
}
