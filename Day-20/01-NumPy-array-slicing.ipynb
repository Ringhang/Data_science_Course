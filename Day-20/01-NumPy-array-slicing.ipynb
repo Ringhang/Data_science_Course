{
 "cells": [
  {
   "cell_type": "code",
   "execution_count": 16,
   "id": "b6ce2c7c",
   "metadata": {},
   "outputs": [],
   "source": [
    "import numpy as np"
   ]
  },
  {
   "cell_type": "markdown",
   "id": "b092291e",
   "metadata": {},
   "source": [
    "1D Array:```array_name[idx] (similar to Python list)```\n",
    "\n",
    "2D Array: ```array_name [row,col_idx](similar to matrix)```\n",
    "\n",
    "3D Array: `array_name[dim1_idx, dim2_idx,...dimN_idx]`\n"
   ]
  },
  {
   "cell_type": "markdown",
   "id": "6cb5e6e2",
   "metadata": {},
   "source": [
    "### One Dimensional Array"
   ]
  },
  {
   "cell_type": "code",
   "execution_count": 17,
   "id": "abff8510",
   "metadata": {},
   "outputs": [],
   "source": [
    "list1=[1,2,3,4,5,6,7,8]"
   ]
  },
  {
   "cell_type": "code",
   "execution_count": 18,
   "id": "b7f401a2",
   "metadata": {},
   "outputs": [
    {
     "data": {
      "text/plain": [
       "[2, 3]"
      ]
     },
     "execution_count": 18,
     "metadata": {},
     "output_type": "execute_result"
    }
   ],
   "source": [
    "list1[1:3]"
   ]
  },
  {
   "cell_type": "code",
   "execution_count": 19,
   "id": "064c0f28",
   "metadata": {},
   "outputs": [],
   "source": [
    " array1=np.array(list1)"
   ]
  },
  {
   "cell_type": "code",
   "execution_count": 20,
   "id": "dc88092f",
   "metadata": {},
   "outputs": [
    {
     "data": {
      "text/plain": [
       "array([2, 4, 6])"
      ]
     },
     "execution_count": 20,
     "metadata": {},
     "output_type": "execute_result"
    }
   ],
   "source": [
    "array1[1:7:2]"
   ]
  },
  {
   "cell_type": "markdown",
   "id": "72d2f539",
   "metadata": {},
   "source": [
    "### Two Dimensional array"
   ]
  },
  {
   "cell_type": "code",
   "execution_count": 21,
   "id": "ce96912b",
   "metadata": {},
   "outputs": [],
   "source": [
    "list2=[[1,2,3,4,5,6,7,8],[1,3,5,7,9,11,13,15]]"
   ]
  },
  {
   "cell_type": "code",
   "execution_count": 22,
   "id": "3ee8292a",
   "metadata": {},
   "outputs": [
    {
     "data": {
      "text/plain": [
       "[6, 7, 8]"
      ]
     },
     "execution_count": 22,
     "metadata": {},
     "output_type": "execute_result"
    }
   ],
   "source": [
    "list2[0][5:]"
   ]
  },
  {
   "cell_type": "code",
   "execution_count": 23,
   "id": "e19b6d8d",
   "metadata": {},
   "outputs": [],
   "source": [
    "array2=np.array(list2)"
   ]
  },
  {
   "cell_type": "code",
   "execution_count": 24,
   "id": "c6c692ea",
   "metadata": {},
   "outputs": [
    {
     "data": {
      "text/plain": [
       "array([[ 1,  2,  3,  4,  5,  6,  7,  8],\n",
       "       [ 1,  3,  5,  7,  9, 11, 13, 15]])"
      ]
     },
     "execution_count": 24,
     "metadata": {},
     "output_type": "execute_result"
    }
   ],
   "source": [
    "array2"
   ]
  },
  {
   "cell_type": "code",
   "execution_count": 25,
   "id": "52de4a9f",
   "metadata": {},
   "outputs": [
    {
     "data": {
      "text/plain": [
       "array([6, 7, 8])"
      ]
     },
     "execution_count": 25,
     "metadata": {},
     "output_type": "execute_result"
    }
   ],
   "source": [
    "array2[0][5:] #0=first block of matrix list, 5:= element from 5th to last\n"
   ]
  },
  {
   "cell_type": "code",
   "execution_count": 26,
   "id": "5863ab42",
   "metadata": {},
   "outputs": [
    {
     "data": {
      "text/plain": [
       "array([6, 7, 8])"
      ]
     },
     "execution_count": 26,
     "metadata": {},
     "output_type": "execute_result"
    }
   ],
   "source": [
    "array2[0,5:]"
   ]
  },
  {
   "cell_type": "code",
   "execution_count": 27,
   "id": "b41b248a",
   "metadata": {},
   "outputs": [
    {
     "data": {
      "text/plain": [
       "array([[2, 3, 4],\n",
       "       [3, 5, 7]])"
      ]
     },
     "execution_count": 27,
     "metadata": {},
     "output_type": "execute_result"
    }
   ],
   "source": [
    "array2[:,1:4] #:=both block 1:4= element from 1 to 4th"
   ]
  },
  {
   "cell_type": "code",
   "execution_count": 28,
   "id": "6ff4d10b",
   "metadata": {},
   "outputs": [
    {
     "data": {
      "text/plain": [
       "array([2, 4, 6, 8])"
      ]
     },
     "execution_count": 28,
     "metadata": {},
     "output_type": "execute_result"
    }
   ],
   "source": [
    "array2[0][1:8:2]"
   ]
  },
  {
   "cell_type": "code",
   "execution_count": 41,
   "id": "2db4cec3",
   "metadata": {},
   "outputs": [
    {
     "data": {
      "text/plain": [
       "array([[ 2,  4,  6,  8],\n",
       "       [ 3,  7, 11, 15]])"
      ]
     },
     "execution_count": 41,
     "metadata": {},
     "output_type": "execute_result"
    }
   ],
   "source": [
    "# [start : stop : step]\n",
    "array2[:,1::2] # :=all block, 1::=start from 1 to last and step is 2"
   ]
  },
  {
   "cell_type": "code",
   "execution_count": null,
   "id": "34a0b967",
   "metadata": {},
   "outputs": [],
   "source": []
  },
  {
   "cell_type": "markdown",
   "id": "da7dae82",
   "metadata": {},
   "source": [
    "### Multi Dimensional"
   ]
  },
  {
   "cell_type": "code",
   "execution_count": 42,
   "id": "b0db4c8b",
   "metadata": {},
   "outputs": [],
   "source": [
    "list3=[[1,2,3,4,5,6,7,8],[1,3,5,7,9,11,13,15],[15,20,25,45,60,17,18,89]]"
   ]
  },
  {
   "cell_type": "code",
   "execution_count": 43,
   "id": "1120d76e",
   "metadata": {},
   "outputs": [],
   "source": [
    "array3=np.array(list3)"
   ]
  },
  {
   "cell_type": "code",
   "execution_count": 44,
   "id": "fb0a7454",
   "metadata": {},
   "outputs": [
    {
     "data": {
      "text/plain": [
       "array([[ 1,  2,  3,  4,  5,  6,  7,  8],\n",
       "       [ 1,  3,  5,  7,  9, 11, 13, 15],\n",
       "       [15, 20, 25, 45, 60, 17, 18, 89]])"
      ]
     },
     "execution_count": 44,
     "metadata": {},
     "output_type": "execute_result"
    }
   ],
   "source": [
    "array3"
   ]
  },
  {
   "cell_type": "code",
   "execution_count": 45,
   "id": "9a43ff55",
   "metadata": {},
   "outputs": [
    {
     "data": {
      "text/plain": [
       "array([[ 9, 11, 13],\n",
       "       [60, 17, 18]])"
      ]
     },
     "execution_count": 45,
     "metadata": {},
     "output_type": "execute_result"
    }
   ],
   "source": [
    "array3[1:, 4:7:1] \n",
    "# 1:= 2nd block to last block ,\n",
    "#4:7:1= from 4 to 7th element with step 1"
   ]
  },
  {
   "cell_type": "code",
   "execution_count": 47,
   "id": "fc7c43a2",
   "metadata": {},
   "outputs": [
    {
     "data": {
      "text/plain": [
       "(3, 8)"
      ]
     },
     "execution_count": 47,
     "metadata": {},
     "output_type": "execute_result"
    }
   ],
   "source": [
    "array3.shape"
   ]
  },
  {
   "cell_type": "code",
   "execution_count": 48,
   "id": "318978fe",
   "metadata": {},
   "outputs": [
    {
     "data": {
      "text/plain": [
       "3"
      ]
     },
     "execution_count": 48,
     "metadata": {},
     "output_type": "execute_result"
    }
   ],
   "source": [
    "array3.shape[0]"
   ]
  },
  {
   "cell_type": "code",
   "execution_count": 52,
   "id": "85a1b3a4",
   "metadata": {},
   "outputs": [],
   "source": [
    "list4=[[[1,2,3,4],[5,6,7,8]],\n",
    "      [[1,4,5,7],[9,10,11,12]],\n",
    "       [[5,10,15,20],[12,17,20,25]]\n",
    "      ]"
   ]
  },
  {
   "cell_type": "code",
   "execution_count": 53,
   "id": "d6f400e3",
   "metadata": {},
   "outputs": [],
   "source": [
    "array4=np.array(list4)"
   ]
  },
  {
   "cell_type": "code",
   "execution_count": 54,
   "id": "a8094889",
   "metadata": {},
   "outputs": [
    {
     "data": {
      "text/plain": [
       "(3, 2, 4)"
      ]
     },
     "execution_count": 54,
     "metadata": {},
     "output_type": "execute_result"
    }
   ],
   "source": [
    "array4.shape"
   ]
  },
  {
   "cell_type": "code",
   "execution_count": 56,
   "id": "52fc3c43",
   "metadata": {},
   "outputs": [
    {
     "data": {
      "text/plain": [
       "3"
      ]
     },
     "execution_count": 56,
     "metadata": {},
     "output_type": "execute_result"
    }
   ],
   "source": [
    "array4.ndim"
   ]
  },
  {
   "cell_type": "code",
   "execution_count": 57,
   "id": "f2ae5697",
   "metadata": {},
   "outputs": [
    {
     "data": {
      "text/plain": [
       "array([[[ 2,  3],\n",
       "        [ 6,  7]],\n",
       "\n",
       "       [[ 4,  5],\n",
       "        [10, 11]]])"
      ]
     },
     "execution_count": 57,
     "metadata": {},
     "output_type": "execute_result"
    }
   ],
   "source": [
    "array4[:2, :, 1:3]"
   ]
  },
  {
   "cell_type": "code",
   "execution_count": null,
   "id": "daef0eec",
   "metadata": {},
   "outputs": [],
   "source": []
  }
 ],
 "metadata": {
  "kernelspec": {
   "display_name": "Python 3 (ipykernel)",
   "language": "python",
   "name": "python3"
  },
  "language_info": {
   "codemirror_mode": {
    "name": "ipython",
    "version": 3
   },
   "file_extension": ".py",
   "mimetype": "text/x-python",
   "name": "python",
   "nbconvert_exporter": "python",
   "pygments_lexer": "ipython3",
   "version": "3.11.3"
  }
 },
 "nbformat": 4,
 "nbformat_minor": 5
}
