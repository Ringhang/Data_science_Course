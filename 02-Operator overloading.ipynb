{
 "cells": [
  {
   "cell_type": "raw",
   "id": "c77b5e09",
   "metadata": {},
   "source": [
    " addition a+b expression a.__add__(b)\n",
    " dubtraction a-b expression  a.__sub__(b)\n",
    " multiplicatin a*b expressed a.__mul__(b)\n",
    " division a/b expressed a.__truediv__(b)\n",
    " floor division a//b expressed a.__floordiv__(b)\n",
    " remainder(module) a%b expressed a.__mod__(b)\n",
    " power  a**b expression a.__pow__(b)\n",
    " equals to a==b expression a.__eq__(b)\n",
    " less than a<b expression a.__lt__(b)\n",
    " greater than a>b expression a.__gt__(b)\n",
    " bitwise AND a&b expression  a.__and__(b)\n",
    " bitwise OR a|b a.__or__(b)\n",
    " bitwise NOT ~a a.__invert__()\n",
    " bitwise XOR a^b expression a.__xor__(b)\n",
    " bitwise left shif a<<b a.__lshift__(b)\n",
    " bitwise right shif a>>b a.__rshift__(b)"
   ]
  },
  {
   "cell_type": "code",
   "execution_count": 3,
   "id": "3973a99a",
   "metadata": {},
   "outputs": [],
   "source": [
    "class Point:\n",
    "    def __init__(self,x,y):\n",
    "        self.x=x\n",
    "        self.y=y\n",
    "        \n",
    "    def __add__(self,other):\n",
    "        x=self.x+other.x\n",
    "        y=self.y+other.y\n",
    "        return Point(x,y)\n",
    "    \n",
    "    def __sub__(self,other):\n",
    "        x=self.x-other.x\n",
    "        y=self.y-other.y\n",
    "        return Point(x,y)\n",
    "    \n",
    "    def __mul__(self,other):\n",
    "        x=self.x*other.x\n",
    "        y=self.y*other.y\n",
    "        return Point(x,y)\n",
    "    \n",
    "    def __truediv__(self,other):\n",
    "        x=self.x/other.x\n",
    "        y=self.y/other.y\n",
    "        return Point(x,y)\n",
    "    \n",
    "    def __eq__(self, other):\n",
    "        return self.x==other.x and self.y==other.y\n",
    "    \n",
    "    def __lt__(self,other):\n",
    "        return self.x<other.x and self.y<other.y\n",
    "    \n",
    "    def __repr__(self):\n",
    "        return f\"({self.x},{self.y})\"\n",
    "    "
   ]
  },
  {
   "cell_type": "code",
   "execution_count": 7,
   "id": "114035ed",
   "metadata": {},
   "outputs": [
    {
     "name": "stdout",
     "output_type": "stream",
     "text": [
      "(8,11)\n",
      "(15,28)\n",
      "(-2,-3)\n",
      "(1.6666666666666667,1.75)\n",
      "True\n"
     ]
    }
   ],
   "source": [
    "p1=Point(3,4)\n",
    "p2=Point(5,7)\n",
    "print(p1+p2)\n",
    "print(p1*p2)\n",
    "print(p1-p2)\n",
    "print(p2/p1)\n",
    "print(p1<p2)\n",
    "\n"
   ]
  },
  {
   "cell_type": "code",
   "execution_count": 11,
   "id": "aaae3c03",
   "metadata": {},
   "outputs": [
    {
     "name": "stdout",
     "output_type": "stream",
     "text": [
      "(5,7)\n"
     ]
    }
   ],
   "source": []
  },
  {
   "cell_type": "code",
   "execution_count": null,
   "id": "2469667c",
   "metadata": {},
   "outputs": [],
   "source": []
  }
 ],
 "metadata": {
  "kernelspec": {
   "display_name": "Python 3 (ipykernel)",
   "language": "python",
   "name": "python3"
  },
  "language_info": {
   "codemirror_mode": {
    "name": "ipython",
    "version": 3
   },
   "file_extension": ".py",
   "mimetype": "text/x-python",
   "name": "python",
   "nbconvert_exporter": "python",
   "pygments_lexer": "ipython3",
   "version": "3.11.3"
  }
 },
 "nbformat": 4,
 "nbformat_minor": 5
}
