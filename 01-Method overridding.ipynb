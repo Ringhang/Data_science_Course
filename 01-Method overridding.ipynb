{
 "cells": [
  {
   "cell_type": "code",
   "execution_count": 1,
   "id": "bd0caee9",
   "metadata": {},
   "outputs": [],
   "source": [
    "class Animal:\n",
    "    def sound(self):\n",
    "        print('making some sound....')\n",
    "class Dog:\n",
    "    def sound(self):\n",
    "        print('making sound woooo....')\n",
    "class Cat:\n",
    "    def sound(self):\n",
    "        print('making sound mewoooo....')\n",
    "        "
   ]
  },
  {
   "cell_type": "code",
   "execution_count": 8,
   "id": "4a608388",
   "metadata": {},
   "outputs": [],
   "source": [
    "animal=Animal()\n",
    "dog=Dog()\n",
    "cat=Cat()"
   ]
  },
  {
   "cell_type": "code",
   "execution_count": 9,
   "id": "5912b8ff",
   "metadata": {},
   "outputs": [
    {
     "name": "stdout",
     "output_type": "stream",
     "text": [
      "making sound mewoooo....\n"
     ]
    }
   ],
   "source": [
    "cat.sound()"
   ]
  },
  {
   "cell_type": "code",
   "execution_count": 10,
   "id": "dc9b9b49",
   "metadata": {},
   "outputs": [
    {
     "name": "stdout",
     "output_type": "stream",
     "text": [
      "making sound woooo....\n"
     ]
    }
   ],
   "source": [
    "dog.sound()"
   ]
  },
  {
   "cell_type": "code",
   "execution_count": 22,
   "id": "dde1c32d",
   "metadata": {},
   "outputs": [],
   "source": [
    "class Animal:\n",
    "    def sound(self):\n",
    "        print('making some sound....')\n",
    "class Base2:\n",
    "    def sound(self):\n",
    "        print('Base2 sound....')\n",
    "class Dog(Animal,Base2):\n",
    "    def speak(self):\n",
    "        print('Barking....')\n",
    "        "
   ]
  },
  {
   "cell_type": "code",
   "execution_count": 23,
   "id": "7599358e",
   "metadata": {},
   "outputs": [
    {
     "name": "stdout",
     "output_type": "stream",
     "text": [
      "making some sound....\n"
     ]
    }
   ],
   "source": [
    "animal=Animal()\n",
    "animal.sound()"
   ]
  },
  {
   "cell_type": "code",
   "execution_count": 26,
   "id": "21cb2543",
   "metadata": {},
   "outputs": [
    {
     "name": "stdout",
     "output_type": "stream",
     "text": [
      "Barking....\n",
      "making some sound....\n"
     ]
    }
   ],
   "source": [
    " dog = Dog()\n",
    " dog.speak()\n",
    " dog.sound()"
   ]
  },
  {
   "cell_type": "code",
   "execution_count": 36,
   "id": "468d722f",
   "metadata": {},
   "outputs": [],
   "source": [
    "#accessing both mehtod using super()\n",
    "class Parent:\n",
    "    def say_hello(self):\n",
    "        print(\"Hello from child\")\n",
    "class Child(Parent):\n",
    "    def say_hello(self):\n",
    "        print(\"hello from child\")\n",
    "        super().say_hello() #calls overrideen method in the parent class"
   ]
  },
  {
   "cell_type": "code",
   "execution_count": 37,
   "id": "0323eab2",
   "metadata": {},
   "outputs": [
    {
     "name": "stdout",
     "output_type": "stream",
     "text": [
      "hello from child\n",
      "Hello from child\n"
     ]
    }
   ],
   "source": [
    "obj=Child()\n",
    "obj.say_hello()"
   ]
  },
  {
   "cell_type": "code",
   "execution_count": null,
   "id": "6a414477",
   "metadata": {},
   "outputs": [],
   "source": []
  },
  {
   "cell_type": "code",
   "execution_count": null,
   "id": "5e5f6200",
   "metadata": {},
   "outputs": [],
   "source": []
  }
 ],
 "metadata": {
  "kernelspec": {
   "display_name": "Python 3 (ipykernel)",
   "language": "python",
   "name": "python3"
  },
  "language_info": {
   "codemirror_mode": {
    "name": "ipython",
    "version": 3
   },
   "file_extension": ".py",
   "mimetype": "text/x-python",
   "name": "python",
   "nbconvert_exporter": "python",
   "pygments_lexer": "ipython3",
   "version": "3.11.3"
  }
 },
 "nbformat": 4,
 "nbformat_minor": 5
}
