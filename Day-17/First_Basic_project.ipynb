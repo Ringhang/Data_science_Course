{
 "cells": [
  {
   "cell_type": "markdown",
   "id": "b3145da7",
   "metadata": {},
   "source": [
    "# Problem Statement\n",
    "we want to build an online shopping cart system that allows user to add products to their \n",
    "cart, calculate the total cost apply discoutns, and generate an invoice. The system should\n",
    "include the \n",
    "following functionalities \n",
    "- Adding prodcuts to the cart\n",
    "- Removing products from teh cart \n",
    "- Calculating teh total cost\n",
    "- Applying discounts based on user type \n",
    "- Generating an invoice"
   ]
  },
  {
   "cell_type": "code",
   "execution_count": 32,
   "id": "03ef02ab",
   "metadata": {},
   "outputs": [],
   "source": [
    "class Product:\n",
    "    def __init__(self,name,price):\n",
    "        self.name=name\n",
    "        self.price=price\n",
    "        "
   ]
  },
  {
   "cell_type": "code",
   "execution_count": 33,
   "id": "e6652625",
   "metadata": {},
   "outputs": [],
   "source": [
    "class user:\n",
    "    def __init__(self, name, is_premium=False):\n",
    "        self.name=name\n",
    "        self.is_premium"
   ]
  },
  {
   "cell_type": "code",
   "execution_count": 34,
   "id": "1dea579a",
   "metadata": {},
   "outputs": [],
   "source": [
    "def discount_10_percent(func):\n",
    "    def wrapper(self):\n",
    "        total_cost=func(self)\n",
    "        discounted_cost=total_cost*0.9\n",
    "        return discounted_cost\n",
    "    return wrapper\n"
   ]
  },
  {
   "cell_type": "code",
   "execution_count": null,
   "id": "7515e6e6",
   "metadata": {},
   "outputs": [],
   "source": []
  },
  {
   "cell_type": "code",
   "execution_count": 35,
   "id": "6d70704d",
   "metadata": {},
   "outputs": [],
   "source": [
    "# creating shopping cart\n",
    "class ShoppingCart:\n",
    "    def __init__(self):\n",
    "        self.products=[]\n",
    "        \n",
    "    def add_product(self,product):\n",
    "        self.products.append(product)\n",
    "        \n",
    "    def remove_product(self,product):\n",
    "        self.products.remove(product)\n",
    "        \n",
    "    def calculat_total_cost(self):\n",
    "        total_cost=sum(product.price for product in self.products)\n",
    "        return total_cost\n",
    "    \n",
    "    @discount_10_percent\n",
    "    def calculate_discounted_cost(self):\n",
    "        total_cost=sum(product.price for product in self.products)\n",
    "        return tota_cost\n",
    "    \n",
    "    def generate_inovice(sef,user):\n",
    "        invoice=f\"Invoice for {user.name}:\\n\"\n",
    "        invoice +=\"======================\\n\"\n",
    "        for product in self.products:\n",
    "            invoice += f\"{product.name}: ${product.price}\\n\"\n",
    "        total_cost=self.calculate_total_cost()\n",
    "        if  user.is_premium:\n",
    "            invoice += \"---------------------\\n\"\n",
    "            invoice +=f\"Sub-Total: $ {total_cost}\\n\"\n",
    "            invoice += f\"Discount (10%): ${total_cost-final_cost}\\n\"\n",
    "            total_cost=fianl_cost\n",
    "        invoice += \"---------------------------\\n\"\n",
    "        invoice += f\"Total : ${total_cost}\"\n",
    "        return invoice\n",
    "    \n",
    "    def get_products(self):\n",
    "        yield from self.products\n",
    "        #for product in self.products:\n",
    "            #yield_product\n",
    "            \n",
    "        "
   ]
  },
  {
   "cell_type": "code",
   "execution_count": 37,
   "id": "6eca5a59",
   "metadata": {},
   "outputs": [
    {
     "ename": "NameError",
     "evalue": "name 'product1' is not defined",
     "output_type": "error",
     "traceback": [
      "\u001b[1;31m---------------------------------------------------------------------------\u001b[0m",
      "\u001b[1;31mNameError\u001b[0m                                 Traceback (most recent call last)",
      "Cell \u001b[1;32mIn[37], line 10\u001b[0m\n\u001b[0;32m      7\u001b[0m cart\u001b[38;5;241m=\u001b[39mShoppingCart()\n\u001b[0;32m      9\u001b[0m \u001b[38;5;66;03m#Add products to the cart\u001b[39;00m\n\u001b[1;32m---> 10\u001b[0m cart\u001b[38;5;241m.\u001b[39madd_product(\u001b[43mproduct1\u001b[49m)\n\u001b[0;32m     11\u001b[0m cart\u001b[38;5;241m.\u001b[39madd_product(product2)\n\u001b[0;32m     13\u001b[0m \u001b[38;5;66;03m#use the generator to iterate over the poducts \u001b[39;00m\n",
      "\u001b[1;31mNameError\u001b[0m: name 'product1' is not defined"
     ]
    }
   ],
   "source": [
    "# Create some products:\n",
    "prodcut1=Product(\"Shirt\", 20)\n",
    "prodcut2=Product(\"Pants\", 30)\n",
    "prodcut3=Product(\"Shoes\", 50)\n",
    "\n",
    "#create a shopping_cart\n",
    "cart=ShoppingCart()\n",
    "\n",
    "#Add products to the cart\n",
    "cart.add_product(product1)\n",
    "cart.add_product(product2)\n",
    "\n",
    "#use the generator to iterate over the poducts \n",
    "for product in cart.get_products():\n",
    "    print(f\"Product: {product.name}, Price: {product.pirce}\")"
   ]
  },
  {
   "cell_type": "markdown",
   "id": "032c3c62",
   "metadata": {},
   "source": [
    "# Non Premiumm or Regual users"
   ]
  },
  {
   "cell_type": "code",
   "execution_count": 36,
   "id": "eb6cc095",
   "metadata": {},
   "outputs": [
    {
     "ename": "NameError",
     "evalue": "name 'User' is not defined",
     "output_type": "error",
     "traceback": [
      "\u001b[1;31m---------------------------------------------------------------------------\u001b[0m",
      "\u001b[1;31mNameError\u001b[0m                                 Traceback (most recent call last)",
      "Cell \u001b[1;32mIn[36], line 2\u001b[0m\n\u001b[0;32m      1\u001b[0m \u001b[38;5;66;03m# Create  a user \u001b[39;00m\n\u001b[1;32m----> 2\u001b[0m user \u001b[38;5;241m=\u001b[39m\u001b[43mUser\u001b[49m(\u001b[38;5;124m\"\u001b[39m\u001b[38;5;124mRam\u001b[39m\u001b[38;5;124m\"\u001b[39m, is_premium\u001b[38;5;241m=\u001b[39m\u001b[38;5;28;01mFalse\u001b[39;00m)\n\u001b[0;32m      4\u001b[0m \u001b[38;5;66;03m#generate and print the invoice\u001b[39;00m\n\u001b[0;32m      5\u001b[0m invoice \u001b[38;5;241m=\u001b[39mcart\u001b[38;5;241m.\u001b[39mgenerate_invoice(user)\n",
      "\u001b[1;31mNameError\u001b[0m: name 'User' is not defined"
     ]
    }
   ],
   "source": [
    "# Create  a user \n",
    "user =User(\"Ram\", is_premium=False)\n",
    "\n",
    "#generate and print the invoice\n",
    "invoice =cart.generate_invoice(user)\n",
    "print(invoice)"
   ]
  },
  {
   "cell_type": "code",
   "execution_count": null,
   "id": "0ff0fc60",
   "metadata": {},
   "outputs": [],
   "source": []
  },
  {
   "cell_type": "markdown",
   "id": "c6e49f6d",
   "metadata": {},
   "source": [
    "# Premium Users\n"
   ]
  },
  {
   "cell_type": "code",
   "execution_count": 31,
   "id": "e46d73e2",
   "metadata": {},
   "outputs": [
    {
     "ename": "NameError",
     "evalue": "name 'User' is not defined",
     "output_type": "error",
     "traceback": [
      "\u001b[1;31m---------------------------------------------------------------------------\u001b[0m",
      "\u001b[1;31mNameError\u001b[0m                                 Traceback (most recent call last)",
      "Cell \u001b[1;32mIn[31], line 2\u001b[0m\n\u001b[0;32m      1\u001b[0m \u001b[38;5;66;03m# Create a user\u001b[39;00m\n\u001b[1;32m----> 2\u001b[0m user \u001b[38;5;241m=\u001b[39m\u001b[43mUser\u001b[49m (\u001b[38;5;124m\"\u001b[39m\u001b[38;5;124mJhon\u001b[39m\u001b[38;5;124m\"\u001b[39m, is_premium\u001b[38;5;241m=\u001b[39m\u001b[38;5;28;01mTrue\u001b[39;00m)\n\u001b[0;32m      4\u001b[0m \u001b[38;5;66;03m# Generate and priont the invoice\u001b[39;00m\n\u001b[0;32m      6\u001b[0m invoice\u001b[38;5;241m=\u001b[39m cart\u001b[38;5;241m.\u001b[39mgenerate_invoice(user)\n",
      "\u001b[1;31mNameError\u001b[0m: name 'User' is not defined"
     ]
    }
   ],
   "source": [
    "# Create a user\n",
    "user =User (\"Jhon\", is_premium=True)\n",
    "\n",
    "# Generate and print the invoice\n",
    "\n",
    "invoice= cart.generate_invoice(user)\n",
    "print(invoice)"
   ]
  },
  {
   "cell_type": "code",
   "execution_count": null,
   "id": "a8b63693",
   "metadata": {},
   "outputs": [],
   "source": []
  },
  {
   "cell_type": "code",
   "execution_count": null,
   "id": "afdd65f8",
   "metadata": {},
   "outputs": [],
   "source": []
  },
  {
   "cell_type": "code",
   "execution_count": null,
   "id": "e403aba2",
   "metadata": {},
   "outputs": [],
   "source": []
  },
  {
   "cell_type": "code",
   "execution_count": null,
   "id": "2dd8902d",
   "metadata": {},
   "outputs": [],
   "source": []
  }
 ],
 "metadata": {
  "kernelspec": {
   "display_name": "Python 3 (ipykernel)",
   "language": "python",
   "name": "python3"
  },
  "language_info": {
   "codemirror_mode": {
    "name": "ipython",
    "version": 3
   },
   "file_extension": ".py",
   "mimetype": "text/x-python",
   "name": "python",
   "nbconvert_exporter": "python",
   "pygments_lexer": "ipython3",
   "version": "3.11.3"
  }
 },
 "nbformat": 4,
 "nbformat_minor": 5
}
