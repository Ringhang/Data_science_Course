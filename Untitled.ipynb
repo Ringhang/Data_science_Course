{
 "cells": [
  {
   "cell_type": "raw",
   "id": "ef677377",
   "metadata": {},
   "source": [
    "# Define three sequences(with numeric values) having different length, and calculate sum of each sequence individualy"
   ]
  },
  {
   "cell_type": "code",
   "execution_count": 4,
   "id": "67891696",
   "metadata": {},
   "outputs": [],
   "source": [
    "def sum_cal(*args):\n",
    "    sum=0\n",
    "    for i in args:\n",
    "        sum +=i\n",
    "        return sum"
   ]
  },
  {
   "cell_type": "code",
   "execution_count": 7,
   "id": "3ef0f66d",
   "metadata": {},
   "outputs": [
    {
     "name": "stdout",
     "output_type": "stream",
     "text": [
      "6\n"
     ]
    }
   ],
   "source": [
    "a=[1,2,3]\n",
    "b=[1,2,3,4]\n",
    "c=[5,6,7,8,9,1]\n"
   ]
  },
  {
   "cell_type": "code",
   "execution_count": 10,
   "id": "a7000686",
   "metadata": {},
   "outputs": [
    {
     "name": "stdout",
     "output_type": "stream",
     "text": [
      "10\n"
     ]
    }
   ],
   "source": [
    "print(sum(b))"
   ]
  },
  {
   "cell_type": "code",
   "execution_count": 2,
   "id": "412eeb80",
   "metadata": {},
   "outputs": [],
   "source": []
  },
  {
   "cell_type": "code",
   "execution_count": null,
   "id": "3b33e552",
   "metadata": {},
   "outputs": [],
   "source": []
  },
  {
   "cell_type": "code",
   "execution_count": null,
   "id": "49c8707e",
   "metadata": {},
   "outputs": [],
   "source": []
  },
  {
   "cell_type": "code",
   "execution_count": null,
   "id": "43c41fb4",
   "metadata": {},
   "outputs": [],
   "source": []
  }
 ],
 "metadata": {
  "kernelspec": {
   "display_name": "Python 3 (ipykernel)",
   "language": "python",
   "name": "python3"
  },
  "language_info": {
   "codemirror_mode": {
    "name": "ipython",
    "version": 3
   },
   "file_extension": ".py",
   "mimetype": "text/x-python",
   "name": "python",
   "nbconvert_exporter": "python",
   "pygments_lexer": "ipython3",
   "version": "3.11.3"
  }
 },
 "nbformat": 4,
 "nbformat_minor": 5
}
