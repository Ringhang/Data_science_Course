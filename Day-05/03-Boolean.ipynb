{
 "cells": [
  {
   "cell_type": "markdown",
   "id": "c5a49112",
   "metadata": {},
   "source": [
    "# Boolean Data type\n",
    "True or False"
   ]
  },
  {
   "cell_type": "code",
   "execution_count": 1,
   "id": "196822ee",
   "metadata": {},
   "outputs": [],
   "source": [
    "s=19\n",
    "m=13"
   ]
  },
  {
   "cell_type": "code",
   "execution_count": 2,
   "id": "7f4c6bb3",
   "metadata": {},
   "outputs": [
    {
     "data": {
      "text/plain": [
       "True"
      ]
     },
     "execution_count": 2,
     "metadata": {},
     "output_type": "execute_result"
    }
   ],
   "source": [
    "s>m"
   ]
  },
  {
   "cell_type": "code",
   "execution_count": 4,
   "id": "e6665d76",
   "metadata": {},
   "outputs": [
    {
     "data": {
      "text/plain": [
       "False"
      ]
     },
     "execution_count": 4,
     "metadata": {},
     "output_type": "execute_result"
    }
   ],
   "source": [
    "s<m"
   ]
  },
  {
   "cell_type": "markdown",
   "id": "90ce917f",
   "metadata": {},
   "source": [
    "# Boolean Operations\n",
    "and   or not"
   ]
  },
  {
   "cell_type": "code",
   "execution_count": 11,
   "id": "fbc5e794",
   "metadata": {},
   "outputs": [],
   "source": [
    "p=True\n",
    "q=False\n",
    "r=True\n",
    "o=False"
   ]
  },
  {
   "cell_type": "code",
   "execution_count": 9,
   "id": "076723c0",
   "metadata": {},
   "outputs": [
    {
     "data": {
      "text/plain": [
       "False"
      ]
     },
     "execution_count": 9,
     "metadata": {},
     "output_type": "execute_result"
    }
   ],
   "source": [
    "p and q"
   ]
  },
  {
   "cell_type": "code",
   "execution_count": 12,
   "id": "7163b927",
   "metadata": {},
   "outputs": [
    {
     "data": {
      "text/plain": [
       "False"
      ]
     },
     "execution_count": 12,
     "metadata": {},
     "output_type": "execute_result"
    }
   ],
   "source": [
    "q and o"
   ]
  },
  {
   "cell_type": "code",
   "execution_count": 13,
   "id": "8d009f22",
   "metadata": {},
   "outputs": [
    {
     "data": {
      "text/plain": [
       "True"
      ]
     },
     "execution_count": 13,
     "metadata": {},
     "output_type": "execute_result"
    }
   ],
   "source": [
    "p or q"
   ]
  },
  {
   "cell_type": "code",
   "execution_count": 14,
   "id": "6374b720",
   "metadata": {},
   "outputs": [
    {
     "data": {
      "text/plain": [
       "True"
      ]
     },
     "execution_count": 14,
     "metadata": {},
     "output_type": "execute_result"
    }
   ],
   "source": [
    "p and not q"
   ]
  },
  {
   "cell_type": "markdown",
   "id": "a61c2b80",
   "metadata": {},
   "source": [
    "# Playing with other Data Types"
   ]
  },
  {
   "cell_type": "code",
   "execution_count": 16,
   "id": "94b2a46d",
   "metadata": {},
   "outputs": [],
   "source": [
    "a=[]\n",
    "b=[1,'ab']\n",
    "c={}\n",
    "d={1,2}\n",
    "e=()\n",
    "f=(3,4)"
   ]
  },
  {
   "cell_type": "code",
   "execution_count": 17,
   "id": "d90a10b0",
   "metadata": {},
   "outputs": [
    {
     "data": {
      "text/plain": [
       "False"
      ]
     },
     "execution_count": 17,
     "metadata": {},
     "output_type": "execute_result"
    }
   ],
   "source": [
    "bool(a)"
   ]
  },
  {
   "cell_type": "code",
   "execution_count": 18,
   "id": "b4f46f25",
   "metadata": {},
   "outputs": [
    {
     "data": {
      "text/plain": [
       "True"
      ]
     },
     "execution_count": 18,
     "metadata": {},
     "output_type": "execute_result"
    }
   ],
   "source": [
    "bool(b)"
   ]
  },
  {
   "cell_type": "code",
   "execution_count": 19,
   "id": "4fc91ad4",
   "metadata": {},
   "outputs": [
    {
     "data": {
      "text/plain": [
       "False"
      ]
     },
     "execution_count": 19,
     "metadata": {},
     "output_type": "execute_result"
    }
   ],
   "source": [
    "bool(c)"
   ]
  },
  {
   "cell_type": "code",
   "execution_count": 20,
   "id": "c5ed637d",
   "metadata": {},
   "outputs": [
    {
     "data": {
      "text/plain": [
       "True"
      ]
     },
     "execution_count": 20,
     "metadata": {},
     "output_type": "execute_result"
    }
   ],
   "source": [
    "bool(d)"
   ]
  },
  {
   "cell_type": "code",
   "execution_count": 21,
   "id": "8e10eafd",
   "metadata": {},
   "outputs": [
    {
     "data": {
      "text/plain": [
       "False"
      ]
     },
     "execution_count": 21,
     "metadata": {},
     "output_type": "execute_result"
    }
   ],
   "source": [
    "bool(e)"
   ]
  },
  {
   "cell_type": "code",
   "execution_count": 22,
   "id": "de84b81b",
   "metadata": {},
   "outputs": [
    {
     "data": {
      "text/plain": [
       "True"
      ]
     },
     "execution_count": 22,
     "metadata": {},
     "output_type": "execute_result"
    }
   ],
   "source": [
    "bool(f)"
   ]
  },
  {
   "cell_type": "code",
   "execution_count": null,
   "id": "bf0ff9a5",
   "metadata": {},
   "outputs": [],
   "source": []
  }
 ],
 "metadata": {
  "kernelspec": {
   "display_name": "Python 3 (ipykernel)",
   "language": "python",
   "name": "python3"
  },
  "language_info": {
   "codemirror_mode": {
    "name": "ipython",
    "version": 3
   },
   "file_extension": ".py",
   "mimetype": "text/x-python",
   "name": "python",
   "nbconvert_exporter": "python",
   "pygments_lexer": "ipython3",
   "version": "3.11.3"
  }
 },
 "nbformat": 4,
 "nbformat_minor": 5
}
