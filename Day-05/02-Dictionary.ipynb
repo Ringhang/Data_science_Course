{
 "cells": [
  {
   "cell_type": "markdown",
   "id": "53d4257f",
   "metadata": {},
   "source": [
    "# Dictionary(Object)\n",
    "{key1:'value1','key2':'value2',....}"
   ]
  },
  {
   "cell_type": "code",
   "execution_count": 32,
   "id": "7c5653f2",
   "metadata": {},
   "outputs": [],
   "source": [
    "a={\n",
    "    1:1,\n",
    "    2:2,\n",
    "    'c':3}"
   ]
  },
  {
   "cell_type": "code",
   "execution_count": 33,
   "id": "9d6e0130",
   "metadata": {},
   "outputs": [
    {
     "data": {
      "text/plain": [
       "{1: 1, 2: 2, 'c': 3}"
      ]
     },
     "execution_count": 33,
     "metadata": {},
     "output_type": "execute_result"
    }
   ],
   "source": [
    "a"
   ]
  },
  {
   "cell_type": "code",
   "execution_count": 27,
   "id": "d89d9d36",
   "metadata": {},
   "outputs": [
    {
     "data": {
      "text/plain": [
       "1"
      ]
     },
     "execution_count": 27,
     "metadata": {},
     "output_type": "execute_result"
    }
   ],
   "source": [
    "a[1]"
   ]
  },
  {
   "cell_type": "code",
   "execution_count": 25,
   "id": "32d2e3b1",
   "metadata": {},
   "outputs": [
    {
     "data": {
      "text/plain": [
       "3"
      ]
     },
     "execution_count": 25,
     "metadata": {},
     "output_type": "execute_result"
    }
   ],
   "source": [
    "a['c']"
   ]
  },
  {
   "cell_type": "code",
   "execution_count": 28,
   "id": "a5cf50fc",
   "metadata": {},
   "outputs": [
    {
     "data": {
      "text/plain": [
       "2"
      ]
     },
     "execution_count": 28,
     "metadata": {},
     "output_type": "execute_result"
    }
   ],
   "source": [
    "a.get(2)"
   ]
  },
  {
   "cell_type": "code",
   "execution_count": null,
   "id": "cfdff0e6",
   "metadata": {},
   "outputs": [],
   "source": []
  },
  {
   "cell_type": "markdown",
   "id": "d88c8195",
   "metadata": {},
   "source": [
    "# Dictionary Methods"
   ]
  },
  {
   "cell_type": "code",
   "execution_count": 34,
   "id": "109122a5",
   "metadata": {},
   "outputs": [
    {
     "data": {
      "text/plain": [
       "dict_keys([1, 2, 'c'])"
      ]
     },
     "execution_count": 34,
     "metadata": {},
     "output_type": "execute_result"
    }
   ],
   "source": [
    "a.keys()"
   ]
  },
  {
   "cell_type": "code",
   "execution_count": 35,
   "id": "8e18cdbe",
   "metadata": {},
   "outputs": [
    {
     "data": {
      "text/plain": [
       "dict_values([1, 2, 3])"
      ]
     },
     "execution_count": 35,
     "metadata": {},
     "output_type": "execute_result"
    }
   ],
   "source": [
    "a.values()"
   ]
  },
  {
   "cell_type": "code",
   "execution_count": 36,
   "id": "e31ea432",
   "metadata": {},
   "outputs": [
    {
     "data": {
      "text/plain": [
       "dict_items([(1, 1), (2, 2), ('c', 3)])"
      ]
     },
     "execution_count": 36,
     "metadata": {},
     "output_type": "execute_result"
    }
   ],
   "source": [
    "a.items()"
   ]
  },
  {
   "cell_type": "code",
   "execution_count": null,
   "id": "c6d591fd",
   "metadata": {},
   "outputs": [],
   "source": []
  },
  {
   "cell_type": "markdown",
   "id": "d507fd43",
   "metadata": {},
   "source": [
    "# Modifying Dictionary"
   ]
  },
  {
   "cell_type": "code",
   "execution_count": 37,
   "id": "b97a44ff",
   "metadata": {},
   "outputs": [],
   "source": [
    "a[1]=5"
   ]
  },
  {
   "cell_type": "code",
   "execution_count": 38,
   "id": "70a83cc7",
   "metadata": {},
   "outputs": [
    {
     "data": {
      "text/plain": [
       "{1: 5, 2: 2, 'c': 3}"
      ]
     },
     "execution_count": 38,
     "metadata": {},
     "output_type": "execute_result"
    }
   ],
   "source": [
    "a"
   ]
  },
  {
   "cell_type": "code",
   "execution_count": 39,
   "id": "6123cc45",
   "metadata": {},
   "outputs": [],
   "source": [
    "a['s']='santosh rai'"
   ]
  },
  {
   "cell_type": "code",
   "execution_count": 40,
   "id": "d79f896f",
   "metadata": {},
   "outputs": [
    {
     "data": {
      "text/plain": [
       "{1: 5, 2: 2, 'c': 3, 's': 'santosh rai'}"
      ]
     },
     "execution_count": 40,
     "metadata": {},
     "output_type": "execute_result"
    }
   ],
   "source": [
    "a"
   ]
  },
  {
   "cell_type": "markdown",
   "id": "9202ed33",
   "metadata": {},
   "source": []
  },
  {
   "cell_type": "code",
   "execution_count": 1,
   "id": "e4da063c",
   "metadata": {},
   "outputs": [],
   "source": [
    "dictionary={\n",
    "    \n",
    "    'dic':19,\n",
    "    'msg':'practice',\n",
    "    'mod':'hello'\n",
    "}"
   ]
  },
  {
   "cell_type": "code",
   "execution_count": 2,
   "id": "7f0b003a",
   "metadata": {},
   "outputs": [
    {
     "data": {
      "text/plain": [
       "['dic', 'mod', 'msg']"
      ]
     },
     "execution_count": 2,
     "metadata": {},
     "output_type": "execute_result"
    }
   ],
   "source": [
    "sorted(dictionary)"
   ]
  },
  {
   "cell_type": "code",
   "execution_count": null,
   "id": "2ef9efd4",
   "metadata": {},
   "outputs": [],
   "source": []
  },
  {
   "cell_type": "code",
   "execution_count": null,
   "id": "569df6da",
   "metadata": {},
   "outputs": [],
   "source": []
  },
  {
   "cell_type": "code",
   "execution_count": null,
   "id": "e8370c62",
   "metadata": {},
   "outputs": [],
   "source": []
  },
  {
   "cell_type": "code",
   "execution_count": null,
   "id": "471aba4f",
   "metadata": {},
   "outputs": [],
   "source": []
  },
  {
   "cell_type": "code",
   "execution_count": null,
   "id": "41bd0af1",
   "metadata": {},
   "outputs": [],
   "source": []
  }
 ],
 "metadata": {
  "kernelspec": {
   "display_name": "Python 3 (ipykernel)",
   "language": "python",
   "name": "python3"
  },
  "language_info": {
   "codemirror_mode": {
    "name": "ipython",
    "version": 3
   },
   "file_extension": ".py",
   "mimetype": "text/x-python",
   "name": "python",
   "nbconvert_exporter": "python",
   "pygments_lexer": "ipython3",
   "version": "3.11.3"
  }
 },
 "nbformat": 4,
 "nbformat_minor": 5
}
