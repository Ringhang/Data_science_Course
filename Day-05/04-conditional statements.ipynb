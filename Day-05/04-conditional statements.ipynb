{
 "cells": [
  {
   "cell_type": "markdown",
   "id": "7f3157d5",
   "metadata": {},
   "source": [
    "# Conditional statements\n",
    "Syntax\n",
    "```python\n",
    "if condition:\n",
    "    Do something\n",
    " else:\n",
    "     Do something ELSE\n",
    "```"
   ]
  },
  {
   "cell_type": "code",
   "execution_count": 10,
   "id": "e5a20ea1",
   "metadata": {},
   "outputs": [
    {
     "name": "stdout",
     "output_type": "stream",
     "text": [
      "Enter any number:19\n"
     ]
    }
   ],
   "source": [
    "a= int(input('Enter any number:'))"
   ]
  },
  {
   "cell_type": "code",
   "execution_count": 18,
   "id": "a349a14c",
   "metadata": {},
   "outputs": [
    {
     "data": {
      "text/plain": [
       "19"
      ]
     },
     "execution_count": 18,
     "metadata": {},
     "output_type": "execute_result"
    }
   ],
   "source": [
    "a\n"
   ]
  },
  {
   "cell_type": "code",
   "execution_count": null,
   "id": "6a6f4f68",
   "metadata": {},
   "outputs": [],
   "source": []
  },
  {
   "cell_type": "code",
   "execution_count": 13,
   "id": "b8a2aa72",
   "metadata": {},
   "outputs": [
    {
     "data": {
      "text/plain": [
       "int"
      ]
     },
     "execution_count": 13,
     "metadata": {},
     "output_type": "execute_result"
    }
   ],
   "source": [
    "type(a)"
   ]
  },
  {
   "cell_type": "code",
   "execution_count": 15,
   "id": "2f5391c6",
   "metadata": {},
   "outputs": [
    {
     "name": "stdout",
     "output_type": "stream",
     "text": [
      "19 is a positve number\n"
     ]
    }
   ],
   "source": [
    "if a>0:\n",
    "    print(f'{a} is a positve number')\n",
    "else:\n",
    "        print(f'{a} is a not positve number')"
   ]
  },
  {
   "cell_type": "markdown",
   "id": "e0f42f6b",
   "metadata": {},
   "source": [
    "# Multiple Conditions\n",
    "```pythonn\n",
    "if Condition1:\n",
    "    do something\n",
    "elif condtion2:\n",
    "    do somethingelse\n",
    "elif ...\n",
    ".\n",
    ".\n",
    ".\n",
    "else:\n",
    "Do something else\n",
    "```\n"
   ]
  },
  {
   "cell_type": "code",
   "execution_count": 20,
   "id": "12d07e49",
   "metadata": {},
   "outputs": [
    {
     "name": "stdout",
     "output_type": "stream",
     "text": [
      "19 is a positve ineger\n"
     ]
    }
   ],
   "source": [
    "if a>0:\n",
    "    print(f'{a} is a positve ineger')\n",
    "elif a==0:\n",
    "    print(f'{a} is non negative number')\n",
    "else:\n",
    "    print(f'{a} is negative number')\n",
    "    "
   ]
  },
  {
   "cell_type": "code",
   "execution_count": null,
   "id": "b6c144bd",
   "metadata": {},
   "outputs": [],
   "source": []
  },
  {
   "cell_type": "code",
   "execution_count": 30,
   "id": "c31e5a2a",
   "metadata": {},
   "outputs": [
    {
     "name": "stdout",
     "output_type": "stream",
     "text": [
      "Enter any number101\n",
      "101 is large number\n"
     ]
    }
   ],
   "source": [
    "s=int(input('Enter any number'))\n",
    "if s>0:\n",
    "    if s>100:\n",
    "        print(f'{s} is large number')\n",
    "    else:       \n",
    "        print(f'{s} is a positve ineger')\n",
    "elif a==0:\n",
    "    print(f'{s} is non negative number')\n",
    "else:\n",
    "    print(f'{s} is negative number')\n",
    "    "
   ]
  },
  {
   "cell_type": "code",
   "execution_count": null,
   "id": "ca589155",
   "metadata": {},
   "outputs": [],
   "source": []
  },
  {
   "cell_type": "code",
   "execution_count": 31,
   "id": "396599c7",
   "metadata": {},
   "outputs": [
    {
     "ename": "SyntaxError",
     "evalue": "expected ':' (1797175774.py, line 9)",
     "output_type": "error",
     "traceback": [
      "\u001b[1;36m  Cell \u001b[1;32mIn[31], line 9\u001b[1;36m\u001b[0m\n\u001b[1;33m    else s<-100:\u001b[0m\n\u001b[1;37m         ^\u001b[0m\n\u001b[1;31mSyntaxError\u001b[0m\u001b[1;31m:\u001b[0m expected ':'\n"
     ]
    }
   ],
   "source": [
    "s=int(input('Enter any number'))\n",
    "if s>0:\n",
    "    if s>100:\n",
    "        print(f'{s} is large number')\n",
    "    else:       \n",
    "        print(f'{s} is a positve ineger')\n",
    "elif a==0:\n",
    "    print(f'{s} is non negative number')\n",
    "else:\n",
    "    if s<-100:\n",
    "    print(f'{s} is largest negative number')\n",
    "    "
   ]
  },
  {
   "cell_type": "code",
   "execution_count": null,
   "id": "940dfe75",
   "metadata": {},
   "outputs": [],
   "source": []
  },
  {
   "cell_type": "code",
   "execution_count": null,
   "id": "ecaa5c53",
   "metadata": {},
   "outputs": [],
   "source": []
  },
  {
   "cell_type": "code",
   "execution_count": null,
   "id": "3bd0795c",
   "metadata": {},
   "outputs": [],
   "source": []
  }
 ],
 "metadata": {
  "kernelspec": {
   "display_name": "Python 3 (ipykernel)",
   "language": "python",
   "name": "python3"
  },
  "language_info": {
   "codemirror_mode": {
    "name": "ipython",
    "version": 3
   },
   "file_extension": ".py",
   "mimetype": "text/x-python",
   "name": "python",
   "nbconvert_exporter": "python",
   "pygments_lexer": "ipython3",
   "version": "3.11.3"
  }
 },
 "nbformat": 4,
 "nbformat_minor": 5
}
