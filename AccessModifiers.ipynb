{
 "cells": [
  {
   "cell_type": "code",
   "execution_count": 27,
   "id": "f55664f6",
   "metadata": {},
   "outputs": [],
   "source": [
    "class Example:\n",
    "    def __init__(self):\n",
    "        self.public_var=3\n",
    "        self._protected_var=5\n",
    "        self.__private_var=10\n",
    "        \n",
    "    def public _mehtods(self):\n",
    "        print(\"hello in public method\")\n",
    "        print(self.__private_var)\n",
    "        \n",
    "        \n",
    "    def _protected_methods(self):\n",
    "        print(\"hello i am protected method\")\n",
    "        \n",
    "    def __private_methods(self):\n",
    "        print(\"hello in private method\")\n",
    "        "
   ]
  },
  {
   "cell_type": "code",
   "execution_count": 41,
   "id": "b2b87e09",
   "metadata": {},
   "outputs": [],
   "source": [
    "class SubClass(Example):\n",
    "    def __init__(self):\n",
    "        super().__init__()\n",
    "    \n",
    "    def get_public_member(self):\n",
    "        print(self.public_var)\n",
    "        #print(self.__private_var)\n",
    "        \n",
    "    def get_protected_member(self):\n",
    "        #self.__private_method\n",
    "        print(self.protected var)\n",
    "        \n",
    "    \n",
    "    def get_private_member(self):\n",
    "        print(self.__private_var)"
   ]
  },
  {
   "cell_type": "code",
   "execution_count": 42,
   "id": "44527acb",
   "metadata": {},
   "outputs": [],
   "source": [
    "sub=SubClass()\n",
    "sub.get_public_member()\n",
    "sub.get_porotected_member() #access  through subclass instances but nor private\n",
    "sub.get_private_method()"
   ]
  },
  {
   "cell_type": "code",
   "execution_count": 31,
   "id": "f7d3db74",
   "metadata": {},
   "outputs": [],
   "source": [
    "ex=Example()\n",
    "ex.public_mehtod()  #protected is accessed through instace also that from object but not private\n",
    "ex._proteected_method()\n",
    "#ex._private_method()"
   ]
  },
  {
   "cell_type": "code",
   "execution_count": null,
   "id": "800468e9",
   "metadata": {},
   "outputs": [],
   "source": []
  },
  {
   "cell_type": "code",
   "execution_count": null,
   "id": "dc9c64ab",
   "metadata": {},
   "outputs": [],
   "source": []
  },
  {
   "cell_type": "code",
   "execution_count": null,
   "id": "77612765",
   "metadata": {},
   "outputs": [],
   "source": []
  }
 ],
 "metadata": {
  "kernelspec": {
   "display_name": "Python 3 (ipykernel)",
   "language": "python",
   "name": "python3"
  },
  "language_info": {
   "codemirror_mode": {
    "name": "ipython",
    "version": 3
   },
   "file_extension": ".py",
   "mimetype": "text/x-python",
   "name": "python",
   "nbconvert_exporter": "python",
   "pygments_lexer": "ipython3",
   "version": "3.11.3"
  }
 },
 "nbformat": 4,
 "nbformat_minor": 5
}
